{
 "cells": [
  {
   "cell_type": "markdown",
   "metadata": {},
   "source": [
    "Analyzing twitter data for network quality in Rwanda\n",
    "\n",
    "Today, When people are bored at their house with this locked down one of my friend KennessaJr tweeted that he want \n",
    "to collect statistics about network usage in Rwanda, and he was lucky to collect around 200 hundred tweets where people where twittig about their internet quality and Location,\n",
    "I found that it may be better to collect those tweets and run a data analysis on them and see how is the mobile internet network in Kigali.\n",
    "\n",
    "In this book I will do an end to end Data Analysis project where I will collect data from tweets , clean them using regulars expressions and analyse them to ask the following question.\n",
    "- Which provider has the fatest mobile internet in Kigali\n",
    "- Which area has the best internet in Kigali\n",
    "- What are mobile internet providers in Kigali?\n",
    "\n",
    "Answer to those questions may help us to find the best ISP in Rwanda as of now.\n",
    "Let start:\n"
   ]
  },
  {
   "cell_type": "markdown",
   "metadata": {},
   "source": [
    "#### I.  Collecting Data"
   ]
  },
  {
   "cell_type": "markdown",
   "metadata": {},
   "source": [
    "I will be collecting Data from a tweet posted by @KenessaJr on tweeter and start analyzing them."
   ]
  },
  {
   "cell_type": "code",
   "execution_count": 2,
   "metadata": {},
   "outputs": [],
   "source": [
    "import os\n",
    "from tweepy import OAuthHandler, API, Cursor, RateLimitError, TweepError\n",
    "from dotenv import load_dotenv\n",
    "import logging"
   ]
  },
  {
   "cell_type": "code",
   "execution_count": 3,
   "metadata": {},
   "outputs": [],
   "source": [
    "logging.basicConfig(level=logging.INFO)\n",
    "logger = logging.getLogger()"
   ]
  },
  {
   "cell_type": "markdown",
   "metadata": {},
   "source": [
    "https://twitter.com/kenessajr/status/1246014150033248257\n",
    "https://twitter.com/kenessajr/status/1246013771073626112"
   ]
  },
  {
   "cell_type": "code",
   "execution_count": 88,
   "metadata": {},
   "outputs": [
    {
     "output_type": "error",
     "ename": "SyntaxError",
     "evalue": "invalid syntax (<ipython-input-88-d01dbe06b95a>, line 1)",
     "traceback": [
      "\u001b[0;36m  File \u001b[0;32m\"<ipython-input-88-d01dbe06b95a>\"\u001b[0;36m, line \u001b[0;32m1\u001b[0m\n\u001b[0;31m    ../../.env\u001b[0m\n\u001b[0m    ^\u001b[0m\n\u001b[0;31mSyntaxError\u001b[0m\u001b[0;31m:\u001b[0m invalid syntax\n"
     ]
    }
   ],
   "source": []
  },
  {
   "cell_type": "code",
   "execution_count": 89,
   "metadata": {},
   "outputs": [],
   "source": [
    "def read_credentials():\n",
    "    \"\"\"\n",
    "    Return users os.getenv from the environnement variable\n",
    "    raise a an exception if the os.getenv are empty\n",
    "\n",
    "    Raises:\n",
    "        NotImplementedError: (description]\n",
    "    \"\"\"\n",
    "    load_dotenv('../../.env')\n",
    "    consumer_key = os.getenv('TWITTER_CONSUMER_KEY')\n",
    "    consumer_secret = os.getenv('TWITTER_CONSUMER_SECRET')\n",
    "    access_token = os.getenv('TWITTER_ACCESS_TOKEN')\n",
    "    access_secret = os.getenv('TWITTER_ACCESS_SECRET')\n",
    "\n",
    "    if all([consumer_key, consumer_secret, access_token, access_secret]):\n",
    "        return {\"consumer_key\": consumer_key,\n",
    "                \"consumer_secret\": consumer_secret,\n",
    "                \"access_token\": access_token,\n",
    "                \"access_secret\": access_secret}\n",
    "    else:\n",
    "        raise ValueError('Please add a .env file and put the os.getenv on it,\\\n",
    "                         refer to the sample')"
   ]
  },
  {
   "cell_type": "code",
   "execution_count": 90,
   "metadata": {},
   "outputs": [],
   "source": [
    "def get_twitter_auth():\n",
    "    \"\"\"Setup Twitter authentication.\n",
    "\n",
    "    Return: tweepy.OAuthHandler object\n",
    "    \"\"\"\n",
    "    try:\n",
    "        credentials = read_credentials()\n",
    "        consumer_key = credentials.get('consumer_key')\n",
    "        consumer_secret = credentials.get('consumer_secret')\n",
    "        access_token = credentials.get('access_token')\n",
    "        access_secret = credentials.get('access_secret')\n",
    "    except KeyError:\n",
    "        logger.error(\"TWITTER_*  not found\\n\")\n",
    "        sys.exit(1)\n",
    "    auth = OAuthHandler(consumer_key, consumer_secret)\n",
    "    auth.set_access_token(access_token, access_secret)\n",
    "    return auth\n",
    "\n",
    "\n",
    "def get_twitter_client():\n",
    "    \"\"\"Setup Twitter API client.\n",
    "\n",
    "    Return: tweepy.API object\n",
    "    \"\"\"\n",
    "    auth = get_twitter_auth()\n",
    "    client = API(auth)\n",
    "    try:\n",
    "        client.verify_credentials()\n",
    "        logger.info(\"Authentication OK\")\n",
    "    except Exception as excp:\n",
    "        logging.error(\"Error during authentication {}\".format(excp))\n",
    "    return client\n",
    ""
   ]
  },
  {
   "cell_type": "code",
   "execution_count": 91,
   "metadata": {},
   "outputs": [
    {
     "output_type": "error",
     "ename": "NameError",
     "evalue": "name 'load_dotenv' is not defined",
     "traceback": [
      "\u001b[0;31m---------------------------------------------------------------------------\u001b[0m",
      "\u001b[0;31mNameError\u001b[0m                                 Traceback (most recent call last)",
      "\u001b[0;32m<ipython-input-91-0c5bfcf2e7fa>\u001b[0m in \u001b[0;36m<module>\u001b[0;34m\u001b[0m\n\u001b[0;32m----> 1\u001b[0;31m \u001b[0mapi\u001b[0m \u001b[0;34m=\u001b[0m \u001b[0mget_twitter_client\u001b[0m\u001b[0;34m(\u001b[0m\u001b[0;34m)\u001b[0m\u001b[0;34m\u001b[0m\u001b[0m\n\u001b[0m",
      "\u001b[0;32m<ipython-input-90-007e06c8f345>\u001b[0m in \u001b[0;36mget_twitter_client\u001b[0;34m()\u001b[0m\n\u001b[1;32m     23\u001b[0m     \u001b[0mReturn\u001b[0m\u001b[0;34m:\u001b[0m \u001b[0mtweepy\u001b[0m\u001b[0;34m.\u001b[0m\u001b[0mAPI\u001b[0m \u001b[0mobject\u001b[0m\u001b[0;34m\u001b[0m\u001b[0m\n\u001b[1;32m     24\u001b[0m     \"\"\"\n\u001b[0;32m---> 25\u001b[0;31m     \u001b[0mauth\u001b[0m \u001b[0;34m=\u001b[0m \u001b[0mget_twitter_auth\u001b[0m\u001b[0;34m(\u001b[0m\u001b[0;34m)\u001b[0m\u001b[0;34m\u001b[0m\u001b[0m\n\u001b[0m\u001b[1;32m     26\u001b[0m     \u001b[0mclient\u001b[0m \u001b[0;34m=\u001b[0m \u001b[0mAPI\u001b[0m\u001b[0;34m(\u001b[0m\u001b[0mauth\u001b[0m\u001b[0;34m)\u001b[0m\u001b[0;34m\u001b[0m\u001b[0m\n\u001b[1;32m     27\u001b[0m     \u001b[0;32mtry\u001b[0m\u001b[0;34m:\u001b[0m\u001b[0;34m\u001b[0m\u001b[0m\n",
      "\u001b[0;32m<ipython-input-90-007e06c8f345>\u001b[0m in \u001b[0;36mget_twitter_auth\u001b[0;34m()\u001b[0m\n\u001b[1;32m      5\u001b[0m     \"\"\"\n\u001b[1;32m      6\u001b[0m     \u001b[0;32mtry\u001b[0m\u001b[0;34m:\u001b[0m\u001b[0;34m\u001b[0m\u001b[0m\n\u001b[0;32m----> 7\u001b[0;31m         \u001b[0mcredentials\u001b[0m \u001b[0;34m=\u001b[0m \u001b[0mread_credentials\u001b[0m\u001b[0;34m(\u001b[0m\u001b[0;34m)\u001b[0m\u001b[0;34m\u001b[0m\u001b[0m\n\u001b[0m\u001b[1;32m      8\u001b[0m         \u001b[0mconsumer_key\u001b[0m \u001b[0;34m=\u001b[0m \u001b[0mcredentials\u001b[0m\u001b[0;34m.\u001b[0m\u001b[0mget\u001b[0m\u001b[0;34m(\u001b[0m\u001b[0;34m'consumer_key'\u001b[0m\u001b[0;34m)\u001b[0m\u001b[0;34m\u001b[0m\u001b[0m\n\u001b[1;32m      9\u001b[0m         \u001b[0mconsumer_secret\u001b[0m \u001b[0;34m=\u001b[0m \u001b[0mcredentials\u001b[0m\u001b[0;34m.\u001b[0m\u001b[0mget\u001b[0m\u001b[0;34m(\u001b[0m\u001b[0;34m'consumer_secret'\u001b[0m\u001b[0;34m)\u001b[0m\u001b[0;34m\u001b[0m\u001b[0m\n",
      "\u001b[0;32m<ipython-input-89-29acd83ffc90>\u001b[0m in \u001b[0;36mread_credentials\u001b[0;34m()\u001b[0m\n\u001b[1;32m      7\u001b[0m         \u001b[0mNotImplementedError\u001b[0m\u001b[0;34m:\u001b[0m \u001b[0;34m(\u001b[0m\u001b[0mdescription\u001b[0m\u001b[0;34m]\u001b[0m\u001b[0;34m\u001b[0m\u001b[0m\n\u001b[1;32m      8\u001b[0m     \"\"\"\n\u001b[0;32m----> 9\u001b[0;31m     \u001b[0mload_dotenv\u001b[0m\u001b[0;34m(\u001b[0m\u001b[0;34m'../../.env'\u001b[0m\u001b[0;34m)\u001b[0m\u001b[0;34m\u001b[0m\u001b[0m\n\u001b[0m\u001b[1;32m     10\u001b[0m     \u001b[0mconsumer_key\u001b[0m \u001b[0;34m=\u001b[0m \u001b[0mos\u001b[0m\u001b[0;34m.\u001b[0m\u001b[0mgetenv\u001b[0m\u001b[0;34m(\u001b[0m\u001b[0;34m'TWITTER_CONSUMER_KEY'\u001b[0m\u001b[0;34m)\u001b[0m\u001b[0;34m\u001b[0m\u001b[0m\n\u001b[1;32m     11\u001b[0m     \u001b[0mconsumer_secret\u001b[0m \u001b[0;34m=\u001b[0m \u001b[0mos\u001b[0m\u001b[0;34m.\u001b[0m\u001b[0mgetenv\u001b[0m\u001b[0;34m(\u001b[0m\u001b[0;34m'TWITTER_CONSUMER_SECRET'\u001b[0m\u001b[0;34m)\u001b[0m\u001b[0;34m\u001b[0m\u001b[0m\n",
      "\u001b[0;31mNameError\u001b[0m: name 'load_dotenv' is not defined"
     ]
    }
   ],
   "source": [
    "api = get_twitter_client()"
   ]
  },
  {
   "cell_type": "code",
   "execution_count": 92,
   "metadata": {},
   "outputs": [],
   "source": [
    "def get_replies_to_tweets(user_name, tweet_id):\n",
    "    replies = Cursor(api.search, q='to:{}'.format(user_name),\n",
    "                     since_id=tweet_id, tweet_mode='extended').items()\n",
    "    replies_data = {'full_text': list(), 'images': list()}\n",
    "    while True:\n",
    "        try:\n",
    "            reply = replies.next()\n",
    "            if not hasattr(reply, 'in_reply_to_status_id_str'):\n",
    "                continue\n",
    "            if str(reply.in_reply_to_status_id) == tweet_id:\n",
    "                replies_data.get('full_text').append(reply.full_text)\n",
    "                if 'media'in reply.entities:\n",
    "                    replies_data.get('images').append([ image.get('media_url') for image in reply.entities.get('media')])\n",
    "                logger.info(\"reply of tweet:{}\".format(reply.full_text))\n",
    "        except RateLimitError as e:\n",
    "            logger.error(\"Twitter api rate limit reached\".format(e))\n",
    "            time.sleep(60)\n",
    "            continue\n",
    "\n",
    "        except TweepError as e:\n",
    "            logger.error(\"Tweepy error occured:{}\".format(e))\n",
    "            break\n",
    "        except StopIteration:\n",
    "            break\n",
    "        except Exception as e:\n",
    "            \n",
    "            logger.exception(\"Failed while fetching replies {}\".format(e))\n",
    "            break\n",
    "    return replies_data"
   ]
  },
  {
   "cell_type": "code",
   "execution_count": 93,
   "metadata": {},
   "outputs": [
    {
     "output_type": "error",
     "ename": "NameError",
     "evalue": "name 'Cursor' is not defined",
     "traceback": [
      "\u001b[0;31m---------------------------------------------------------------------------\u001b[0m",
      "\u001b[0;31mNameError\u001b[0m                                 Traceback (most recent call last)",
      "\u001b[0;32m<ipython-input-93-9b20cd20b116>\u001b[0m in \u001b[0;36m<module>\u001b[0;34m\u001b[0m\n\u001b[0;32m----> 1\u001b[0;31m \u001b[0mreplies\u001b[0m \u001b[0;34m=\u001b[0m \u001b[0mget_replies_to_tweets\u001b[0m\u001b[0;34m(\u001b[0m\u001b[0;34m\"kenessajr\"\u001b[0m\u001b[0;34m,\u001b[0m \u001b[0;34m\"1246013771073626112\"\u001b[0m\u001b[0;34m)\u001b[0m\u001b[0;34m\u001b[0m\u001b[0m\n\u001b[0m",
      "\u001b[0;32m<ipython-input-92-c9e56ffc7f08>\u001b[0m in \u001b[0;36mget_replies_to_tweets\u001b[0;34m(user_name, tweet_id)\u001b[0m\n\u001b[1;32m      1\u001b[0m \u001b[0;32mdef\u001b[0m \u001b[0mget_replies_to_tweets\u001b[0m\u001b[0;34m(\u001b[0m\u001b[0muser_name\u001b[0m\u001b[0;34m,\u001b[0m \u001b[0mtweet_id\u001b[0m\u001b[0;34m)\u001b[0m\u001b[0;34m:\u001b[0m\u001b[0;34m\u001b[0m\u001b[0m\n\u001b[0;32m----> 2\u001b[0;31m     replies = Cursor(api.search, q='to:{}'.format(user_name),\n\u001b[0m\u001b[1;32m      3\u001b[0m                      since_id=tweet_id, tweet_mode='extended').items()\n\u001b[1;32m      4\u001b[0m     \u001b[0mreplies_data\u001b[0m \u001b[0;34m=\u001b[0m \u001b[0;34m{\u001b[0m\u001b[0;34m'full_text'\u001b[0m\u001b[0;34m:\u001b[0m \u001b[0mlist\u001b[0m\u001b[0;34m(\u001b[0m\u001b[0;34m)\u001b[0m\u001b[0;34m,\u001b[0m \u001b[0;34m'images'\u001b[0m\u001b[0;34m:\u001b[0m \u001b[0mlist\u001b[0m\u001b[0;34m(\u001b[0m\u001b[0;34m)\u001b[0m\u001b[0;34m}\u001b[0m\u001b[0;34m\u001b[0m\u001b[0m\n\u001b[1;32m      5\u001b[0m     \u001b[0;32mwhile\u001b[0m \u001b[0;32mTrue\u001b[0m\u001b[0;34m:\u001b[0m\u001b[0;34m\u001b[0m\u001b[0m\n",
      "\u001b[0;31mNameError\u001b[0m: name 'Cursor' is not defined"
     ]
    }
   ],
   "source": [
    "replies = get_replies_to_tweets(\"kenessajr\", \"1246013771073626112\")"
   ]
  },
  {
   "cell_type": "markdown",
   "metadata": {},
   "source": [
    "So far so good we have around 169 data, let collect more from another tweets "
   ]
  },
  {
   "cell_type": "code",
   "execution_count": 94,
   "metadata": {},
   "outputs": [
    {
     "output_type": "error",
     "ename": "NameError",
     "evalue": "name 'replies' is not defined",
     "traceback": [
      "\u001b[0;31m---------------------------------------------------------------------------\u001b[0m",
      "\u001b[0;31mNameError\u001b[0m                                 Traceback (most recent call last)",
      "\u001b[0;32m<ipython-input-94-462f3861e2b8>\u001b[0m in \u001b[0;36m<module>\u001b[0;34m\u001b[0m\n\u001b[0;32m----> 1\u001b[0;31m \u001b[0mreplies\u001b[0m\u001b[0;34m\u001b[0m\u001b[0m\n\u001b[0m",
      "\u001b[0;31mNameError\u001b[0m: name 'replies' is not defined"
     ]
    }
   ],
   "source": [
    "replies"
   ]
  },
  {
   "cell_type": "markdown",
   "metadata": {},
   "source": [
    "Now we have 188 data points I think we can now start our analysis , In the next part we will be using pandas dataframe to store our data and make some analyisis on it ."
   ]
  },
  {
   "cell_type": "code",
   "execution_count": 95,
   "metadata": {},
   "outputs": [],
   "source": [
    "import pandas as pd\n",
    "import re\n",
    "import string"
   ]
  },
  {
   "cell_type": "code",
   "execution_count": 96,
   "metadata": {},
   "outputs": [
    {
     "output_type": "error",
     "ename": "NameError",
     "evalue": "name 'replies' is not defined",
     "traceback": [
      "\u001b[0;31m---------------------------------------------------------------------------\u001b[0m",
      "\u001b[0;31mNameError\u001b[0m                                 Traceback (most recent call last)",
      "\u001b[0;32m<ipython-input-96-ba6e1ac6ebd8>\u001b[0m in \u001b[0;36m<module>\u001b[0;34m\u001b[0m\n\u001b[0;32m----> 1\u001b[0;31m \u001b[0mdata\u001b[0m \u001b[0;34m=\u001b[0m \u001b[0mpd\u001b[0m\u001b[0;34m.\u001b[0m\u001b[0mDataFrame\u001b[0m\u001b[0;34m.\u001b[0m\u001b[0mfrom_dict\u001b[0m\u001b[0;34m(\u001b[0m\u001b[0mreplies\u001b[0m\u001b[0;34m,\u001b[0m\u001b[0morient\u001b[0m\u001b[0;34m=\u001b[0m\u001b[0;34m'index'\u001b[0m\u001b[0;34m)\u001b[0m\u001b[0;34m.\u001b[0m\u001b[0mtranspose\u001b[0m\u001b[0;34m(\u001b[0m\u001b[0;34m)\u001b[0m\u001b[0;34m\u001b[0m\u001b[0m\n\u001b[0m",
      "\u001b[0;31mNameError\u001b[0m: name 'replies' is not defined"
     ]
    }
   ],
   "source": [
    "data = pd.DataFrame.from_dict(replies,orient='index').transpose()"
   ]
  },
  {
   "cell_type": "code",
   "execution_count": 97,
   "metadata": {},
   "outputs": [
    {
     "output_type": "execute_result",
     "data": {
      "text/plain": "   Unnamed: 0     location                   isp     speed  \\\n0           0  Nyamirambo   ['Mango', 'telecom']  4.7 mbps   \n1           1          NaN         ['@airtelrw']       NaN   \n2           2    Kimironko                    []  2.5 Mbps   \n3           3      Kanombe                    []  7.9 Mbps   \n4           4          NaN           ['MTN(3G)']       NaN   \n\n                                              images location_cleaned  \\\n0  ['http://pbs.twimg.com/media/EU1QH7iX0AAi4bN.j...       nyamirambo   \n1  ['http://pbs.twimg.com/media/EU1FpbZWAAA8g6M.j...              NaN   \n2  ['http://pbs.twimg.com/media/EU1Dup5WkAAXRpk.j...        kimironko   \n3  ['http://pbs.twimg.com/media/EU0pEjWXYAQsPF_.j...          kanombe   \n4  ['http://pbs.twimg.com/media/EU0KDBDWoAAeGYV.j...              NaN   \n\n  network_type isp_cleaned speed_cleaned speed_unit  \n0          NaN       mango           4.7       mbps  \n1          NaN      airtel           NaN        NaN  \n2          NaN         NaN           2.5       mbps  \n3          NaN         NaN           7.9       mbps  \n4           3G         mtn           NaN        NaN  ",
      "text/html": "<div>\n<style scoped>\n    .dataframe tbody tr th:only-of-type {\n        vertical-align: middle;\n    }\n\n    .dataframe tbody tr th {\n        vertical-align: top;\n    }\n\n    .dataframe thead th {\n        text-align: right;\n    }\n</style>\n<table border=\"1\" class=\"dataframe\">\n  <thead>\n    <tr style=\"text-align: right;\">\n      <th></th>\n      <th>Unnamed: 0</th>\n      <th>location</th>\n      <th>isp</th>\n      <th>speed</th>\n      <th>images</th>\n      <th>location_cleaned</th>\n      <th>network_type</th>\n      <th>isp_cleaned</th>\n      <th>speed_cleaned</th>\n      <th>speed_unit</th>\n    </tr>\n  </thead>\n  <tbody>\n    <tr>\n      <th>0</th>\n      <td>0</td>\n      <td>Nyamirambo</td>\n      <td>['Mango', 'telecom']</td>\n      <td>4.7 mbps</td>\n      <td>['http://pbs.twimg.com/media/EU1QH7iX0AAi4bN.j...</td>\n      <td>nyamirambo</td>\n      <td>NaN</td>\n      <td>mango</td>\n      <td>4.7</td>\n      <td>mbps</td>\n    </tr>\n    <tr>\n      <th>1</th>\n      <td>1</td>\n      <td>NaN</td>\n      <td>['@airtelrw']</td>\n      <td>NaN</td>\n      <td>['http://pbs.twimg.com/media/EU1FpbZWAAA8g6M.j...</td>\n      <td>NaN</td>\n      <td>NaN</td>\n      <td>airtel</td>\n      <td>NaN</td>\n      <td>NaN</td>\n    </tr>\n    <tr>\n      <th>2</th>\n      <td>2</td>\n      <td>Kimironko</td>\n      <td>[]</td>\n      <td>2.5 Mbps</td>\n      <td>['http://pbs.twimg.com/media/EU1Dup5WkAAXRpk.j...</td>\n      <td>kimironko</td>\n      <td>NaN</td>\n      <td>NaN</td>\n      <td>2.5</td>\n      <td>mbps</td>\n    </tr>\n    <tr>\n      <th>3</th>\n      <td>3</td>\n      <td>Kanombe</td>\n      <td>[]</td>\n      <td>7.9 Mbps</td>\n      <td>['http://pbs.twimg.com/media/EU0pEjWXYAQsPF_.j...</td>\n      <td>kanombe</td>\n      <td>NaN</td>\n      <td>NaN</td>\n      <td>7.9</td>\n      <td>mbps</td>\n    </tr>\n    <tr>\n      <th>4</th>\n      <td>4</td>\n      <td>NaN</td>\n      <td>['MTN(3G)']</td>\n      <td>NaN</td>\n      <td>['http://pbs.twimg.com/media/EU0KDBDWoAAeGYV.j...</td>\n      <td>NaN</td>\n      <td>3G</td>\n      <td>mtn</td>\n      <td>NaN</td>\n      <td>NaN</td>\n    </tr>\n  </tbody>\n</table>\n</div>"
     },
     "metadata": {},
     "execution_count": 97
    }
   ],
   "source": [
    "data.head()"
   ]
  },
  {
   "cell_type": "code",
   "execution_count": 98,
   "metadata": {},
   "outputs": [
    {
     "output_type": "error",
     "ename": "AttributeError",
     "evalue": "'Series' object has no attribute 'full_text'",
     "traceback": [
      "\u001b[0;31m---------------------------------------------------------------------------\u001b[0m",
      "\u001b[0;31mAttributeError\u001b[0m                            Traceback (most recent call last)",
      "\u001b[0;32m<ipython-input-98-2e771ba50e49>\u001b[0m in \u001b[0;36m<module>\u001b[0;34m\u001b[0m\n\u001b[0;32m----> 1\u001b[0;31m \u001b[0mprint\u001b[0m\u001b[0;34m(\u001b[0m\u001b[0mdata\u001b[0m\u001b[0;34m.\u001b[0m\u001b[0mloc\u001b[0m\u001b[0;34m[\u001b[0m\u001b[0;36m14\u001b[0m\u001b[0;34m,\u001b[0m \u001b[0;34m:\u001b[0m\u001b[0;34m]\u001b[0m\u001b[0;34m.\u001b[0m\u001b[0mfull_text\u001b[0m\u001b[0;34m)\u001b[0m\u001b[0;34m\u001b[0m\u001b[0m\n\u001b[0m",
      "\u001b[0;32m~/Projects/Xeco/FlowerShop/.venv/lib/python3.6/site-packages/pandas/core/generic.py\u001b[0m in \u001b[0;36m__getattr__\u001b[0;34m(self, name)\u001b[0m\n\u001b[1;32m   5272\u001b[0m             \u001b[0;32mif\u001b[0m \u001b[0mself\u001b[0m\u001b[0;34m.\u001b[0m\u001b[0m_info_axis\u001b[0m\u001b[0;34m.\u001b[0m\u001b[0m_can_hold_identifiers_and_holds_name\u001b[0m\u001b[0;34m(\u001b[0m\u001b[0mname\u001b[0m\u001b[0;34m)\u001b[0m\u001b[0;34m:\u001b[0m\u001b[0;34m\u001b[0m\u001b[0m\n\u001b[1;32m   5273\u001b[0m                 \u001b[0;32mreturn\u001b[0m \u001b[0mself\u001b[0m\u001b[0;34m[\u001b[0m\u001b[0mname\u001b[0m\u001b[0;34m]\u001b[0m\u001b[0;34m\u001b[0m\u001b[0m\n\u001b[0;32m-> 5274\u001b[0;31m             \u001b[0;32mreturn\u001b[0m \u001b[0mobject\u001b[0m\u001b[0;34m.\u001b[0m\u001b[0m__getattribute__\u001b[0m\u001b[0;34m(\u001b[0m\u001b[0mself\u001b[0m\u001b[0;34m,\u001b[0m \u001b[0mname\u001b[0m\u001b[0;34m)\u001b[0m\u001b[0;34m\u001b[0m\u001b[0m\n\u001b[0m\u001b[1;32m   5275\u001b[0m \u001b[0;34m\u001b[0m\u001b[0m\n\u001b[1;32m   5276\u001b[0m     \u001b[0;32mdef\u001b[0m \u001b[0m__setattr__\u001b[0m\u001b[0;34m(\u001b[0m\u001b[0mself\u001b[0m\u001b[0;34m,\u001b[0m \u001b[0mname\u001b[0m\u001b[0;34m:\u001b[0m \u001b[0mstr\u001b[0m\u001b[0;34m,\u001b[0m \u001b[0mvalue\u001b[0m\u001b[0;34m)\u001b[0m \u001b[0;34m->\u001b[0m \u001b[0;32mNone\u001b[0m\u001b[0;34m:\u001b[0m\u001b[0;34m\u001b[0m\u001b[0m\n",
      "\u001b[0;31mAttributeError\u001b[0m: 'Series' object has no attribute 'full_text'"
     ]
    }
   ],
   "source": [
    "print(data.loc[14, :].full_text)"
   ]
  },
  {
   "cell_type": "markdown",
   "metadata": {},
   "source": [
    "We can see that most of our data have **Location**: , **Speed**: and the link to the tweets as well as **ISP**"
   ]
  },
  {
   "cell_type": "markdown",
   "metadata": {},
   "source": [
    "So let clean the tweet and return the information we need , this is where regex come into part"
   ]
  },
  {
   "cell_type": "markdown",
   "metadata": {},
   "source": [
    "Or we can use something else, but let strech our minds with regex."
   ]
  },
  {
   "cell_type": "code",
   "execution_count": 99,
   "metadata": {},
   "outputs": [],
   "source": [
    "def get_data(row):\n",
    "    \"\"\"\n",
    "    clean the data using regex and return specific fields\n",
    "    \"\"\"\n",
    "    text = row.full_text\n",
    "    location = re.search(r'\\blocation:\\s*(.*)', text, re.I)\n",
    "    location = location.groups()[0] if location else None\n",
    "    isp = re.search(r'\\bISP:\\s*(.*)', text, re.I)\n",
    "    isp = isp.groups()[0].split(' ')[:-1] if isp else None\n",
    "    speed = re.search(r'\\bspeed:\\s*(.*)', text, re.I)\n",
    "    speed = speed.groups()[0] if speed else None\n",
    "    return {\"location\" : location,\n",
    "            \"isp\" : isp,\n",
    "            \"speed\": speed,\n",
    "            \"images\": row.images,\n",
    "            \"text\": row.full_text}"
   ]
  },
  {
   "cell_type": "code",
   "execution_count": 100,
   "metadata": {
    "scrolled": true
   },
   "outputs": [
    {
     "output_type": "error",
     "ename": "AttributeError",
     "evalue": "'Series' object has no attribute 'full_text'",
     "traceback": [
      "\u001b[0;31m---------------------------------------------------------------------------\u001b[0m",
      "\u001b[0;31mAttributeError\u001b[0m                            Traceback (most recent call last)",
      "\u001b[0;32m<ipython-input-100-592da67015de>\u001b[0m in \u001b[0;36m<module>\u001b[0;34m\u001b[0m\n\u001b[0;32m----> 1\u001b[0;31m \u001b[0mdata\u001b[0m \u001b[0;34m=\u001b[0m \u001b[0mdata\u001b[0m\u001b[0;34m.\u001b[0m\u001b[0mapply\u001b[0m\u001b[0;34m(\u001b[0m\u001b[0mget_data\u001b[0m\u001b[0;34m,\u001b[0m \u001b[0maxis\u001b[0m\u001b[0;34m=\u001b[0m\u001b[0;34m'columns'\u001b[0m\u001b[0;34m,\u001b[0m \u001b[0mresult_type\u001b[0m\u001b[0;34m=\u001b[0m\u001b[0;34m'expand'\u001b[0m\u001b[0;34m)\u001b[0m\u001b[0;34m\u001b[0m\u001b[0m\n\u001b[0m",
      "\u001b[0;32m~/Projects/Xeco/FlowerShop/.venv/lib/python3.6/site-packages/pandas/core/frame.py\u001b[0m in \u001b[0;36mapply\u001b[0;34m(self, func, axis, raw, result_type, args, **kwds)\u001b[0m\n\u001b[1;32m   6876\u001b[0m             \u001b[0mkwds\u001b[0m\u001b[0;34m=\u001b[0m\u001b[0mkwds\u001b[0m\u001b[0;34m,\u001b[0m\u001b[0;34m\u001b[0m\u001b[0m\n\u001b[1;32m   6877\u001b[0m         )\n\u001b[0;32m-> 6878\u001b[0;31m         \u001b[0;32mreturn\u001b[0m \u001b[0mop\u001b[0m\u001b[0;34m.\u001b[0m\u001b[0mget_result\u001b[0m\u001b[0;34m(\u001b[0m\u001b[0;34m)\u001b[0m\u001b[0;34m\u001b[0m\u001b[0m\n\u001b[0m\u001b[1;32m   6879\u001b[0m \u001b[0;34m\u001b[0m\u001b[0m\n\u001b[1;32m   6880\u001b[0m     \u001b[0;32mdef\u001b[0m \u001b[0mapplymap\u001b[0m\u001b[0;34m(\u001b[0m\u001b[0mself\u001b[0m\u001b[0;34m,\u001b[0m \u001b[0mfunc\u001b[0m\u001b[0;34m)\u001b[0m \u001b[0;34m->\u001b[0m \u001b[0;34m\"DataFrame\"\u001b[0m\u001b[0;34m:\u001b[0m\u001b[0;34m\u001b[0m\u001b[0m\n",
      "\u001b[0;32m~/Projects/Xeco/FlowerShop/.venv/lib/python3.6/site-packages/pandas/core/apply.py\u001b[0m in \u001b[0;36mget_result\u001b[0;34m(self)\u001b[0m\n\u001b[1;32m    184\u001b[0m             \u001b[0;32mreturn\u001b[0m \u001b[0mself\u001b[0m\u001b[0;34m.\u001b[0m\u001b[0mapply_raw\u001b[0m\u001b[0;34m(\u001b[0m\u001b[0;34m)\u001b[0m\u001b[0;34m\u001b[0m\u001b[0m\n\u001b[1;32m    185\u001b[0m \u001b[0;34m\u001b[0m\u001b[0m\n\u001b[0;32m--> 186\u001b[0;31m         \u001b[0;32mreturn\u001b[0m \u001b[0mself\u001b[0m\u001b[0;34m.\u001b[0m\u001b[0mapply_standard\u001b[0m\u001b[0;34m(\u001b[0m\u001b[0;34m)\u001b[0m\u001b[0;34m\u001b[0m\u001b[0m\n\u001b[0m\u001b[1;32m    187\u001b[0m \u001b[0;34m\u001b[0m\u001b[0m\n\u001b[1;32m    188\u001b[0m     \u001b[0;32mdef\u001b[0m \u001b[0mapply_empty_result\u001b[0m\u001b[0;34m(\u001b[0m\u001b[0mself\u001b[0m\u001b[0;34m)\u001b[0m\u001b[0;34m:\u001b[0m\u001b[0;34m\u001b[0m\u001b[0m\n",
      "\u001b[0;32m~/Projects/Xeco/FlowerShop/.venv/lib/python3.6/site-packages/pandas/core/apply.py\u001b[0m in \u001b[0;36mapply_standard\u001b[0;34m(self)\u001b[0m\n\u001b[1;32m    311\u001b[0m \u001b[0;34m\u001b[0m\u001b[0m\n\u001b[1;32m    312\u001b[0m         \u001b[0;31m# compute the result using the series generator\u001b[0m\u001b[0;34m\u001b[0m\u001b[0;34m\u001b[0m\u001b[0m\n\u001b[0;32m--> 313\u001b[0;31m         \u001b[0mresults\u001b[0m\u001b[0;34m,\u001b[0m \u001b[0mres_index\u001b[0m \u001b[0;34m=\u001b[0m \u001b[0mself\u001b[0m\u001b[0;34m.\u001b[0m\u001b[0mapply_series_generator\u001b[0m\u001b[0;34m(\u001b[0m\u001b[0;34m)\u001b[0m\u001b[0;34m\u001b[0m\u001b[0m\n\u001b[0m\u001b[1;32m    314\u001b[0m \u001b[0;34m\u001b[0m\u001b[0m\n\u001b[1;32m    315\u001b[0m         \u001b[0;31m# wrap results\u001b[0m\u001b[0;34m\u001b[0m\u001b[0;34m\u001b[0m\u001b[0m\n",
      "\u001b[0;32m~/Projects/Xeco/FlowerShop/.venv/lib/python3.6/site-packages/pandas/core/apply.py\u001b[0m in \u001b[0;36mapply_series_generator\u001b[0;34m(self)\u001b[0m\n\u001b[1;32m    339\u001b[0m         \u001b[0;32melse\u001b[0m\u001b[0;34m:\u001b[0m\u001b[0;34m\u001b[0m\u001b[0m\n\u001b[1;32m    340\u001b[0m             \u001b[0;32mfor\u001b[0m \u001b[0mi\u001b[0m\u001b[0;34m,\u001b[0m \u001b[0mv\u001b[0m \u001b[0;32min\u001b[0m \u001b[0menumerate\u001b[0m\u001b[0;34m(\u001b[0m\u001b[0mseries_gen\u001b[0m\u001b[0;34m)\u001b[0m\u001b[0;34m:\u001b[0m\u001b[0;34m\u001b[0m\u001b[0m\n\u001b[0;32m--> 341\u001b[0;31m                 \u001b[0mresults\u001b[0m\u001b[0;34m[\u001b[0m\u001b[0mi\u001b[0m\u001b[0;34m]\u001b[0m \u001b[0;34m=\u001b[0m \u001b[0mself\u001b[0m\u001b[0;34m.\u001b[0m\u001b[0mf\u001b[0m\u001b[0;34m(\u001b[0m\u001b[0mv\u001b[0m\u001b[0;34m)\u001b[0m\u001b[0;34m\u001b[0m\u001b[0m\n\u001b[0m\u001b[1;32m    342\u001b[0m                 \u001b[0mkeys\u001b[0m\u001b[0;34m.\u001b[0m\u001b[0mappend\u001b[0m\u001b[0;34m(\u001b[0m\u001b[0mv\u001b[0m\u001b[0;34m.\u001b[0m\u001b[0mname\u001b[0m\u001b[0;34m)\u001b[0m\u001b[0;34m\u001b[0m\u001b[0m\n\u001b[1;32m    343\u001b[0m \u001b[0;34m\u001b[0m\u001b[0m\n",
      "\u001b[0;32m<ipython-input-99-b250b365735e>\u001b[0m in \u001b[0;36mget_data\u001b[0;34m(row)\u001b[0m\n\u001b[1;32m      3\u001b[0m     \u001b[0mclean\u001b[0m \u001b[0mthe\u001b[0m \u001b[0mdata\u001b[0m \u001b[0musing\u001b[0m \u001b[0mregex\u001b[0m \u001b[0;32mand\u001b[0m \u001b[0;32mreturn\u001b[0m \u001b[0mspecific\u001b[0m \u001b[0mfields\u001b[0m\u001b[0;34m\u001b[0m\u001b[0m\n\u001b[1;32m      4\u001b[0m     \"\"\"\n\u001b[0;32m----> 5\u001b[0;31m     \u001b[0mtext\u001b[0m \u001b[0;34m=\u001b[0m \u001b[0mrow\u001b[0m\u001b[0;34m.\u001b[0m\u001b[0mfull_text\u001b[0m\u001b[0;34m\u001b[0m\u001b[0m\n\u001b[0m\u001b[1;32m      6\u001b[0m     \u001b[0mlocation\u001b[0m \u001b[0;34m=\u001b[0m \u001b[0mre\u001b[0m\u001b[0;34m.\u001b[0m\u001b[0msearch\u001b[0m\u001b[0;34m(\u001b[0m\u001b[0;34mr'\\blocation:\\s*(.*)'\u001b[0m\u001b[0;34m,\u001b[0m \u001b[0mtext\u001b[0m\u001b[0;34m,\u001b[0m \u001b[0mre\u001b[0m\u001b[0;34m.\u001b[0m\u001b[0mI\u001b[0m\u001b[0;34m)\u001b[0m\u001b[0;34m\u001b[0m\u001b[0m\n\u001b[1;32m      7\u001b[0m     \u001b[0mlocation\u001b[0m \u001b[0;34m=\u001b[0m \u001b[0mlocation\u001b[0m\u001b[0;34m.\u001b[0m\u001b[0mgroups\u001b[0m\u001b[0;34m(\u001b[0m\u001b[0;34m)\u001b[0m\u001b[0;34m[\u001b[0m\u001b[0;36m0\u001b[0m\u001b[0;34m]\u001b[0m \u001b[0;32mif\u001b[0m \u001b[0mlocation\u001b[0m \u001b[0;32melse\u001b[0m \u001b[0;32mNone\u001b[0m\u001b[0;34m\u001b[0m\u001b[0m\n",
      "\u001b[0;32m~/Projects/Xeco/FlowerShop/.venv/lib/python3.6/site-packages/pandas/core/generic.py\u001b[0m in \u001b[0;36m__getattr__\u001b[0;34m(self, name)\u001b[0m\n\u001b[1;32m   5272\u001b[0m             \u001b[0;32mif\u001b[0m \u001b[0mself\u001b[0m\u001b[0;34m.\u001b[0m\u001b[0m_info_axis\u001b[0m\u001b[0;34m.\u001b[0m\u001b[0m_can_hold_identifiers_and_holds_name\u001b[0m\u001b[0;34m(\u001b[0m\u001b[0mname\u001b[0m\u001b[0;34m)\u001b[0m\u001b[0;34m:\u001b[0m\u001b[0;34m\u001b[0m\u001b[0m\n\u001b[1;32m   5273\u001b[0m                 \u001b[0;32mreturn\u001b[0m \u001b[0mself\u001b[0m\u001b[0;34m[\u001b[0m\u001b[0mname\u001b[0m\u001b[0;34m]\u001b[0m\u001b[0;34m\u001b[0m\u001b[0m\n\u001b[0;32m-> 5274\u001b[0;31m             \u001b[0;32mreturn\u001b[0m \u001b[0mobject\u001b[0m\u001b[0;34m.\u001b[0m\u001b[0m__getattribute__\u001b[0m\u001b[0;34m(\u001b[0m\u001b[0mself\u001b[0m\u001b[0;34m,\u001b[0m \u001b[0mname\u001b[0m\u001b[0;34m)\u001b[0m\u001b[0;34m\u001b[0m\u001b[0m\n\u001b[0m\u001b[1;32m   5275\u001b[0m \u001b[0;34m\u001b[0m\u001b[0m\n\u001b[1;32m   5276\u001b[0m     \u001b[0;32mdef\u001b[0m \u001b[0m__setattr__\u001b[0m\u001b[0;34m(\u001b[0m\u001b[0mself\u001b[0m\u001b[0;34m,\u001b[0m \u001b[0mname\u001b[0m\u001b[0;34m:\u001b[0m \u001b[0mstr\u001b[0m\u001b[0;34m,\u001b[0m \u001b[0mvalue\u001b[0m\u001b[0;34m)\u001b[0m \u001b[0;34m->\u001b[0m \u001b[0;32mNone\u001b[0m\u001b[0;34m:\u001b[0m\u001b[0;34m\u001b[0m\u001b[0m\n",
      "\u001b[0;31mAttributeError\u001b[0m: 'Series' object has no attribute 'full_text'"
     ]
    }
   ],
   "source": [
    "data = data.apply(get_data, axis='columns', result_type='expand')"
   ]
  },
  {
   "cell_type": "markdown",
   "metadata": {},
   "source": [
    "Let check null values "
   ]
  },
  {
   "cell_type": "code",
   "execution_count": 101,
   "metadata": {},
   "outputs": [
    {
     "output_type": "execute_result",
     "data": {
      "text/plain": "False    170\nTrue      73\nName: location, dtype: int64"
     },
     "metadata": {},
     "execution_count": 101
    }
   ],
   "source": [
    "data.location.isna().value_counts()"
   ]
  },
  {
   "cell_type": "code",
   "execution_count": 102,
   "metadata": {},
   "outputs": [
    {
     "output_type": "execute_result",
     "data": {
      "text/plain": "False    169\nTrue      74\nName: isp, dtype: int64"
     },
     "metadata": {},
     "execution_count": 102
    }
   ],
   "source": [
    "data.isp.isna().value_counts()"
   ]
  },
  {
   "cell_type": "code",
   "execution_count": 103,
   "metadata": {},
   "outputs": [
    {
     "output_type": "execute_result",
     "data": {
      "text/plain": "False    122\nTrue     121\nName: speed, dtype: int64"
     },
     "metadata": {},
     "execution_count": 103
    }
   ],
   "source": [
    "data.speed.isna().value_counts()"
   ]
  },
  {
   "cell_type": "markdown",
   "metadata": {},
   "source": [
    "we can see that we have a lot of missing data , like 50 for location, 50 for isp, 87 for speed, Let me continue without them"
   ]
  },
  {
   "cell_type": "markdown",
   "metadata": {},
   "source": [
    "Let me handle normal cases I will come back to the will come back to expections later."
   ]
  },
  {
   "cell_type": "markdown",
   "metadata": {},
   "source": [
    "Or will come back to cleaning later tomorow, we can call it a day"
   ]
  },
  {
   "cell_type": "code",
   "execution_count": 104,
   "metadata": {},
   "outputs": [
    {
     "output_type": "execute_result",
     "data": {
      "text/plain": "   Unnamed: 0     location                   isp     speed  \\\n0           0  Nyamirambo   ['Mango', 'telecom']  4.7 mbps   \n1           1          NaN         ['@airtelrw']       NaN   \n2           2    Kimironko                    []  2.5 Mbps   \n3           3      Kanombe                    []  7.9 Mbps   \n4           4          NaN           ['MTN(3G)']       NaN   \n\n                                              images location_cleaned  \\\n0  ['http://pbs.twimg.com/media/EU1QH7iX0AAi4bN.j...       nyamirambo   \n1  ['http://pbs.twimg.com/media/EU1FpbZWAAA8g6M.j...              NaN   \n2  ['http://pbs.twimg.com/media/EU1Dup5WkAAXRpk.j...        kimironko   \n3  ['http://pbs.twimg.com/media/EU0pEjWXYAQsPF_.j...          kanombe   \n4  ['http://pbs.twimg.com/media/EU0KDBDWoAAeGYV.j...              NaN   \n\n  network_type isp_cleaned speed_cleaned speed_unit  \n0          NaN       mango           4.7       mbps  \n1          NaN      airtel           NaN        NaN  \n2          NaN         NaN           2.5       mbps  \n3          NaN         NaN           7.9       mbps  \n4           3G         mtn           NaN        NaN  ",
      "text/html": "<div>\n<style scoped>\n    .dataframe tbody tr th:only-of-type {\n        vertical-align: middle;\n    }\n\n    .dataframe tbody tr th {\n        vertical-align: top;\n    }\n\n    .dataframe thead th {\n        text-align: right;\n    }\n</style>\n<table border=\"1\" class=\"dataframe\">\n  <thead>\n    <tr style=\"text-align: right;\">\n      <th></th>\n      <th>Unnamed: 0</th>\n      <th>location</th>\n      <th>isp</th>\n      <th>speed</th>\n      <th>images</th>\n      <th>location_cleaned</th>\n      <th>network_type</th>\n      <th>isp_cleaned</th>\n      <th>speed_cleaned</th>\n      <th>speed_unit</th>\n    </tr>\n  </thead>\n  <tbody>\n    <tr>\n      <th>0</th>\n      <td>0</td>\n      <td>Nyamirambo</td>\n      <td>['Mango', 'telecom']</td>\n      <td>4.7 mbps</td>\n      <td>['http://pbs.twimg.com/media/EU1QH7iX0AAi4bN.j...</td>\n      <td>nyamirambo</td>\n      <td>NaN</td>\n      <td>mango</td>\n      <td>4.7</td>\n      <td>mbps</td>\n    </tr>\n    <tr>\n      <th>1</th>\n      <td>1</td>\n      <td>NaN</td>\n      <td>['@airtelrw']</td>\n      <td>NaN</td>\n      <td>['http://pbs.twimg.com/media/EU1FpbZWAAA8g6M.j...</td>\n      <td>NaN</td>\n      <td>NaN</td>\n      <td>airtel</td>\n      <td>NaN</td>\n      <td>NaN</td>\n    </tr>\n    <tr>\n      <th>2</th>\n      <td>2</td>\n      <td>Kimironko</td>\n      <td>[]</td>\n      <td>2.5 Mbps</td>\n      <td>['http://pbs.twimg.com/media/EU1Dup5WkAAXRpk.j...</td>\n      <td>kimironko</td>\n      <td>NaN</td>\n      <td>NaN</td>\n      <td>2.5</td>\n      <td>mbps</td>\n    </tr>\n    <tr>\n      <th>3</th>\n      <td>3</td>\n      <td>Kanombe</td>\n      <td>[]</td>\n      <td>7.9 Mbps</td>\n      <td>['http://pbs.twimg.com/media/EU0pEjWXYAQsPF_.j...</td>\n      <td>kanombe</td>\n      <td>NaN</td>\n      <td>NaN</td>\n      <td>7.9</td>\n      <td>mbps</td>\n    </tr>\n    <tr>\n      <th>4</th>\n      <td>4</td>\n      <td>NaN</td>\n      <td>['MTN(3G)']</td>\n      <td>NaN</td>\n      <td>['http://pbs.twimg.com/media/EU0KDBDWoAAeGYV.j...</td>\n      <td>NaN</td>\n      <td>3G</td>\n      <td>mtn</td>\n      <td>NaN</td>\n      <td>NaN</td>\n    </tr>\n  </tbody>\n</table>\n</div>"
     },
     "metadata": {},
     "execution_count": 104
    }
   ],
   "source": [
    "data.head()"
   ]
  },
  {
   "cell_type": "code",
   "execution_count": 105,
   "metadata": {},
   "outputs": [],
   "source": [
    "data.to_csv('../data/speed_rwanda.csv',)"
   ]
  },
  {
   "cell_type": "markdown",
   "metadata": {},
   "source": [
    "#### Data Cleaning "
   ]
  },
  {
   "cell_type": "code",
   "execution_count": 106,
   "metadata": {},
   "outputs": [
    {
     "output_type": "error",
     "ename": "SyntaxError",
     "evalue": "invalid syntax (<ipython-input-106-c3b39fbe0f86>, line 1)",
     "traceback": [
      "\u001b[0;36m  File \u001b[0;32m\"<ipython-input-106-c3b39fbe0f86>\"\u001b[0;36m, line \u001b[0;32m1\u001b[0m\n\u001b[0;31m    Let go with colums by columns\u001b[0m\n\u001b[0m         ^\u001b[0m\n\u001b[0;31mSyntaxError\u001b[0m\u001b[0;31m:\u001b[0m invalid syntax\n"
     ]
    }
   ],
   "source": [
    "Let go with colums by columns "
   ]
  },
  {
   "cell_type": "markdown",
   "metadata": {},
   "source": [
    "#### Location"
   ]
  },
  {
   "cell_type": "code",
   "execution_count": 107,
   "metadata": {},
   "outputs": [
    {
     "output_type": "execute_result",
     "data": {
      "text/plain": "False    170\nTrue      73\nName: location, dtype: int64"
     },
     "metadata": {},
     "execution_count": 107
    }
   ],
   "source": [
    "data.location.isna().value_counts()"
   ]
  },
  {
   "cell_type": "markdown",
   "metadata": {},
   "source": [
    "As of now the location data has 73 missing values , let us not care about the missing values and treat the uniques values in the columsn"
   ]
  },
  {
   "cell_type": "code",
   "execution_count": 108,
   "metadata": {},
   "outputs": [
    {
     "output_type": "execute_result",
     "data": {
      "text/plain": "107"
     },
     "metadata": {},
     "execution_count": 108
    }
   ],
   "source": [
    "len(data.location.unique())"
   ]
  },
  {
   "cell_type": "code",
   "execution_count": 109,
   "metadata": {},
   "outputs": [
    {
     "output_type": "execute_result",
     "data": {
      "text/plain": "array(['Nyamirambo ', nan, 'Kimironko', 'Kanombe', 'Muhanga', 'Sonatube',\n       'Karuruma', 'kiyovu ISP: MTN https://t.co/J2uVI5muur',\n       'Rubavu.                                       ISP: tnsp                                                         Network:4g https://t.co/dSTSnQ8Tg1',\n       'Kicukiro ', 'Kacyiru ', 'Busanza', 'Kacyiru', 'Ruhuha, Bugesera',\n       'kanombe', 'Kibagabaga', 'Remera', 'Nyamirambo', 'Rwamagana',\n       'Kimironko ', 'Kicukiro', 'Lower Kiyovu ', 'kicukiro ',\n       'Musanze (tetagouche) ', 'Kicukiro/ Kagarama',\n       'Nyarutarama ( next to BAHO Hospital )', 'Remera -Nyabisindu',\n       'Kicukiro Kagarama', 'Gisozi',\n       'Rwamagana District                                                     Speed    : 5.8 Mbps                                         ISP          : 3G @MTNRwanda https://t.co/G96JriFORT',\n       'Gikondo', 'kabeza kumucyo', 'Kicukiro Ngoma,  ', 'Rwinkwavu',\n       'Gikondo- Nyenyeri', 'Gitega-Nyarugenge', 'Biryogo', 'Gacuriro',\n       'Kagarama', 'Kiyovu', 'Kicukiro Niboyi', 'Biryogo ',\n       'Muhima behind Ste Famille ', 'Kimironko - mushimire',\n       'Kimisagara',\n       'Gisozi  ISP: MTN 3G Speed: 4.2Mbps https://t.co/ru1s5FYNoL',\n       'bugesera mayange', 'Kimihurura ', 'Masaka ', 'Kimironko, Bibare ',\n       'kanombe                                          ISP: Mango Telecom https://t.co/ju2jZgWSNo',\n       'Lagos.  ISP:Airtel https://t.co/Pwk3uUmCaJ', 'Musanze City',\n       'Kanombe - Nonko', 'Kicukiro Niboye', 'Nyamirambo (Kuri 40)',\n       'Gihara/Kamonyi', 'remera', 'Kabeza', 'Muhima', 'Kibagabaga ',\n       'Kicukiro https://t.co/g9WcwJgV34', \"Gisozi hejuru y'U rwibutso\",\n       'kicukiro', 'Kabeza AEE https://t.co/gmZIgppmCD',\n       'Kabeza AEE https://t.co/WnMrkxJGBH', 'Rusororo', 'Huye',\n       'KARURUMA ', 'Kacyiru library', 'Musanze', 'Rwamagana ',\n       'busogo, Musanze, north', 'busogo(Musanze)', 'Rebero', 'Kabeza ',\n       'Kacyiru https://t.co/GKdePsqfdS',\n       'Rubilizi https://t.co/OZ6hPaOpmc', 'gikondo', 'Kicukiro-Niboye',\n       'nyamirambo cosmos https://t.co/hSXlW6dU8z', 'Niboye',\n       'Sonatubes ', 'Gasabo, Rutunga', 'Gisozi near Kurwibutso',\n       'Kimihurura/Rugando', 'Ruyenzi', 'Nyabihu District', 'Kagarama ',\n       'Kisimenti ', 'Sonatubes', 'Rubilizi',\n       'Kacyiru https://t.co/awou8X6yME', 'Nyamata', 'Kicukiro/sonatube ',\n       'Kak City aka Kacyiru', 'Kimironko https://t.co/GhENnW2bxJ',\n       'Kicukiro (Rebero)', 'Nyamirambo/ Nyakabanda     ',\n       'Ruyenzi       ', 'Gikondo ', 'Gatsata ',\n       'Kanombe- Nyarugunga https://t.co/LoQRcsdBs6', 'Town',\n       'Gisozi | Gacinjiru       ', 'Nyakabanda', 'Mumena'], dtype=object)"
     },
     "metadata": {},
     "execution_count": 109
    }
   ],
   "source": [
    "data.location.unique()"
   ]
  },
  {
   "cell_type": "markdown",
   "metadata": {},
   "source": [
    "from what we can see in the above cell people was typing their place their living in and add more additional data about the location.\n",
    "\n",
    "We can just grap the first word they write and the do continue with it."
   ]
  },
  {
   "cell_type": "code",
   "execution_count": 110,
   "metadata": {},
   "outputs": [],
   "source": [
    "import string"
   ]
  },
  {
   "cell_type": "code",
   "execution_count": 111,
   "metadata": {},
   "outputs": [],
   "source": [
    "cleaned_location = data.location.str.replace('/', ' ').str.replace('-', ' ').str.replace('|', ' ').replace(',', ' ').str.split(' ', expand=True).loc[:, 0]"
   ]
  },
  {
   "cell_type": "code",
   "execution_count": 112,
   "metadata": {
    "scrolled": true
   },
   "outputs": [
    {
     "output_type": "execute_result",
     "data": {
      "text/plain": "61"
     },
     "metadata": {},
     "execution_count": 112
    }
   ],
   "source": [
    "len(cleaned_location.unique())"
   ]
  },
  {
   "cell_type": "markdown",
   "metadata": {},
   "source": [
    "At least we are progressing we can see that data comes from 61 uniques locations"
   ]
  },
  {
   "cell_type": "code",
   "execution_count": 113,
   "metadata": {},
   "outputs": [],
   "source": [
    "cleaned_location = cleaned_location.str.lower()"
   ]
  },
  {
   "cell_type": "markdown",
   "metadata": {},
   "source": [
    "Once we lower the text we can see the spread has reduced."
   ]
  },
  {
   "cell_type": "code",
   "execution_count": 114,
   "metadata": {},
   "outputs": [
    {
     "output_type": "execute_result",
     "data": {
      "text/plain": "53"
     },
     "metadata": {},
     "execution_count": 114
    }
   ],
   "source": [
    "len(cleaned_location.unique())"
   ]
  },
  {
   "cell_type": "markdown",
   "metadata": {},
   "source": [
    "We are at 53 differents location in Kigali"
   ]
  },
  {
   "cell_type": "code",
   "execution_count": 115,
   "metadata": {},
   "outputs": [
    {
     "output_type": "execute_result",
     "data": {
      "text/plain": "False    0.699588\nTrue     0.300412\nName: 0, dtype: float64"
     },
     "metadata": {},
     "execution_count": 115
    }
   ],
   "source": [
    "cleaned_location.isna().value_counts(normalize=True)"
   ]
  },
  {
   "cell_type": "markdown",
   "metadata": {},
   "source": [
    "We can found that almost 30 % of data are missing but we will handle that later."
   ]
  },
  {
   "cell_type": "code",
   "execution_count": 116,
   "metadata": {},
   "outputs": [],
   "source": [
    "cleaned_location = cleaned_location.str.replace(',', '')"
   ]
  },
  {
   "cell_type": "code",
   "execution_count": 117,
   "metadata": {},
   "outputs": [
    {
     "output_type": "execute_result",
     "data": {
      "text/plain": "52"
     },
     "metadata": {},
     "execution_count": 117
    }
   ],
   "source": [
    "len(cleaned_location.unique())"
   ]
  },
  {
   "cell_type": "code",
   "execution_count": 118,
   "metadata": {},
   "outputs": [
    {
     "output_type": "execute_result",
     "data": {
      "text/plain": "kicukiro           22\nkimironko          16\nkacyiru            14\nkanombe            10\ngisozi             10\ngikondo             9\nnyamirambo          8\nremera              6\nkabeza              6\nmusanze             4\nkagarama            4\nrwamagana           4\nkaruruma            3\nrusororo            3\nkibagabaga          3\nkimisagara          3\nrebero              2\nmuhanga             2\nsonatubes           2\nbiryogo             2\ngacuriro            2\nkimihurura          2\nmuhima              2\nkiyovu              2\nrubilizi            2\nruyenzi             2\nmumena              1\ngitega              1\ngihara              1\nrubavu.             1\nbusanza             1\nbusogo              1\nlagos.              1\nlower               1\nkak                 1\nnyamata             1\nsonatube            1\nniboye              1\ntown                1\nnyakabanda          1\nruhuha              1\nbusogo(musanze)     1\ngasabo              1\nmasaka              1\ngatsata             1\nnyarutarama         1\nbugesera            1\nhuye                1\nkisimenti           1\nnyabihu             1\nrwinkwavu           1\nName: 0, dtype: int64"
     },
     "metadata": {},
     "execution_count": 118
    }
   ],
   "source": [
    "cleaned_location.value_counts()"
   ]
  },
  {
   "cell_type": "markdown",
   "metadata": {},
   "source": [
    "Finaaly we can view those data in an histogram to see the spread of our location."
   ]
  },
  {
   "cell_type": "code",
   "execution_count": 119,
   "metadata": {},
   "outputs": [
    {
     "output_type": "error",
     "ename": "ModuleNotFoundError",
     "evalue": "No module named 'seaborn'",
     "traceback": [
      "\u001b[0;31m---------------------------------------------------------------------------\u001b[0m",
      "\u001b[0;31mModuleNotFoundError\u001b[0m                       Traceback (most recent call last)",
      "\u001b[0;32m<ipython-input-119-360de5492100>\u001b[0m in \u001b[0;36m<module>\u001b[0;34m\u001b[0m\n\u001b[1;32m      1\u001b[0m \u001b[0;32mimport\u001b[0m \u001b[0mnumpy\u001b[0m \u001b[0;32mas\u001b[0m \u001b[0mnp\u001b[0m\u001b[0;34m\u001b[0m\u001b[0m\n\u001b[0;32m----> 2\u001b[0;31m \u001b[0;32mimport\u001b[0m \u001b[0mseaborn\u001b[0m \u001b[0;32mas\u001b[0m \u001b[0msns\u001b[0m\u001b[0;34m\u001b[0m\u001b[0m\n\u001b[0m\u001b[1;32m      3\u001b[0m \u001b[0;32mimport\u001b[0m \u001b[0mmatplotlib\u001b[0m\u001b[0;34m.\u001b[0m\u001b[0mpyplot\u001b[0m \u001b[0;32mas\u001b[0m \u001b[0mplt\u001b[0m\u001b[0;34m\u001b[0m\u001b[0m\n\u001b[1;32m      4\u001b[0m \u001b[0msns\u001b[0m\u001b[0;34m.\u001b[0m\u001b[0mset\u001b[0m\u001b[0;34m(\u001b[0m\u001b[0mstyle\u001b[0m\u001b[0;34m=\u001b[0m\u001b[0;34m\"white\"\u001b[0m\u001b[0;34m,\u001b[0m \u001b[0mcontext\u001b[0m\u001b[0;34m=\u001b[0m\u001b[0;34m\"talk\"\u001b[0m\u001b[0;34m)\u001b[0m\u001b[0;34m\u001b[0m\u001b[0m\n\u001b[1;32m      5\u001b[0m \u001b[0mrs\u001b[0m \u001b[0;34m=\u001b[0m \u001b[0mnp\u001b[0m\u001b[0;34m.\u001b[0m\u001b[0mrandom\u001b[0m\u001b[0;34m.\u001b[0m\u001b[0mRandomState\u001b[0m\u001b[0;34m(\u001b[0m\u001b[0;36m8\u001b[0m\u001b[0;34m)\u001b[0m\u001b[0;34m\u001b[0m\u001b[0m\n",
      "\u001b[0;31mModuleNotFoundError\u001b[0m: No module named 'seaborn'"
     ]
    }
   ],
   "source": [
    "import numpy as np\n",
    "import seaborn as sns\n",
    "import matplotlib.pyplot as plt\n",
    "sns.set(style=\"white\", context=\"talk\")\n",
    "rs = np.random.RandomState(8)"
   ]
  },
  {
   "cell_type": "code",
   "execution_count": 120,
   "metadata": {},
   "outputs": [
    {
     "output_type": "error",
     "ename": "NameError",
     "evalue": "name 'plt' is not defined",
     "traceback": [
      "\u001b[0;31m---------------------------------------------------------------------------\u001b[0m",
      "\u001b[0;31mNameError\u001b[0m                                 Traceback (most recent call last)",
      "\u001b[0;32m<ipython-input-120-39b9d503774b>\u001b[0m in \u001b[0;36m<module>\u001b[0;34m\u001b[0m\n\u001b[0;32m----> 1\u001b[0;31m \u001b[0mfig\u001b[0m\u001b[0;34m,\u001b[0m \u001b[0max\u001b[0m  \u001b[0;34m=\u001b[0m \u001b[0mplt\u001b[0m\u001b[0;34m.\u001b[0m\u001b[0msubplots\u001b[0m\u001b[0;34m(\u001b[0m\u001b[0;36m1\u001b[0m\u001b[0;34m,\u001b[0m \u001b[0;36m1\u001b[0m\u001b[0;34m,\u001b[0m \u001b[0mfigsize\u001b[0m\u001b[0;34m=\u001b[0m\u001b[0;34m(\u001b[0m\u001b[0;36m20\u001b[0m\u001b[0;34m,\u001b[0m \u001b[0;36m10\u001b[0m\u001b[0;34m)\u001b[0m\u001b[0;34m,\u001b[0m \u001b[0msharex\u001b[0m\u001b[0;34m=\u001b[0m\u001b[0;32mFalse\u001b[0m\u001b[0;34m)\u001b[0m\u001b[0;34m\u001b[0m\u001b[0m\n\u001b[0m\u001b[1;32m      2\u001b[0m \u001b[0mplt\u001b[0m\u001b[0;34m.\u001b[0m\u001b[0mxticks\u001b[0m\u001b[0;34m(\u001b[0m\u001b[0mrotation\u001b[0m\u001b[0;34m=\u001b[0m\u001b[0;36m90\u001b[0m\u001b[0;34m)\u001b[0m\u001b[0;34m\u001b[0m\u001b[0m\n\u001b[1;32m      3\u001b[0m \u001b[0msns\u001b[0m\u001b[0;34m.\u001b[0m\u001b[0mbarplot\u001b[0m\u001b[0;34m(\u001b[0m\u001b[0mx\u001b[0m\u001b[0;34m=\u001b[0m\u001b[0mcleaned_location\u001b[0m\u001b[0;34m.\u001b[0m\u001b[0mvalue_counts\u001b[0m\u001b[0;34m(\u001b[0m\u001b[0;34m)\u001b[0m\u001b[0;34m.\u001b[0m\u001b[0mindex\u001b[0m\u001b[0;34m,\u001b[0m \u001b[0my\u001b[0m\u001b[0;34m=\u001b[0m\u001b[0mcleaned_location\u001b[0m\u001b[0;34m.\u001b[0m\u001b[0mvalue_counts\u001b[0m\u001b[0;34m(\u001b[0m\u001b[0;34m)\u001b[0m\u001b[0;34m.\u001b[0m\u001b[0mvalues\u001b[0m\u001b[0;34m,\u001b[0m \u001b[0mpalette\u001b[0m\u001b[0;34m=\u001b[0m\u001b[0;34m\"deep\"\u001b[0m\u001b[0;34m,\u001b[0m \u001b[0max\u001b[0m\u001b[0;34m=\u001b[0m\u001b[0max\u001b[0m\u001b[0;34m)\u001b[0m\u001b[0;34m\u001b[0m\u001b[0m\n\u001b[1;32m      4\u001b[0m \u001b[0max\u001b[0m\u001b[0;34m.\u001b[0m\u001b[0maxhline\u001b[0m\u001b[0;34m(\u001b[0m\u001b[0;36m0\u001b[0m\u001b[0;34m,\u001b[0m \u001b[0mcolor\u001b[0m\u001b[0;34m=\u001b[0m\u001b[0;34m\"k\"\u001b[0m\u001b[0;34m,\u001b[0m \u001b[0mclip_on\u001b[0m\u001b[0;34m=\u001b[0m\u001b[0;32mFalse\u001b[0m\u001b[0;34m)\u001b[0m\u001b[0;34m\u001b[0m\u001b[0m\n\u001b[1;32m      5\u001b[0m \u001b[0max\u001b[0m\u001b[0;34m.\u001b[0m\u001b[0mset_ylabel\u001b[0m\u001b[0;34m(\u001b[0m\u001b[0;34m\"Count Of Population\"\u001b[0m\u001b[0;34m)\u001b[0m\u001b[0;34m\u001b[0m\u001b[0m\n",
      "\u001b[0;31mNameError\u001b[0m: name 'plt' is not defined"
     ]
    }
   ],
   "source": [
    "fig, ax  = plt.subplots(1, 1, figsize=(20, 10), sharex=False)\n",
    "plt.xticks(rotation=90)\n",
    "sns.barplot(x=cleaned_location.value_counts().index, y=cleaned_location.value_counts().values, palette=\"deep\", ax=ax)\n",
    "ax.axhline(0, color=\"k\", clip_on=False)\n",
    "ax.set_ylabel(\"Count Of Population\")\n",
    "ax.set_xlabel(\"Location\")\n",
    "ax.set_title('Population Location Count')\n",
    "fig.savefig('../images/population_location.png')  "
   ]
  },
  {
   "cell_type": "markdown",
   "metadata": {},
   "source": [
    "We can conclude the analysis of the location columns here , we can come back to it later for missing values"
   ]
  },
  {
   "cell_type": "code",
   "execution_count": 121,
   "metadata": {},
   "outputs": [],
   "source": [
    "data = data.assign(location_cleaned = cleaned_location)"
   ]
  },
  {
   "cell_type": "markdown",
   "metadata": {},
   "source": [
    "#### TODO:\n",
    "But more can be done on the locations, someone who is familiar with Rwanda Location can groups locations into sector"
   ]
  },
  {
   "cell_type": "markdown",
   "metadata": {},
   "source": [
    "Let us go to the go with ISP colums"
   ]
  },
  {
   "cell_type": "markdown",
   "metadata": {},
   "source": [
    "#### 2. ISP"
   ]
  },
  {
   "cell_type": "code",
   "execution_count": 122,
   "metadata": {},
   "outputs": [
    {
     "output_type": "execute_result",
     "data": {
      "text/plain": "False    0.695473\nTrue     0.304527\nName: isp, dtype: float64"
     },
     "metadata": {},
     "execution_count": 122
    }
   ],
   "source": [
    "data.isp.isna().value_counts(normalize=True)"
   ]
  },
  {
   "cell_type": "markdown",
   "metadata": {},
   "source": [
    "Again 30% of the data are missing."
   ]
  },
  {
   "cell_type": "code",
   "execution_count": 123,
   "metadata": {},
   "outputs": [
    {
     "output_type": "execute_result",
     "data": {
      "text/plain": "0     ['Mango', 'telecom']\n1            ['@airtelrw']\n2                       []\n3                       []\n4              ['MTN(3G)']\n5                ['Mango']\n6    ['Axiom', 'Networks']\n7                      NaN\n8                      NaN\n9                  ['MTN']\nName: isp, dtype: object"
     },
     "metadata": {},
     "execution_count": 123
    }
   ],
   "source": [
    "data.isp[:10]"
   ]
  },
  {
   "cell_type": "code",
   "execution_count": 124,
   "metadata": {},
   "outputs": [
    {
     "output_type": "error",
     "ename": "SyntaxError",
     "evalue": "invalid syntax (<ipython-input-124-5d605985186f>, line 1)",
     "traceback": [
      "\u001b[0;36m  File \u001b[0;32m\"<ipython-input-124-5d605985186f>\"\u001b[0;36m, line \u001b[0;32m1\u001b[0m\n\u001b[0;31m    We can se that  the data where splited.\u001b[0m\n\u001b[0m         ^\u001b[0m\n\u001b[0;31mSyntaxError\u001b[0m\u001b[0;31m:\u001b[0m invalid syntax\n"
     ]
    }
   ],
   "source": [
    "We can se that  the data where splited."
   ]
  },
  {
   "cell_type": "code",
   "execution_count": 125,
   "metadata": {},
   "outputs": [
    {
     "output_type": "error",
     "ename": "TypeError",
     "evalue": "can only join an iterable",
     "traceback": [
      "\u001b[0;31m---------------------------------------------------------------------------\u001b[0m",
      "\u001b[0;31mTypeError\u001b[0m                                 Traceback (most recent call last)",
      "\u001b[0;32m<ipython-input-125-3998fc261db5>\u001b[0m in \u001b[0;36m<module>\u001b[0;34m\u001b[0m\n\u001b[0;32m----> 1\u001b[0;31m \u001b[0misp\u001b[0m \u001b[0;34m=\u001b[0m \u001b[0mdata\u001b[0m\u001b[0;34m.\u001b[0m\u001b[0misp\u001b[0m\u001b[0;34m.\u001b[0m\u001b[0mapply\u001b[0m\u001b[0;34m(\u001b[0m\u001b[0;32mlambda\u001b[0m \u001b[0mx\u001b[0m \u001b[0;34m:\u001b[0m \u001b[0;34m\" \"\u001b[0m\u001b[0;34m.\u001b[0m\u001b[0mjoin\u001b[0m\u001b[0;34m(\u001b[0m\u001b[0mx\u001b[0m\u001b[0;34m)\u001b[0m \u001b[0;32mif\u001b[0m \u001b[0mx\u001b[0m \u001b[0;32melse\u001b[0m \u001b[0;32mNone\u001b[0m\u001b[0;34m)\u001b[0m\u001b[0;34m\u001b[0m\u001b[0m\n\u001b[0m",
      "\u001b[0;32m~/Projects/Xeco/FlowerShop/.venv/lib/python3.6/site-packages/pandas/core/series.py\u001b[0m in \u001b[0;36mapply\u001b[0;34m(self, func, convert_dtype, args, **kwds)\u001b[0m\n\u001b[1;32m   3846\u001b[0m             \u001b[0;32melse\u001b[0m\u001b[0;34m:\u001b[0m\u001b[0;34m\u001b[0m\u001b[0m\n\u001b[1;32m   3847\u001b[0m                 \u001b[0mvalues\u001b[0m \u001b[0;34m=\u001b[0m \u001b[0mself\u001b[0m\u001b[0;34m.\u001b[0m\u001b[0mastype\u001b[0m\u001b[0;34m(\u001b[0m\u001b[0mobject\u001b[0m\u001b[0;34m)\u001b[0m\u001b[0;34m.\u001b[0m\u001b[0mvalues\u001b[0m\u001b[0;34m\u001b[0m\u001b[0m\n\u001b[0;32m-> 3848\u001b[0;31m                 \u001b[0mmapped\u001b[0m \u001b[0;34m=\u001b[0m \u001b[0mlib\u001b[0m\u001b[0;34m.\u001b[0m\u001b[0mmap_infer\u001b[0m\u001b[0;34m(\u001b[0m\u001b[0mvalues\u001b[0m\u001b[0;34m,\u001b[0m \u001b[0mf\u001b[0m\u001b[0;34m,\u001b[0m \u001b[0mconvert\u001b[0m\u001b[0;34m=\u001b[0m\u001b[0mconvert_dtype\u001b[0m\u001b[0;34m)\u001b[0m\u001b[0;34m\u001b[0m\u001b[0m\n\u001b[0m\u001b[1;32m   3849\u001b[0m \u001b[0;34m\u001b[0m\u001b[0m\n\u001b[1;32m   3850\u001b[0m         \u001b[0;32mif\u001b[0m \u001b[0mlen\u001b[0m\u001b[0;34m(\u001b[0m\u001b[0mmapped\u001b[0m\u001b[0;34m)\u001b[0m \u001b[0;32mand\u001b[0m \u001b[0misinstance\u001b[0m\u001b[0;34m(\u001b[0m\u001b[0mmapped\u001b[0m\u001b[0;34m[\u001b[0m\u001b[0;36m0\u001b[0m\u001b[0;34m]\u001b[0m\u001b[0;34m,\u001b[0m \u001b[0mSeries\u001b[0m\u001b[0;34m)\u001b[0m\u001b[0;34m:\u001b[0m\u001b[0;34m\u001b[0m\u001b[0m\n",
      "\u001b[0;32mpandas/_libs/lib.pyx\u001b[0m in \u001b[0;36mpandas._libs.lib.map_infer\u001b[0;34m()\u001b[0m\n",
      "\u001b[0;32m<ipython-input-125-3998fc261db5>\u001b[0m in \u001b[0;36m<lambda>\u001b[0;34m(x)\u001b[0m\n\u001b[0;32m----> 1\u001b[0;31m \u001b[0misp\u001b[0m \u001b[0;34m=\u001b[0m \u001b[0mdata\u001b[0m\u001b[0;34m.\u001b[0m\u001b[0misp\u001b[0m\u001b[0;34m.\u001b[0m\u001b[0mapply\u001b[0m\u001b[0;34m(\u001b[0m\u001b[0;32mlambda\u001b[0m \u001b[0mx\u001b[0m \u001b[0;34m:\u001b[0m \u001b[0;34m\" \"\u001b[0m\u001b[0;34m.\u001b[0m\u001b[0mjoin\u001b[0m\u001b[0;34m(\u001b[0m\u001b[0mx\u001b[0m\u001b[0;34m)\u001b[0m \u001b[0;32mif\u001b[0m \u001b[0mx\u001b[0m \u001b[0;32melse\u001b[0m \u001b[0;32mNone\u001b[0m\u001b[0;34m)\u001b[0m\u001b[0;34m\u001b[0m\u001b[0m\n\u001b[0m",
      "\u001b[0;31mTypeError\u001b[0m: can only join an iterable"
     ]
    }
   ],
   "source": [
    "isp = data.isp.apply(lambda x : \" \".join(x) if x else None)"
   ]
  },
  {
   "cell_type": "code",
   "execution_count": 126,
   "metadata": {},
   "outputs": [
    {
     "output_type": "error",
     "ename": "NameError",
     "evalue": "name 'isp' is not defined",
     "traceback": [
      "\u001b[0;31m---------------------------------------------------------------------------\u001b[0m",
      "\u001b[0;31mNameError\u001b[0m                                 Traceback (most recent call last)",
      "\u001b[0;32m<ipython-input-126-de78e65689a3>\u001b[0m in \u001b[0;36m<module>\u001b[0;34m\u001b[0m\n\u001b[0;32m----> 1\u001b[0;31m \u001b[0misp\u001b[0m\u001b[0;34m.\u001b[0m\u001b[0munique\u001b[0m\u001b[0;34m(\u001b[0m\u001b[0;34m)\u001b[0m\u001b[0;34m\u001b[0m\u001b[0m\n\u001b[0m",
      "\u001b[0;31mNameError\u001b[0m: name 'isp' is not defined"
     ]
    }
   ],
   "source": [
    "isp.unique()"
   ]
  },
  {
   "cell_type": "markdown",
   "metadata": {},
   "source": [
    "From what we can see, we can:\n",
    "- remove all the @ before the provider,\n",
    "- remove 3G and 4G mention and save them\n",
    "- Some providers put others names afters and we keep only the first words like Mango, Airtle, MTN, fatsnet"
   ]
  },
  {
   "cell_type": "code",
   "execution_count": 127,
   "metadata": {},
   "outputs": [],
   "source": [
    "network_provider_regex = re.compile(r'\\b3G\\b | \\b4G\\b ', flags=re.I | re.X)"
   ]
  },
  {
   "cell_type": "code",
   "execution_count": 128,
   "metadata": {},
   "outputs": [
    {
     "output_type": "error",
     "ename": "SyntaxError",
     "evalue": "invalid syntax (<ipython-input-128-389500abe544>, line 1)",
     "traceback": [
      "\u001b[0;36m  File \u001b[0;32m\"<ipython-input-128-389500abe544>\"\u001b[0;36m, line \u001b[0;32m1\u001b[0m\n\u001b[0;31m    Removing the @ before provider.\u001b[0m\n\u001b[0m               ^\u001b[0m\n\u001b[0;31mSyntaxError\u001b[0m\u001b[0;31m:\u001b[0m invalid syntax\n"
     ]
    }
   ],
   "source": [
    "Removing the @ before provider."
   ]
  },
  {
   "cell_type": "code",
   "execution_count": 129,
   "metadata": {},
   "outputs": [
    {
     "output_type": "error",
     "ename": "NameError",
     "evalue": "name 'isp' is not defined",
     "traceback": [
      "\u001b[0;31m---------------------------------------------------------------------------\u001b[0m",
      "\u001b[0;31mNameError\u001b[0m                                 Traceback (most recent call last)",
      "\u001b[0;32m<ipython-input-129-a911af747dd1>\u001b[0m in \u001b[0;36m<module>\u001b[0;34m\u001b[0m\n\u001b[0;32m----> 1\u001b[0;31m \u001b[0misp\u001b[0m \u001b[0;34m=\u001b[0m \u001b[0misp\u001b[0m\u001b[0;34m.\u001b[0m\u001b[0mstr\u001b[0m\u001b[0;34m.\u001b[0m\u001b[0mreplace\u001b[0m\u001b[0;34m(\u001b[0m\u001b[0;34m\"@\"\u001b[0m\u001b[0;34m,\u001b[0m \u001b[0;34m''\u001b[0m\u001b[0;34m)\u001b[0m\u001b[0;34m\u001b[0m\u001b[0m\n\u001b[0m",
      "\u001b[0;31mNameError\u001b[0m: name 'isp' is not defined"
     ]
    }
   ],
   "source": [
    "isp = isp.str.replace(\"@\", '')"
   ]
  },
  {
   "cell_type": "code",
   "execution_count": 130,
   "metadata": {},
   "outputs": [
    {
     "output_type": "error",
     "ename": "NameError",
     "evalue": "name 'isp' is not defined",
     "traceback": [
      "\u001b[0;31m---------------------------------------------------------------------------\u001b[0m",
      "\u001b[0;31mNameError\u001b[0m                                 Traceback (most recent call last)",
      "\u001b[0;32m<ipython-input-130-1ab7a021370a>\u001b[0m in \u001b[0;36m<module>\u001b[0;34m\u001b[0m\n\u001b[0;32m----> 1\u001b[0;31m \u001b[0mnetwork_type\u001b[0m \u001b[0;34m=\u001b[0m \u001b[0misp\u001b[0m\u001b[0;34m.\u001b[0m\u001b[0mstr\u001b[0m\u001b[0;34m.\u001b[0m\u001b[0mfindall\u001b[0m\u001b[0;34m(\u001b[0m\u001b[0mnetwork_provider_regex\u001b[0m\u001b[0;34m)\u001b[0m\u001b[0;34m\u001b[0m\u001b[0m\n\u001b[0m",
      "\u001b[0;31mNameError\u001b[0m: name 'isp' is not defined"
     ]
    }
   ],
   "source": [
    "network_type = isp.str.findall(network_provider_regex)"
   ]
  },
  {
   "cell_type": "code",
   "execution_count": 131,
   "metadata": {},
   "outputs": [
    {
     "output_type": "error",
     "ename": "NameError",
     "evalue": "name 'network_type' is not defined",
     "traceback": [
      "\u001b[0;31m---------------------------------------------------------------------------\u001b[0m",
      "\u001b[0;31mNameError\u001b[0m                                 Traceback (most recent call last)",
      "\u001b[0;32m<ipython-input-131-326c1c202425>\u001b[0m in \u001b[0;36m<module>\u001b[0;34m\u001b[0m\n\u001b[0;32m----> 1\u001b[0;31m \u001b[0mnetwork_type\u001b[0m \u001b[0;34m=\u001b[0m \u001b[0mnetwork_type\u001b[0m\u001b[0;34m.\u001b[0m\u001b[0mapply\u001b[0m\u001b[0;34m(\u001b[0m\u001b[0;32mlambda\u001b[0m \u001b[0mx\u001b[0m \u001b[0;34m:\u001b[0m \u001b[0mx\u001b[0m\u001b[0;34m[\u001b[0m\u001b[0;36m0\u001b[0m\u001b[0;34m]\u001b[0m \u001b[0;32mif\u001b[0m \u001b[0mx\u001b[0m \u001b[0;32melse\u001b[0m \u001b[0;32mNone\u001b[0m\u001b[0;34m)\u001b[0m\u001b[0;34m\u001b[0m\u001b[0m\n\u001b[0m",
      "\u001b[0;31mNameError\u001b[0m: name 'network_type' is not defined"
     ]
    }
   ],
   "source": [
    "network_type = network_type.apply(lambda x : x[0] if x else None)"
   ]
  },
  {
   "cell_type": "code",
   "execution_count": 132,
   "metadata": {},
   "outputs": [
    {
     "output_type": "error",
     "ename": "NameError",
     "evalue": "name 'network_type' is not defined",
     "traceback": [
      "\u001b[0;31m---------------------------------------------------------------------------\u001b[0m",
      "\u001b[0;31mNameError\u001b[0m                                 Traceback (most recent call last)",
      "\u001b[0;32m<ipython-input-132-924fc059b09f>\u001b[0m in \u001b[0;36m<module>\u001b[0;34m\u001b[0m\n\u001b[0;32m----> 1\u001b[0;31m \u001b[0mnetwork_type\u001b[0m\u001b[0;34m.\u001b[0m\u001b[0misna\u001b[0m\u001b[0;34m(\u001b[0m\u001b[0;34m)\u001b[0m\u001b[0;34m.\u001b[0m\u001b[0mvalue_counts\u001b[0m\u001b[0;34m(\u001b[0m\u001b[0mnormalize\u001b[0m\u001b[0;34m=\u001b[0m\u001b[0;32mTrue\u001b[0m\u001b[0;34m)\u001b[0m\u001b[0;34m\u001b[0m\u001b[0m\n\u001b[0m",
      "\u001b[0;31mNameError\u001b[0m: name 'network_type' is not defined"
     ]
    }
   ],
   "source": [
    "network_type.isna().value_counts(normalize=True)"
   ]
  },
  {
   "cell_type": "markdown",
   "metadata": {},
   "source": [
    "Only 20% of people gave their isp but we can keep them like that."
   ]
  },
  {
   "cell_type": "code",
   "execution_count": 133,
   "metadata": {},
   "outputs": [
    {
     "output_type": "error",
     "ename": "NameError",
     "evalue": "name 'network_type' is not defined",
     "traceback": [
      "\u001b[0;31m---------------------------------------------------------------------------\u001b[0m",
      "\u001b[0;31mNameError\u001b[0m                                 Traceback (most recent call last)",
      "\u001b[0;32m<ipython-input-133-f8f5e9534c35>\u001b[0m in \u001b[0;36m<module>\u001b[0;34m\u001b[0m\n\u001b[0;32m----> 1\u001b[0;31m \u001b[0mdata\u001b[0m \u001b[0;34m=\u001b[0m \u001b[0mdata\u001b[0m\u001b[0;34m.\u001b[0m\u001b[0massign\u001b[0m\u001b[0;34m(\u001b[0m\u001b[0mnetwork_type\u001b[0m\u001b[0;34m=\u001b[0m\u001b[0mnetwork_type\u001b[0m\u001b[0;34m)\u001b[0m\u001b[0;34m\u001b[0m\u001b[0m\n\u001b[0m",
      "\u001b[0;31mNameError\u001b[0m: name 'network_type' is not defined"
     ]
    }
   ],
   "source": [
    "data = data.assign(network_type=network_type)"
   ]
  },
  {
   "cell_type": "code",
   "execution_count": 134,
   "metadata": {},
   "outputs": [
    {
     "output_type": "execute_result",
     "data": {
      "text/plain": "     Unnamed: 0    location                   isp     speed images  \\\n238         238      Mumena  ['Mango', 'Telecom']  8.5 Mbps    NaN   \n239         239     Gikondo               ['MTN']  7.2 Mbps    NaN   \n240         240  Kimisagara            ['Airtel']  1.2 Mbps    NaN   \n241         241      Gisozi         ['CB', 'Net']   34 Mbps    NaN   \n242         242   Kimironko                    []  4.6 Mbps    NaN   \n\n    location_cleaned network_type isp_cleaned speed_cleaned speed_unit  \n238           mumena          NaN       mango           8.5       mbps  \n239          gikondo          NaN         mtn           7.2       mbps  \n240       kimisagara          NaN      airtel           1.2       mbps  \n241           gisozi          NaN       CbNet            34       mbps  \n242        kimironko          NaN         NaN           4.6       mbps  ",
      "text/html": "<div>\n<style scoped>\n    .dataframe tbody tr th:only-of-type {\n        vertical-align: middle;\n    }\n\n    .dataframe tbody tr th {\n        vertical-align: top;\n    }\n\n    .dataframe thead th {\n        text-align: right;\n    }\n</style>\n<table border=\"1\" class=\"dataframe\">\n  <thead>\n    <tr style=\"text-align: right;\">\n      <th></th>\n      <th>Unnamed: 0</th>\n      <th>location</th>\n      <th>isp</th>\n      <th>speed</th>\n      <th>images</th>\n      <th>location_cleaned</th>\n      <th>network_type</th>\n      <th>isp_cleaned</th>\n      <th>speed_cleaned</th>\n      <th>speed_unit</th>\n    </tr>\n  </thead>\n  <tbody>\n    <tr>\n      <th>238</th>\n      <td>238</td>\n      <td>Mumena</td>\n      <td>['Mango', 'Telecom']</td>\n      <td>8.5 Mbps</td>\n      <td>NaN</td>\n      <td>mumena</td>\n      <td>NaN</td>\n      <td>mango</td>\n      <td>8.5</td>\n      <td>mbps</td>\n    </tr>\n    <tr>\n      <th>239</th>\n      <td>239</td>\n      <td>Gikondo</td>\n      <td>['MTN']</td>\n      <td>7.2 Mbps</td>\n      <td>NaN</td>\n      <td>gikondo</td>\n      <td>NaN</td>\n      <td>mtn</td>\n      <td>7.2</td>\n      <td>mbps</td>\n    </tr>\n    <tr>\n      <th>240</th>\n      <td>240</td>\n      <td>Kimisagara</td>\n      <td>['Airtel']</td>\n      <td>1.2 Mbps</td>\n      <td>NaN</td>\n      <td>kimisagara</td>\n      <td>NaN</td>\n      <td>airtel</td>\n      <td>1.2</td>\n      <td>mbps</td>\n    </tr>\n    <tr>\n      <th>241</th>\n      <td>241</td>\n      <td>Gisozi</td>\n      <td>['CB', 'Net']</td>\n      <td>34 Mbps</td>\n      <td>NaN</td>\n      <td>gisozi</td>\n      <td>NaN</td>\n      <td>CbNet</td>\n      <td>34</td>\n      <td>mbps</td>\n    </tr>\n    <tr>\n      <th>242</th>\n      <td>242</td>\n      <td>Kimironko</td>\n      <td>[]</td>\n      <td>4.6 Mbps</td>\n      <td>NaN</td>\n      <td>kimironko</td>\n      <td>NaN</td>\n      <td>NaN</td>\n      <td>4.6</td>\n      <td>mbps</td>\n    </tr>\n  </tbody>\n</table>\n</div>"
     },
     "metadata": {},
     "execution_count": 134
    }
   ],
   "source": [
    "data.tail()"
   ]
  },
  {
   "cell_type": "markdown",
   "metadata": {},
   "source": [
    "let remove those mentions from the data"
   ]
  },
  {
   "cell_type": "code",
   "execution_count": 135,
   "metadata": {},
   "outputs": [
    {
     "output_type": "error",
     "ename": "NameError",
     "evalue": "name 'isp' is not defined",
     "traceback": [
      "\u001b[0;31m---------------------------------------------------------------------------\u001b[0m",
      "\u001b[0;31mNameError\u001b[0m                                 Traceback (most recent call last)",
      "\u001b[0;32m<ipython-input-135-fd596fa1dc3a>\u001b[0m in \u001b[0;36m<module>\u001b[0;34m\u001b[0m\n\u001b[0;32m----> 1\u001b[0;31m \u001b[0misp\u001b[0m \u001b[0;34m=\u001b[0m \u001b[0misp\u001b[0m\u001b[0;34m.\u001b[0m\u001b[0mstr\u001b[0m\u001b[0;34m.\u001b[0m\u001b[0mreplace\u001b[0m\u001b[0;34m(\u001b[0m\u001b[0mnetwork_provider_regex\u001b[0m\u001b[0;34m,\u001b[0m \u001b[0;34m''\u001b[0m\u001b[0;34m)\u001b[0m\u001b[0;34m.\u001b[0m\u001b[0mstr\u001b[0m\u001b[0;34m.\u001b[0m\u001b[0mreplace\u001b[0m\u001b[0;34m(\u001b[0m\u001b[0;34m'/'\u001b[0m\u001b[0;34m,\u001b[0m \u001b[0;34m''\u001b[0m\u001b[0;34m)\u001b[0m\u001b[0;34m.\u001b[0m\u001b[0mstr\u001b[0m\u001b[0;34m.\u001b[0m\u001b[0mreplace\u001b[0m\u001b[0;34m(\u001b[0m\u001b[0;34m'('\u001b[0m\u001b[0;34m,\u001b[0m \u001b[0;34m''\u001b[0m\u001b[0;34m)\u001b[0m\u001b[0;34m.\u001b[0m\u001b[0mstr\u001b[0m\u001b[0;34m.\u001b[0m\u001b[0mreplace\u001b[0m\u001b[0;34m(\u001b[0m\u001b[0;34m')'\u001b[0m\u001b[0;34m,\u001b[0m \u001b[0;34m''\u001b[0m\u001b[0;34m)\u001b[0m\u001b[0;34m.\u001b[0m\u001b[0mstr\u001b[0m\u001b[0;34m.\u001b[0m\u001b[0mreplace\u001b[0m\u001b[0;34m(\u001b[0m\u001b[0;34m'-'\u001b[0m\u001b[0;34m,\u001b[0m \u001b[0;34m''\u001b[0m\u001b[0;34m)\u001b[0m\u001b[0;34m\u001b[0m\u001b[0m\n\u001b[0m",
      "\u001b[0;31mNameError\u001b[0m: name 'isp' is not defined"
     ]
    }
   ],
   "source": [
    "isp = isp.str.replace(network_provider_regex, '').str.replace('/', '').str.replace('(', '').str.replace(')', '').str.replace('-', '')"
   ]
  },
  {
   "cell_type": "code",
   "execution_count": 136,
   "metadata": {},
   "outputs": [
    {
     "output_type": "error",
     "ename": "NameError",
     "evalue": "name 'isp' is not defined",
     "traceback": [
      "\u001b[0;31m---------------------------------------------------------------------------\u001b[0m",
      "\u001b[0;31mNameError\u001b[0m                                 Traceback (most recent call last)",
      "\u001b[0;32m<ipython-input-136-de78e65689a3>\u001b[0m in \u001b[0;36m<module>\u001b[0;34m\u001b[0m\n\u001b[0;32m----> 1\u001b[0;31m \u001b[0misp\u001b[0m\u001b[0;34m.\u001b[0m\u001b[0munique\u001b[0m\u001b[0;34m(\u001b[0m\u001b[0;34m)\u001b[0m\u001b[0;34m\u001b[0m\u001b[0m\n\u001b[0m",
      "\u001b[0;31mNameError\u001b[0m: name 'isp' is not defined"
     ]
    }
   ],
   "source": [
    "isp.unique()"
   ]
  },
  {
   "cell_type": "code",
   "execution_count": 137,
   "metadata": {},
   "outputs": [
    {
     "output_type": "error",
     "ename": "NameError",
     "evalue": "name 'isp' is not defined",
     "traceback": [
      "\u001b[0;31m---------------------------------------------------------------------------\u001b[0m",
      "\u001b[0;31mNameError\u001b[0m                                 Traceback (most recent call last)",
      "\u001b[0;32m<ipython-input-137-590f1a5aa6be>\u001b[0m in \u001b[0;36m<module>\u001b[0;34m\u001b[0m\n\u001b[0;32m----> 1\u001b[0;31m \u001b[0misp\u001b[0m \u001b[0;34m=\u001b[0m \u001b[0misp\u001b[0m\u001b[0;34m.\u001b[0m\u001b[0mstr\u001b[0m\u001b[0;34m.\u001b[0m\u001b[0mlower\u001b[0m\u001b[0;34m(\u001b[0m\u001b[0;34m)\u001b[0m\u001b[0;34m.\u001b[0m\u001b[0mstr\u001b[0m\u001b[0;34m.\u001b[0m\u001b[0mstrip\u001b[0m\u001b[0;34m(\u001b[0m\u001b[0;34m)\u001b[0m\u001b[0;34m.\u001b[0m\u001b[0mstr\u001b[0m\u001b[0;34m.\u001b[0m\u001b[0msplit\u001b[0m\u001b[0;34m(\u001b[0m\u001b[0;34m' '\u001b[0m\u001b[0;34m,\u001b[0m \u001b[0mexpand\u001b[0m\u001b[0;34m=\u001b[0m\u001b[0;32mTrue\u001b[0m\u001b[0;34m)\u001b[0m\u001b[0;34m[\u001b[0m\u001b[0;36m0\u001b[0m\u001b[0;34m]\u001b[0m\u001b[0;34m\u001b[0m\u001b[0m\n\u001b[0m",
      "\u001b[0;31mNameError\u001b[0m: name 'isp' is not defined"
     ]
    }
   ],
   "source": [
    "isp = isp.str.lower().str.strip().str.split(' ', expand=True)[0]"
   ]
  },
  {
   "cell_type": "markdown",
   "metadata": {},
   "source": [
    "let remove 'rw or rwanda' suffix to the data and see whtat  we can have"
   ]
  },
  {
   "cell_type": "code",
   "execution_count": 138,
   "metadata": {
    "scrolled": true
   },
   "outputs": [
    {
     "output_type": "error",
     "ename": "NameError",
     "evalue": "name 'isp' is not defined",
     "traceback": [
      "\u001b[0;31m---------------------------------------------------------------------------\u001b[0m",
      "\u001b[0;31mNameError\u001b[0m                                 Traceback (most recent call last)",
      "\u001b[0;32m<ipython-input-138-b7271bee1e52>\u001b[0m in \u001b[0;36m<module>\u001b[0;34m\u001b[0m\n\u001b[0;32m----> 1\u001b[0;31m \u001b[0misp\u001b[0m \u001b[0;34m=\u001b[0m \u001b[0misp\u001b[0m\u001b[0;34m.\u001b[0m\u001b[0mstr\u001b[0m\u001b[0;34m.\u001b[0m\u001b[0mreplace\u001b[0m\u001b[0;34m(\u001b[0m\u001b[0;34m'rwanda'\u001b[0m\u001b[0;34m,\u001b[0m \u001b[0;34m''\u001b[0m\u001b[0;34m)\u001b[0m\u001b[0;34m.\u001b[0m\u001b[0mstr\u001b[0m\u001b[0;34m.\u001b[0m\u001b[0mreplace\u001b[0m\u001b[0;34m(\u001b[0m\u001b[0;34m'rw'\u001b[0m\u001b[0;34m,\u001b[0m \u001b[0;34m''\u001b[0m\u001b[0;34m)\u001b[0m\u001b[0;34m.\u001b[0m\u001b[0mstr\u001b[0m\u001b[0;34m.\u001b[0m\u001b[0mreplace\u001b[0m\u001b[0;34m(\u001b[0m\u001b[0;34m'telecom'\u001b[0m\u001b[0;34m,\u001b[0m \u001b[0;34m''\u001b[0m\u001b[0;34m)\u001b[0m\u001b[0;34m.\u001b[0m\u001b[0mstr\u001b[0m\u001b[0;34m.\u001b[0m\u001b[0mreplace\u001b[0m\u001b[0;34m(\u001b[0m\u001b[0;34m'isp_'\u001b[0m\u001b[0;34m,\u001b[0m \u001b[0;34m''\u001b[0m\u001b[0;34m)\u001b[0m\u001b[0;34m\u001b[0m\u001b[0m\n\u001b[0m",
      "\u001b[0;31mNameError\u001b[0m: name 'isp' is not defined"
     ]
    }
   ],
   "source": [
    "isp = isp.str.replace('rwanda', '').str.replace('rw', '').str.replace('telecom', '').str.replace('isp_', '')"
   ]
  },
  {
   "cell_type": "code",
   "execution_count": 139,
   "metadata": {},
   "outputs": [
    {
     "output_type": "error",
     "ename": "NameError",
     "evalue": "name 'isp' is not defined",
     "traceback": [
      "\u001b[0;31m---------------------------------------------------------------------------\u001b[0m",
      "\u001b[0;31mNameError\u001b[0m                                 Traceback (most recent call last)",
      "\u001b[0;32m<ipython-input-139-d3acb09d5b8b>\u001b[0m in \u001b[0;36m<module>\u001b[0;34m\u001b[0m\n\u001b[0;32m----> 1\u001b[0;31m \u001b[0misp\u001b[0m\u001b[0;34m.\u001b[0m\u001b[0mvalue_counts\u001b[0m\u001b[0;34m(\u001b[0m\u001b[0;34m)\u001b[0m\u001b[0;34m\u001b[0m\u001b[0m\n\u001b[0m",
      "\u001b[0;31mNameError\u001b[0m: name 'isp' is not defined"
     ]
    }
   ],
   "source": [
    "isp.value_counts()"
   ]
  },
  {
   "cell_type": "markdown",
   "metadata": {},
   "source": [
    "We can see that most of the provideers are now presents , we can now remove word that was not well typed."
   ]
  },
  {
   "cell_type": "code",
   "execution_count": 140,
   "metadata": {},
   "outputs": [
    {
     "output_type": "error",
     "ename": "NameError",
     "evalue": "name 'isp' is not defined",
     "traceback": [
      "\u001b[0;31m---------------------------------------------------------------------------\u001b[0m",
      "\u001b[0;31mNameError\u001b[0m                                 Traceback (most recent call last)",
      "\u001b[0;32m<ipython-input-140-339b4872a860>\u001b[0m in \u001b[0;36m<module>\u001b[0;34m\u001b[0m\n\u001b[0;32m----> 1\u001b[0;31m \u001b[0misp\u001b[0m \u001b[0;34m=\u001b[0m \u001b[0misp\u001b[0m\u001b[0;34m.\u001b[0m\u001b[0mreplace\u001b[0m\u001b[0;34m(\u001b[0m\u001b[0mto_replace\u001b[0m\u001b[0;34m=\u001b[0m\u001b[0;34m{\u001b[0m\u001b[0;34m'truconnect'\u001b[0m\u001b[0;34m:\u001b[0m\u001b[0;34m'trueconnect'\u001b[0m\u001b[0;34m,\u001b[0m \u001b[0;34m'trueconnect'\u001b[0m\u001b[0;34m:\u001b[0m\u001b[0;34m'trueconnect'\u001b[0m\u001b[0;34m,\u001b[0m \u001b[0;34m'trukonekt'\u001b[0m\u001b[0;34m:\u001b[0m\u001b[0;34m'trueconnect'\u001b[0m\u001b[0;34m}\u001b[0m\u001b[0;34m)\u001b[0m\u001b[0;31m\\\u001b[0m\u001b[0;34m\u001b[0m\u001b[0m\n\u001b[0m\u001b[1;32m      2\u001b[0m     \u001b[0;34m.\u001b[0m\u001b[0mreplace\u001b[0m\u001b[0;34m(\u001b[0m\u001b[0mto_replace\u001b[0m\u001b[0;34m=\u001b[0m\u001b[0;34m'aitell'\u001b[0m\u001b[0;34m,\u001b[0m \u001b[0mvalue\u001b[0m\u001b[0;34m=\u001b[0m\u001b[0;34m'airtel'\u001b[0m\u001b[0;34m)\u001b[0m\u001b[0;31m\\\u001b[0m\u001b[0;34m\u001b[0m\u001b[0m\n\u001b[1;32m      3\u001b[0m     \u001b[0;34m.\u001b[0m\u001b[0mreplace\u001b[0m\u001b[0;34m(\u001b[0m\u001b[0mto_replace\u001b[0m\u001b[0;34m=\u001b[0m\u001b[0;34m'mangoktrn'\u001b[0m\u001b[0;34m,\u001b[0m \u001b[0mvalue\u001b[0m\u001b[0;34m=\u001b[0m\u001b[0;34m'mango'\u001b[0m\u001b[0;34m)\u001b[0m\u001b[0;31m\\\u001b[0m\u001b[0;34m\u001b[0m\u001b[0m\n\u001b[1;32m      4\u001b[0m     \u001b[0;34m.\u001b[0m\u001b[0mreplace\u001b[0m\u001b[0;34m(\u001b[0m\u001b[0mto_replace\u001b[0m\u001b[0;34m=\u001b[0m\u001b[0;34m'cb'\u001b[0m\u001b[0;34m,\u001b[0m \u001b[0mvalue\u001b[0m\u001b[0;34m=\u001b[0m\u001b[0;34m'CbNet'\u001b[0m\u001b[0;34m)\u001b[0m\u001b[0;34m\u001b[0m\u001b[0m\n",
      "\u001b[0;31mNameError\u001b[0m: name 'isp' is not defined"
     ]
    }
   ],
   "source": [
    "isp = isp.replace(to_replace={'truconnect':'trueconnect', 'trueconnect':'trueconnect', 'trukonekt':'trueconnect'})\\\n",
    "    .replace(to_replace='aitell', value='airtel')\\\n",
    "    .replace(to_replace='mangoktrn', value='mango')\\\n",
    "    .replace(to_replace='cb', value='CbNet')"
   ]
  },
  {
   "cell_type": "code",
   "execution_count": 141,
   "metadata": {},
   "outputs": [
    {
     "output_type": "error",
     "ename": "NameError",
     "evalue": "name 'isp' is not defined",
     "traceback": [
      "\u001b[0;31m---------------------------------------------------------------------------\u001b[0m",
      "\u001b[0;31mNameError\u001b[0m                                 Traceback (most recent call last)",
      "\u001b[0;32m<ipython-input-141-d3acb09d5b8b>\u001b[0m in \u001b[0;36m<module>\u001b[0;34m\u001b[0m\n\u001b[0;32m----> 1\u001b[0;31m \u001b[0misp\u001b[0m\u001b[0;34m.\u001b[0m\u001b[0mvalue_counts\u001b[0m\u001b[0;34m(\u001b[0m\u001b[0;34m)\u001b[0m\u001b[0;34m\u001b[0m\u001b[0m\n\u001b[0m",
      "\u001b[0;31mNameError\u001b[0m: name 'isp' is not defined"
     ]
    }
   ],
   "source": [
    "isp.value_counts()"
   ]
  },
  {
   "cell_type": "code",
   "execution_count": 142,
   "metadata": {},
   "outputs": [
    {
     "output_type": "error",
     "ename": "NameError",
     "evalue": "name 'isp' is not defined",
     "traceback": [
      "\u001b[0;31m---------------------------------------------------------------------------\u001b[0m",
      "\u001b[0;31mNameError\u001b[0m                                 Traceback (most recent call last)",
      "\u001b[0;32m<ipython-input-142-3a50d81469f4>\u001b[0m in \u001b[0;36m<module>\u001b[0;34m\u001b[0m\n\u001b[0;32m----> 1\u001b[0;31m \u001b[0mdata\u001b[0m \u001b[0;34m=\u001b[0m \u001b[0mdata\u001b[0m\u001b[0;34m.\u001b[0m\u001b[0massign\u001b[0m\u001b[0;34m(\u001b[0m\u001b[0misp_cleaned\u001b[0m \u001b[0;34m=\u001b[0m \u001b[0misp\u001b[0m\u001b[0;34m)\u001b[0m\u001b[0;34m\u001b[0m\u001b[0m\n\u001b[0m",
      "\u001b[0;31mNameError\u001b[0m: name 'isp' is not defined"
     ]
    }
   ],
   "source": [
    "data = data.assign(isp_cleaned = isp)"
   ]
  },
  {
   "cell_type": "code",
   "execution_count": 143,
   "metadata": {},
   "outputs": [
    {
     "output_type": "error",
     "ename": "NameError",
     "evalue": "name 'plt' is not defined",
     "traceback": [
      "\u001b[0;31m---------------------------------------------------------------------------\u001b[0m",
      "\u001b[0;31mNameError\u001b[0m                                 Traceback (most recent call last)",
      "\u001b[0;32m<ipython-input-143-96082f6379f8>\u001b[0m in \u001b[0;36m<module>\u001b[0;34m\u001b[0m\n\u001b[0;32m----> 1\u001b[0;31m \u001b[0mfig\u001b[0m\u001b[0;34m,\u001b[0m \u001b[0max\u001b[0m  \u001b[0;34m=\u001b[0m \u001b[0mplt\u001b[0m\u001b[0;34m.\u001b[0m\u001b[0msubplots\u001b[0m\u001b[0;34m(\u001b[0m\u001b[0;36m1\u001b[0m\u001b[0;34m,\u001b[0m \u001b[0;36m1\u001b[0m\u001b[0;34m,\u001b[0m \u001b[0mfigsize\u001b[0m\u001b[0;34m=\u001b[0m\u001b[0;34m(\u001b[0m\u001b[0;36m20\u001b[0m\u001b[0;34m,\u001b[0m \u001b[0;36m10\u001b[0m\u001b[0;34m)\u001b[0m\u001b[0;34m,\u001b[0m \u001b[0msharex\u001b[0m\u001b[0;34m=\u001b[0m\u001b[0;32mFalse\u001b[0m\u001b[0;34m)\u001b[0m\u001b[0;34m\u001b[0m\u001b[0m\n\u001b[0m\u001b[1;32m      2\u001b[0m \u001b[0msns\u001b[0m\u001b[0;34m.\u001b[0m\u001b[0mbarplot\u001b[0m\u001b[0;34m(\u001b[0m\u001b[0mx\u001b[0m\u001b[0;34m=\u001b[0m\u001b[0misp\u001b[0m\u001b[0;34m.\u001b[0m\u001b[0mvalue_counts\u001b[0m\u001b[0;34m(\u001b[0m\u001b[0;34m)\u001b[0m\u001b[0;34m.\u001b[0m\u001b[0mindex\u001b[0m\u001b[0;34m,\u001b[0m \u001b[0my\u001b[0m\u001b[0;34m=\u001b[0m\u001b[0misp\u001b[0m\u001b[0;34m.\u001b[0m\u001b[0mvalue_counts\u001b[0m\u001b[0;34m(\u001b[0m\u001b[0;34m)\u001b[0m\u001b[0;34m.\u001b[0m\u001b[0mvalues\u001b[0m\u001b[0;34m,\u001b[0m \u001b[0mpalette\u001b[0m\u001b[0;34m=\u001b[0m\u001b[0;34m\"deep\"\u001b[0m\u001b[0;34m,\u001b[0m \u001b[0max\u001b[0m\u001b[0;34m=\u001b[0m\u001b[0max\u001b[0m\u001b[0;34m)\u001b[0m\u001b[0;34m\u001b[0m\u001b[0m\n\u001b[1;32m      3\u001b[0m \u001b[0max\u001b[0m\u001b[0;34m.\u001b[0m\u001b[0maxhline\u001b[0m\u001b[0;34m(\u001b[0m\u001b[0;36m0\u001b[0m\u001b[0;34m,\u001b[0m \u001b[0mcolor\u001b[0m\u001b[0;34m=\u001b[0m\u001b[0;34m\"k\"\u001b[0m\u001b[0;34m,\u001b[0m \u001b[0mclip_on\u001b[0m\u001b[0;34m=\u001b[0m\u001b[0;32mFalse\u001b[0m\u001b[0;34m)\u001b[0m\u001b[0;34m\u001b[0m\u001b[0m\n\u001b[1;32m      4\u001b[0m \u001b[0max\u001b[0m\u001b[0;34m.\u001b[0m\u001b[0mset_ylabel\u001b[0m\u001b[0;34m(\u001b[0m\u001b[0;34m\"Count Of Population\"\u001b[0m\u001b[0;34m)\u001b[0m\u001b[0;34m\u001b[0m\u001b[0m\n\u001b[1;32m      5\u001b[0m \u001b[0max\u001b[0m\u001b[0;34m.\u001b[0m\u001b[0mset_xlabel\u001b[0m\u001b[0;34m(\u001b[0m\u001b[0;34m\"Provider\"\u001b[0m\u001b[0;34m)\u001b[0m\u001b[0;34m\u001b[0m\u001b[0m\n",
      "\u001b[0;31mNameError\u001b[0m: name 'plt' is not defined"
     ]
    }
   ],
   "source": [
    "fig, ax  = plt.subplots(1, 1, figsize=(20, 10), sharex=False)\n",
    "sns.barplot(x=isp.value_counts().index, y=isp.value_counts().values, palette=\"deep\", ax=ax)\n",
    "ax.axhline(0, color=\"k\", clip_on=False)\n",
    "ax.set_ylabel(\"Count Of Population\")\n",
    "ax.set_xlabel(\"Provider\")\n",
    "ax.set_title('Population per Provider')\n",
    "fig.savefig('../images/population_provider.png') "
   ]
  },
  {
   "cell_type": "markdown",
   "metadata": {},
   "source": [
    "As well as for the place , we can have missing value here, we can clean them after."
   ]
  },
  {
   "cell_type": "code",
   "execution_count": 144,
   "metadata": {},
   "outputs": [],
   "source": [
    "data.to_csv('../data/speed_rwanda.csv',)"
   ]
  },
  {
   "cell_type": "markdown",
   "metadata": {},
   "source": [
    "III. Speed"
   ]
  },
  {
   "cell_type": "markdown",
   "metadata": {},
   "source": [
    "Let see what we can do with speed data the way it comes"
   ]
  },
  {
   "cell_type": "code",
   "execution_count": 145,
   "metadata": {},
   "outputs": [],
   "source": [
    "data = pd.read_csv('../data/speed_rwanda.csv')"
   ]
  },
  {
   "cell_type": "code",
   "execution_count": 146,
   "metadata": {},
   "outputs": [
    {
     "output_type": "execute_result",
     "data": {
      "text/plain": "(243, 11)"
     },
     "metadata": {},
     "execution_count": 146
    }
   ],
   "source": [
    "data.shape"
   ]
  },
  {
   "cell_type": "markdown",
   "metadata": {},
   "source": [
    "It's obvious that speed comes to number and speed , in the format 56 Mbps or 6 kbps"
   ]
  },
  {
   "cell_type": "code",
   "execution_count": 147,
   "metadata": {},
   "outputs": [
    {
     "output_type": "execute_result",
     "data": {
      "text/plain": "False    0.502058\nTrue     0.497942\nName: speed, dtype: float64"
     },
     "metadata": {},
     "execution_count": 147
    }
   ],
   "source": [
    "data.speed.isna().value_counts(normalize=True)"
   ]
  },
  {
   "cell_type": "markdown",
   "metadata": {},
   "source": [
    "Almost 50% of data have missing values. We need to find a way to get more a=infos about missing data.\n",
    "Something from the images."
   ]
  },
  {
   "cell_type": "code",
   "execution_count": 148,
   "metadata": {},
   "outputs": [
    {
     "output_type": "execute_result",
     "data": {
      "text/plain": "0      4.7 mbps\n1           NaN\n2      2.5 mbps\n3      7.9 mbps\n4           NaN\n         ...   \n238    8.5 mbps\n239    7.2 mbps\n240    1.2 mbps\n241     34 mbps\n242    4.6 mbps\nName: speed, Length: 243, dtype: object"
     },
     "metadata": {},
     "execution_count": 148
    }
   ],
   "source": [
    "data.speed.str.lower().str.strip().str.replace('⬇', '')"
   ]
  },
  {
   "cell_type": "code",
   "execution_count": 149,
   "metadata": {},
   "outputs": [],
   "source": [
    "speed_regex = re.compile(r'\\s*kbps\\b|\\s*mbps\\b', flags=re.I | re.X)"
   ]
  },
  {
   "cell_type": "code",
   "execution_count": 150,
   "metadata": {},
   "outputs": [],
   "source": [
    "emoji_pattern = re.compile(\"[\"\n",
    "        u\"\\U0001F600-\\U0001F64F\"  # emoticons\n",
    "        u\"\\U0001F300-\\U0001F5FF\"  # symbols & pictographs\n",
    "        u\"\\U0001F680-\\U0001F6FF\"  # transport & map symbols\n",
    "        u\"\\U0001F1E0-\\U0001F1FF\"  # flags (iOS)\n",
    "                           \"]+\", flags=re.UNICODE)"
   ]
  },
  {
   "cell_type": "code",
   "execution_count": 151,
   "metadata": {},
   "outputs": [],
   "source": [
    "data.speed = data.speed.replace(emoji_pattern, '')"
   ]
  },
  {
   "cell_type": "code",
   "execution_count": 152,
   "metadata": {},
   "outputs": [
    {
     "output_type": "execute_result",
     "data": {
      "text/plain": "0       mbps\n1        NaN\n2       mbps\n3       mbps\n4        NaN\n       ...  \n238     mbps\n239     mbps\n240     mbps\n241     mbps\n242     mbps\nName: speed, Length: 243, dtype: object"
     },
     "metadata": {},
     "execution_count": 152
    }
   ],
   "source": [
    "speed_unit = data.speed.str.lower().str.findall(speed_regex).apply(lambda x : x[0] if (isinstance(x, list) and x) else x)\n",
    "speed_unit"
   ]
  },
  {
   "cell_type": "code",
   "execution_count": 153,
   "metadata": {},
   "outputs": [
    {
     "output_type": "execute_result",
     "data": {
      "text/plain": "False    0.502058\nTrue     0.497942\nName: speed, dtype: float64"
     },
     "metadata": {},
     "execution_count": 153
    }
   ],
   "source": [
    "speed_unit.isna().value_counts(normalize=True)"
   ]
  },
  {
   "cell_type": "code",
   "execution_count": null,
   "metadata": {},
   "outputs": [],
   "source": []
  },
  {
   "cell_type": "code",
   "execution_count": 154,
   "metadata": {},
   "outputs": [
    {
     "output_type": "execute_result",
     "data": {
      "text/plain": "(243, 11)"
     },
     "metadata": {},
     "execution_count": 154
    }
   ],
   "source": [
    "data.shape"
   ]
  },
  {
   "cell_type": "code",
   "execution_count": 155,
   "metadata": {},
   "outputs": [],
   "source": [
    "speed = data.speed.replace(speed_regex, '')"
   ]
  },
  {
   "cell_type": "code",
   "execution_count": 156,
   "metadata": {},
   "outputs": [
    {
     "output_type": "execute_result",
     "data": {
      "text/plain": "(243, 11)"
     },
     "metadata": {},
     "execution_count": 156
    }
   ],
   "source": [
    "data.shape"
   ]
  },
  {
   "cell_type": "markdown",
   "metadata": {},
   "source": [
    "let also get only the first float number in the digit field"
   ]
  },
  {
   "cell_type": "code",
   "execution_count": 157,
   "metadata": {},
   "outputs": [],
   "source": [
    "speed = speed.str.findall(r'[0-9]*\\.?[0-9]*.').apply(lambda x : x[0] if (isinstance(x, list) and x) else x)"
   ]
  },
  {
   "cell_type": "code",
   "execution_count": 158,
   "metadata": {},
   "outputs": [
    {
     "output_type": "execute_result",
     "data": {
      "text/plain": "'120'"
     },
     "metadata": {},
     "execution_count": 158
    }
   ],
   "source": [
    "speed[215].replace('⬇', '')"
   ]
  },
  {
   "cell_type": "markdown",
   "metadata": {},
   "source": [
    "actually we can see that that almost what what we have is cleaned ."
   ]
  },
  {
   "cell_type": "code",
   "execution_count": null,
   "metadata": {},
   "outputs": [],
   "source": []
  },
  {
   "cell_type": "code",
   "execution_count": 159,
   "metadata": {},
   "outputs": [],
   "source": [
    "data = data.assign(speed_cleaned = speed, speed_unit=speed_unit)"
   ]
  },
  {
   "cell_type": "code",
   "execution_count": 160,
   "metadata": {},
   "outputs": [
    {
     "output_type": "execute_result",
     "data": {
      "text/plain": "(243, 11)"
     },
     "metadata": {},
     "execution_count": 160
    }
   ],
   "source": [
    "data.shape"
   ]
  },
  {
   "cell_type": "code",
   "execution_count": 161,
   "metadata": {},
   "outputs": [
    {
     "output_type": "error",
     "ename": "NameError",
     "evalue": "name 'speed_normalize' is not defined",
     "traceback": [
      "\u001b[0;31m---------------------------------------------------------------------------\u001b[0m",
      "\u001b[0;31mNameError\u001b[0m                                 Traceback (most recent call last)",
      "\u001b[0;32m<ipython-input-161-041ecd339bb9>\u001b[0m in \u001b[0;36m<module>\u001b[0;34m\u001b[0m\n\u001b[0;32m----> 1\u001b[0;31m \u001b[0mdata\u001b[0m \u001b[0;34m=\u001b[0m \u001b[0mdata\u001b[0m\u001b[0;34m.\u001b[0m\u001b[0massign\u001b[0m\u001b[0;34m(\u001b[0m\u001b[0mspeed_normalize\u001b[0m\u001b[0;34m=\u001b[0m\u001b[0mspeed_normalize\u001b[0m\u001b[0;34m)\u001b[0m\u001b[0;34m\u001b[0m\u001b[0m\n\u001b[0m",
      "\u001b[0;31mNameError\u001b[0m: name 'speed_normalize' is not defined"
     ]
    }
   ],
   "source": [
    "data = data.assign(speed_normalize=speed_normalize)"
   ]
  },
  {
   "cell_type": "code",
   "execution_count": 162,
   "metadata": {},
   "outputs": [
    {
     "output_type": "execute_result",
     "data": {
      "text/plain": "0      False\n1      False\n2      False\n3      False\n4      False\n       ...  \n238    False\n239    False\n240    False\n241    False\n242    False\nName: speed, Length: 243, dtype: bool"
     },
     "metadata": {},
     "execution_count": 162
    }
   ],
   "source": [
    "data.speed.str.contains('kbps').fillna(False)"
   ]
  },
  {
   "cell_type": "code",
   "execution_count": 163,
   "metadata": {},
   "outputs": [],
   "source": [
    "data.loc[215, 'speed_cleaned'] = speed[215].replace('⬇', '')"
   ]
  },
  {
   "cell_type": "code",
   "execution_count": 164,
   "metadata": {},
   "outputs": [
    {
     "output_type": "execute_result",
     "data": {
      "text/plain": "     Unnamed: 0  Unnamed: 0.1                   location  \\\n22           22            22                 Kibagabaga   \n27           27            27                 Kimironko    \n51           51            51          Kicukiro Ngoma,     \n54           54            54          Gitega-Nyarugenge   \n85           85            85                  Kimironko   \n88           88            88                    Muhanga   \n91           91            91           bugesera mayange   \n95           95            95                    Masaka    \n110         110           110            Kicukiro Niboye   \n111         111           111       Nyamirambo (Kuri 40)   \n116         116           116                    Kacyiru   \n121         121           121                     Kabeza   \n164         164           164                  Kimironko   \n175         175           175     Gisozi near Kurwibutso   \n177         177           177         Kimihurura/Rugando   \n190         190           190                        NaN   \n215         215           215             Ruyenzi          \n222         222           222                   Kagarama   \n230         230           230  Gisozi | Gacinjiru          \n231         231           231                        NaN   \n\n                                isp  \\\n22               ['Airtel', '(4G)']   \n27                              NaN   \n51                          ['MTN']   \n54                               []   \n85               ['Airtel', '(3G)']   \n88                       ['Airtel']   \n91   ['RTN', '', '4G', '@ktRwanda']   \n95                               []   \n110                    ['MTN', '😡']   \n111         ['@airtelrw', '', '3G']   \n116                         ['MTN']   \n121                   ['@airtelrw']   \n164                              []   \n175                   ['MTN', '3G']   \n177                         ['MTN']   \n190                   ['MTN', '3G']   \n215                   ['@airtelrw']   \n222                              []   \n230                  ['@MTNRwanda']   \n231                              []   \n\n                                             speed  \\\n22                                        600 Kbps   \n27                                        290 Kbps   \n51                 490kbps https://t.co/PhVvzsjPr8   \n54                                         80 Kbps   \n85                                          38Kbps   \n88                                        160 Kbps   \n91                                         230kbps   \n95                                        550 kbps   \n110                                        14 kbps   \n111                                        170kbps   \n116                                        140Kbps   \n121                                       130kbps    \n164                                       580 Kbps   \n175                                        240Kbps   \n177                                       870 kbps   \n190  920kbps , ISP: MTN 3G https://t.co/Up9BLf9HxK   \n215                          120 kbps⬇️ 850 kbps⬆️   \n222                                         65Kbps   \n230                       170 Kbps ⬇️ 460 Kbps ⬆️    \n231                                  330 Kbps (☹️)   \n\n                                                images location_cleaned  \\\n22   ['http://pbs.twimg.com/media/EUwvTF4WkAIdsA9.j...       kibagabaga   \n27   ['http://pbs.twimg.com/media/EUwh8WSX0AEQBOe.j...        kimironko   \n51   ['http://pbs.twimg.com/media/EUu5JyFWsAIJuvz.j...         kicukiro   \n54   ['http://pbs.twimg.com/media/EUulnG-WkAYiH0v.j...           gitega   \n85   ['http://pbs.twimg.com/media/EUslhD_WAAA27yp.j...        kimironko   \n88   ['http://pbs.twimg.com/media/EUsfXe_XQAMiwm1.j...          muhanga   \n91   ['http://pbs.twimg.com/media/EUsbJGNWsAIinwi.j...         bugesera   \n95   ['http://pbs.twimg.com/media/EUsXTd2XQAArvHC.j...           masaka   \n110  ['http://pbs.twimg.com/media/EUsE4NZWoAAtcd_.j...         kicukiro   \n111  ['http://pbs.twimg.com/media/EUsD8KPWAAEEgc_.j...       nyamirambo   \n116  ['http://pbs.twimg.com/media/EUsA3FHWsAMRpyw.j...          kacyiru   \n121  ['http://pbs.twimg.com/media/EUr9rqoWkAItXmf.j...           kabeza   \n164  ['http://pbs.twimg.com/media/EUrhF3WU0AI-sYG.j...        kimironko   \n175  ['http://pbs.twimg.com/media/EUraFI_U0AEP9Cq.j...           gisozi   \n177  ['http://pbs.twimg.com/media/EUrZmQlVAAA0eb8.j...       kimihurura   \n190  ['http://pbs.twimg.com/media/EUrPH1RVAAE3U4c.j...              NaN   \n215  ['http://pbs.twimg.com/media/EUrFoS9UEAAsQsJ.j...          ruyenzi   \n222  ['http://pbs.twimg.com/media/EUrDfprU4AAKiY7.j...         kagarama   \n230  ['http://pbs.twimg.com/media/EUrASm3U8AEFC1b.j...           gisozi   \n231  ['http://pbs.twimg.com/media/EUq_kqvVAAEBxCq.p...              NaN   \n\n    network_type isp_cleaned speed_cleaned speed_unit  \n22            4G      airtel           600       kbps  \n27           NaN         NaN           290       kbps  \n51           NaN         mtn          490        kbps  \n54           NaN         NaN            80       kbps  \n85            3G      airtel            38       kbps  \n88           NaN      airtel           160       kbps  \n91            4G         rtn           230       kbps  \n95           NaN         NaN           550       kbps  \n110          NaN         mtn            14       kbps  \n111           3G      airtel           170       kbps  \n116          NaN         mtn           140       kbps  \n121          NaN      airtel          130        kbps  \n164          NaN         NaN           580       kbps  \n175           3G         mtn           240       kbps  \n177          NaN         mtn           870       kbps  \n190           3G         mtn          920        kbps  \n215          NaN      airtel           120       kbps  \n222          NaN         NaN            65       kbps  \n230          NaN         mtn          170        kbps  \n231          NaN         NaN          330        kbps  ",
      "text/html": "<div>\n<style scoped>\n    .dataframe tbody tr th:only-of-type {\n        vertical-align: middle;\n    }\n\n    .dataframe tbody tr th {\n        vertical-align: top;\n    }\n\n    .dataframe thead th {\n        text-align: right;\n    }\n</style>\n<table border=\"1\" class=\"dataframe\">\n  <thead>\n    <tr style=\"text-align: right;\">\n      <th></th>\n      <th>Unnamed: 0</th>\n      <th>Unnamed: 0.1</th>\n      <th>location</th>\n      <th>isp</th>\n      <th>speed</th>\n      <th>images</th>\n      <th>location_cleaned</th>\n      <th>network_type</th>\n      <th>isp_cleaned</th>\n      <th>speed_cleaned</th>\n      <th>speed_unit</th>\n    </tr>\n  </thead>\n  <tbody>\n    <tr>\n      <th>22</th>\n      <td>22</td>\n      <td>22</td>\n      <td>Kibagabaga</td>\n      <td>['Airtel', '(4G)']</td>\n      <td>600 Kbps</td>\n      <td>['http://pbs.twimg.com/media/EUwvTF4WkAIdsA9.j...</td>\n      <td>kibagabaga</td>\n      <td>4G</td>\n      <td>airtel</td>\n      <td>600</td>\n      <td>kbps</td>\n    </tr>\n    <tr>\n      <th>27</th>\n      <td>27</td>\n      <td>27</td>\n      <td>Kimironko</td>\n      <td>NaN</td>\n      <td>290 Kbps</td>\n      <td>['http://pbs.twimg.com/media/EUwh8WSX0AEQBOe.j...</td>\n      <td>kimironko</td>\n      <td>NaN</td>\n      <td>NaN</td>\n      <td>290</td>\n      <td>kbps</td>\n    </tr>\n    <tr>\n      <th>51</th>\n      <td>51</td>\n      <td>51</td>\n      <td>Kicukiro Ngoma,</td>\n      <td>['MTN']</td>\n      <td>490kbps https://t.co/PhVvzsjPr8</td>\n      <td>['http://pbs.twimg.com/media/EUu5JyFWsAIJuvz.j...</td>\n      <td>kicukiro</td>\n      <td>NaN</td>\n      <td>mtn</td>\n      <td>490</td>\n      <td>kbps</td>\n    </tr>\n    <tr>\n      <th>54</th>\n      <td>54</td>\n      <td>54</td>\n      <td>Gitega-Nyarugenge</td>\n      <td>[]</td>\n      <td>80 Kbps</td>\n      <td>['http://pbs.twimg.com/media/EUulnG-WkAYiH0v.j...</td>\n      <td>gitega</td>\n      <td>NaN</td>\n      <td>NaN</td>\n      <td>80</td>\n      <td>kbps</td>\n    </tr>\n    <tr>\n      <th>85</th>\n      <td>85</td>\n      <td>85</td>\n      <td>Kimironko</td>\n      <td>['Airtel', '(3G)']</td>\n      <td>38Kbps</td>\n      <td>['http://pbs.twimg.com/media/EUslhD_WAAA27yp.j...</td>\n      <td>kimironko</td>\n      <td>3G</td>\n      <td>airtel</td>\n      <td>38</td>\n      <td>kbps</td>\n    </tr>\n    <tr>\n      <th>88</th>\n      <td>88</td>\n      <td>88</td>\n      <td>Muhanga</td>\n      <td>['Airtel']</td>\n      <td>160 Kbps</td>\n      <td>['http://pbs.twimg.com/media/EUsfXe_XQAMiwm1.j...</td>\n      <td>muhanga</td>\n      <td>NaN</td>\n      <td>airtel</td>\n      <td>160</td>\n      <td>kbps</td>\n    </tr>\n    <tr>\n      <th>91</th>\n      <td>91</td>\n      <td>91</td>\n      <td>bugesera mayange</td>\n      <td>['RTN', '', '4G', '@ktRwanda']</td>\n      <td>230kbps</td>\n      <td>['http://pbs.twimg.com/media/EUsbJGNWsAIinwi.j...</td>\n      <td>bugesera</td>\n      <td>4G</td>\n      <td>rtn</td>\n      <td>230</td>\n      <td>kbps</td>\n    </tr>\n    <tr>\n      <th>95</th>\n      <td>95</td>\n      <td>95</td>\n      <td>Masaka</td>\n      <td>[]</td>\n      <td>550 kbps</td>\n      <td>['http://pbs.twimg.com/media/EUsXTd2XQAArvHC.j...</td>\n      <td>masaka</td>\n      <td>NaN</td>\n      <td>NaN</td>\n      <td>550</td>\n      <td>kbps</td>\n    </tr>\n    <tr>\n      <th>110</th>\n      <td>110</td>\n      <td>110</td>\n      <td>Kicukiro Niboye</td>\n      <td>['MTN', '😡']</td>\n      <td>14 kbps</td>\n      <td>['http://pbs.twimg.com/media/EUsE4NZWoAAtcd_.j...</td>\n      <td>kicukiro</td>\n      <td>NaN</td>\n      <td>mtn</td>\n      <td>14</td>\n      <td>kbps</td>\n    </tr>\n    <tr>\n      <th>111</th>\n      <td>111</td>\n      <td>111</td>\n      <td>Nyamirambo (Kuri 40)</td>\n      <td>['@airtelrw', '', '3G']</td>\n      <td>170kbps</td>\n      <td>['http://pbs.twimg.com/media/EUsD8KPWAAEEgc_.j...</td>\n      <td>nyamirambo</td>\n      <td>3G</td>\n      <td>airtel</td>\n      <td>170</td>\n      <td>kbps</td>\n    </tr>\n    <tr>\n      <th>116</th>\n      <td>116</td>\n      <td>116</td>\n      <td>Kacyiru</td>\n      <td>['MTN']</td>\n      <td>140Kbps</td>\n      <td>['http://pbs.twimg.com/media/EUsA3FHWsAMRpyw.j...</td>\n      <td>kacyiru</td>\n      <td>NaN</td>\n      <td>mtn</td>\n      <td>140</td>\n      <td>kbps</td>\n    </tr>\n    <tr>\n      <th>121</th>\n      <td>121</td>\n      <td>121</td>\n      <td>Kabeza</td>\n      <td>['@airtelrw']</td>\n      <td>130kbps</td>\n      <td>['http://pbs.twimg.com/media/EUr9rqoWkAItXmf.j...</td>\n      <td>kabeza</td>\n      <td>NaN</td>\n      <td>airtel</td>\n      <td>130</td>\n      <td>kbps</td>\n    </tr>\n    <tr>\n      <th>164</th>\n      <td>164</td>\n      <td>164</td>\n      <td>Kimironko</td>\n      <td>[]</td>\n      <td>580 Kbps</td>\n      <td>['http://pbs.twimg.com/media/EUrhF3WU0AI-sYG.j...</td>\n      <td>kimironko</td>\n      <td>NaN</td>\n      <td>NaN</td>\n      <td>580</td>\n      <td>kbps</td>\n    </tr>\n    <tr>\n      <th>175</th>\n      <td>175</td>\n      <td>175</td>\n      <td>Gisozi near Kurwibutso</td>\n      <td>['MTN', '3G']</td>\n      <td>240Kbps</td>\n      <td>['http://pbs.twimg.com/media/EUraFI_U0AEP9Cq.j...</td>\n      <td>gisozi</td>\n      <td>3G</td>\n      <td>mtn</td>\n      <td>240</td>\n      <td>kbps</td>\n    </tr>\n    <tr>\n      <th>177</th>\n      <td>177</td>\n      <td>177</td>\n      <td>Kimihurura/Rugando</td>\n      <td>['MTN']</td>\n      <td>870 kbps</td>\n      <td>['http://pbs.twimg.com/media/EUrZmQlVAAA0eb8.j...</td>\n      <td>kimihurura</td>\n      <td>NaN</td>\n      <td>mtn</td>\n      <td>870</td>\n      <td>kbps</td>\n    </tr>\n    <tr>\n      <th>190</th>\n      <td>190</td>\n      <td>190</td>\n      <td>NaN</td>\n      <td>['MTN', '3G']</td>\n      <td>920kbps , ISP: MTN 3G https://t.co/Up9BLf9HxK</td>\n      <td>['http://pbs.twimg.com/media/EUrPH1RVAAE3U4c.j...</td>\n      <td>NaN</td>\n      <td>3G</td>\n      <td>mtn</td>\n      <td>920</td>\n      <td>kbps</td>\n    </tr>\n    <tr>\n      <th>215</th>\n      <td>215</td>\n      <td>215</td>\n      <td>Ruyenzi</td>\n      <td>['@airtelrw']</td>\n      <td>120 kbps⬇️ 850 kbps⬆️</td>\n      <td>['http://pbs.twimg.com/media/EUrFoS9UEAAsQsJ.j...</td>\n      <td>ruyenzi</td>\n      <td>NaN</td>\n      <td>airtel</td>\n      <td>120</td>\n      <td>kbps</td>\n    </tr>\n    <tr>\n      <th>222</th>\n      <td>222</td>\n      <td>222</td>\n      <td>Kagarama</td>\n      <td>[]</td>\n      <td>65Kbps</td>\n      <td>['http://pbs.twimg.com/media/EUrDfprU4AAKiY7.j...</td>\n      <td>kagarama</td>\n      <td>NaN</td>\n      <td>NaN</td>\n      <td>65</td>\n      <td>kbps</td>\n    </tr>\n    <tr>\n      <th>230</th>\n      <td>230</td>\n      <td>230</td>\n      <td>Gisozi | Gacinjiru</td>\n      <td>['@MTNRwanda']</td>\n      <td>170 Kbps ⬇️ 460 Kbps ⬆️</td>\n      <td>['http://pbs.twimg.com/media/EUrASm3U8AEFC1b.j...</td>\n      <td>gisozi</td>\n      <td>NaN</td>\n      <td>mtn</td>\n      <td>170</td>\n      <td>kbps</td>\n    </tr>\n    <tr>\n      <th>231</th>\n      <td>231</td>\n      <td>231</td>\n      <td>NaN</td>\n      <td>[]</td>\n      <td>330 Kbps (☹️)</td>\n      <td>['http://pbs.twimg.com/media/EUq_kqvVAAEBxCq.p...</td>\n      <td>NaN</td>\n      <td>NaN</td>\n      <td>NaN</td>\n      <td>330</td>\n      <td>kbps</td>\n    </tr>\n  </tbody>\n</table>\n</div>"
     },
     "metadata": {},
     "execution_count": 164
    }
   ],
   "source": [
    "data.loc[ np.logical_and(data.speed.str.lower().str.contains('kbps').fillna(False), ~data.speed.str.lower().str.contains('mbps').fillna(False))]"
   ]
  },
  {
   "cell_type": "code",
   "execution_count": 165,
   "metadata": {
    "scrolled": false
   },
   "outputs": [],
   "source": [
    "kps_index = data.loc[ np.logical_and(data.speed.str.lower().str.contains('kbps').fillna(False), ~data.speed.str.lower().str.contains('mbps').fillna(False))].index"
   ]
  },
  {
   "cell_type": "code",
   "execution_count": 166,
   "metadata": {},
   "outputs": [
    {
     "output_type": "execute_result",
     "data": {
      "text/plain": "     Unnamed: 0  Unnamed: 0.1                   location  \\\n22           22            22                 Kibagabaga   \n27           27            27                 Kimironko    \n51           51            51          Kicukiro Ngoma,     \n54           54            54          Gitega-Nyarugenge   \n85           85            85                  Kimironko   \n88           88            88                    Muhanga   \n91           91            91           bugesera mayange   \n95           95            95                    Masaka    \n110         110           110            Kicukiro Niboye   \n111         111           111       Nyamirambo (Kuri 40)   \n116         116           116                    Kacyiru   \n121         121           121                     Kabeza   \n164         164           164                  Kimironko   \n175         175           175     Gisozi near Kurwibutso   \n177         177           177         Kimihurura/Rugando   \n190         190           190                        NaN   \n215         215           215             Ruyenzi          \n222         222           222                   Kagarama   \n230         230           230  Gisozi | Gacinjiru          \n231         231           231                        NaN   \n\n                                isp  \\\n22               ['Airtel', '(4G)']   \n27                              NaN   \n51                          ['MTN']   \n54                               []   \n85               ['Airtel', '(3G)']   \n88                       ['Airtel']   \n91   ['RTN', '', '4G', '@ktRwanda']   \n95                               []   \n110                    ['MTN', '😡']   \n111         ['@airtelrw', '', '3G']   \n116                         ['MTN']   \n121                   ['@airtelrw']   \n164                              []   \n175                   ['MTN', '3G']   \n177                         ['MTN']   \n190                   ['MTN', '3G']   \n215                   ['@airtelrw']   \n222                              []   \n230                  ['@MTNRwanda']   \n231                              []   \n\n                                             speed  \\\n22                                        600 Kbps   \n27                                        290 Kbps   \n51                 490kbps https://t.co/PhVvzsjPr8   \n54                                         80 Kbps   \n85                                          38Kbps   \n88                                        160 Kbps   \n91                                         230kbps   \n95                                        550 kbps   \n110                                        14 kbps   \n111                                        170kbps   \n116                                        140Kbps   \n121                                       130kbps    \n164                                       580 Kbps   \n175                                        240Kbps   \n177                                       870 kbps   \n190  920kbps , ISP: MTN 3G https://t.co/Up9BLf9HxK   \n215                          120 kbps⬇️ 850 kbps⬆️   \n222                                         65Kbps   \n230                       170 Kbps ⬇️ 460 Kbps ⬆️    \n231                                  330 Kbps (☹️)   \n\n                                                images location_cleaned  \\\n22   ['http://pbs.twimg.com/media/EUwvTF4WkAIdsA9.j...       kibagabaga   \n27   ['http://pbs.twimg.com/media/EUwh8WSX0AEQBOe.j...        kimironko   \n51   ['http://pbs.twimg.com/media/EUu5JyFWsAIJuvz.j...         kicukiro   \n54   ['http://pbs.twimg.com/media/EUulnG-WkAYiH0v.j...           gitega   \n85   ['http://pbs.twimg.com/media/EUslhD_WAAA27yp.j...        kimironko   \n88   ['http://pbs.twimg.com/media/EUsfXe_XQAMiwm1.j...          muhanga   \n91   ['http://pbs.twimg.com/media/EUsbJGNWsAIinwi.j...         bugesera   \n95   ['http://pbs.twimg.com/media/EUsXTd2XQAArvHC.j...           masaka   \n110  ['http://pbs.twimg.com/media/EUsE4NZWoAAtcd_.j...         kicukiro   \n111  ['http://pbs.twimg.com/media/EUsD8KPWAAEEgc_.j...       nyamirambo   \n116  ['http://pbs.twimg.com/media/EUsA3FHWsAMRpyw.j...          kacyiru   \n121  ['http://pbs.twimg.com/media/EUr9rqoWkAItXmf.j...           kabeza   \n164  ['http://pbs.twimg.com/media/EUrhF3WU0AI-sYG.j...        kimironko   \n175  ['http://pbs.twimg.com/media/EUraFI_U0AEP9Cq.j...           gisozi   \n177  ['http://pbs.twimg.com/media/EUrZmQlVAAA0eb8.j...       kimihurura   \n190  ['http://pbs.twimg.com/media/EUrPH1RVAAE3U4c.j...              NaN   \n215  ['http://pbs.twimg.com/media/EUrFoS9UEAAsQsJ.j...          ruyenzi   \n222  ['http://pbs.twimg.com/media/EUrDfprU4AAKiY7.j...         kagarama   \n230  ['http://pbs.twimg.com/media/EUrASm3U8AEFC1b.j...           gisozi   \n231  ['http://pbs.twimg.com/media/EUq_kqvVAAEBxCq.p...              NaN   \n\n    network_type isp_cleaned speed_cleaned speed_unit  \n22            4G      airtel           600       kbps  \n27           NaN         NaN           290       kbps  \n51           NaN         mtn          490        kbps  \n54           NaN         NaN            80       kbps  \n85            3G      airtel            38       kbps  \n88           NaN      airtel           160       kbps  \n91            4G         rtn           230       kbps  \n95           NaN         NaN           550       kbps  \n110          NaN         mtn            14       kbps  \n111           3G      airtel           170       kbps  \n116          NaN         mtn           140       kbps  \n121          NaN      airtel          130        kbps  \n164          NaN         NaN           580       kbps  \n175           3G         mtn           240       kbps  \n177          NaN         mtn           870       kbps  \n190           3G         mtn          920        kbps  \n215          NaN      airtel           120       kbps  \n222          NaN         NaN            65       kbps  \n230          NaN         mtn          170        kbps  \n231          NaN         NaN          330        kbps  ",
      "text/html": "<div>\n<style scoped>\n    .dataframe tbody tr th:only-of-type {\n        vertical-align: middle;\n    }\n\n    .dataframe tbody tr th {\n        vertical-align: top;\n    }\n\n    .dataframe thead th {\n        text-align: right;\n    }\n</style>\n<table border=\"1\" class=\"dataframe\">\n  <thead>\n    <tr style=\"text-align: right;\">\n      <th></th>\n      <th>Unnamed: 0</th>\n      <th>Unnamed: 0.1</th>\n      <th>location</th>\n      <th>isp</th>\n      <th>speed</th>\n      <th>images</th>\n      <th>location_cleaned</th>\n      <th>network_type</th>\n      <th>isp_cleaned</th>\n      <th>speed_cleaned</th>\n      <th>speed_unit</th>\n    </tr>\n  </thead>\n  <tbody>\n    <tr>\n      <th>22</th>\n      <td>22</td>\n      <td>22</td>\n      <td>Kibagabaga</td>\n      <td>['Airtel', '(4G)']</td>\n      <td>600 Kbps</td>\n      <td>['http://pbs.twimg.com/media/EUwvTF4WkAIdsA9.j...</td>\n      <td>kibagabaga</td>\n      <td>4G</td>\n      <td>airtel</td>\n      <td>600</td>\n      <td>kbps</td>\n    </tr>\n    <tr>\n      <th>27</th>\n      <td>27</td>\n      <td>27</td>\n      <td>Kimironko</td>\n      <td>NaN</td>\n      <td>290 Kbps</td>\n      <td>['http://pbs.twimg.com/media/EUwh8WSX0AEQBOe.j...</td>\n      <td>kimironko</td>\n      <td>NaN</td>\n      <td>NaN</td>\n      <td>290</td>\n      <td>kbps</td>\n    </tr>\n    <tr>\n      <th>51</th>\n      <td>51</td>\n      <td>51</td>\n      <td>Kicukiro Ngoma,</td>\n      <td>['MTN']</td>\n      <td>490kbps https://t.co/PhVvzsjPr8</td>\n      <td>['http://pbs.twimg.com/media/EUu5JyFWsAIJuvz.j...</td>\n      <td>kicukiro</td>\n      <td>NaN</td>\n      <td>mtn</td>\n      <td>490</td>\n      <td>kbps</td>\n    </tr>\n    <tr>\n      <th>54</th>\n      <td>54</td>\n      <td>54</td>\n      <td>Gitega-Nyarugenge</td>\n      <td>[]</td>\n      <td>80 Kbps</td>\n      <td>['http://pbs.twimg.com/media/EUulnG-WkAYiH0v.j...</td>\n      <td>gitega</td>\n      <td>NaN</td>\n      <td>NaN</td>\n      <td>80</td>\n      <td>kbps</td>\n    </tr>\n    <tr>\n      <th>85</th>\n      <td>85</td>\n      <td>85</td>\n      <td>Kimironko</td>\n      <td>['Airtel', '(3G)']</td>\n      <td>38Kbps</td>\n      <td>['http://pbs.twimg.com/media/EUslhD_WAAA27yp.j...</td>\n      <td>kimironko</td>\n      <td>3G</td>\n      <td>airtel</td>\n      <td>38</td>\n      <td>kbps</td>\n    </tr>\n    <tr>\n      <th>88</th>\n      <td>88</td>\n      <td>88</td>\n      <td>Muhanga</td>\n      <td>['Airtel']</td>\n      <td>160 Kbps</td>\n      <td>['http://pbs.twimg.com/media/EUsfXe_XQAMiwm1.j...</td>\n      <td>muhanga</td>\n      <td>NaN</td>\n      <td>airtel</td>\n      <td>160</td>\n      <td>kbps</td>\n    </tr>\n    <tr>\n      <th>91</th>\n      <td>91</td>\n      <td>91</td>\n      <td>bugesera mayange</td>\n      <td>['RTN', '', '4G', '@ktRwanda']</td>\n      <td>230kbps</td>\n      <td>['http://pbs.twimg.com/media/EUsbJGNWsAIinwi.j...</td>\n      <td>bugesera</td>\n      <td>4G</td>\n      <td>rtn</td>\n      <td>230</td>\n      <td>kbps</td>\n    </tr>\n    <tr>\n      <th>95</th>\n      <td>95</td>\n      <td>95</td>\n      <td>Masaka</td>\n      <td>[]</td>\n      <td>550 kbps</td>\n      <td>['http://pbs.twimg.com/media/EUsXTd2XQAArvHC.j...</td>\n      <td>masaka</td>\n      <td>NaN</td>\n      <td>NaN</td>\n      <td>550</td>\n      <td>kbps</td>\n    </tr>\n    <tr>\n      <th>110</th>\n      <td>110</td>\n      <td>110</td>\n      <td>Kicukiro Niboye</td>\n      <td>['MTN', '😡']</td>\n      <td>14 kbps</td>\n      <td>['http://pbs.twimg.com/media/EUsE4NZWoAAtcd_.j...</td>\n      <td>kicukiro</td>\n      <td>NaN</td>\n      <td>mtn</td>\n      <td>14</td>\n      <td>kbps</td>\n    </tr>\n    <tr>\n      <th>111</th>\n      <td>111</td>\n      <td>111</td>\n      <td>Nyamirambo (Kuri 40)</td>\n      <td>['@airtelrw', '', '3G']</td>\n      <td>170kbps</td>\n      <td>['http://pbs.twimg.com/media/EUsD8KPWAAEEgc_.j...</td>\n      <td>nyamirambo</td>\n      <td>3G</td>\n      <td>airtel</td>\n      <td>170</td>\n      <td>kbps</td>\n    </tr>\n    <tr>\n      <th>116</th>\n      <td>116</td>\n      <td>116</td>\n      <td>Kacyiru</td>\n      <td>['MTN']</td>\n      <td>140Kbps</td>\n      <td>['http://pbs.twimg.com/media/EUsA3FHWsAMRpyw.j...</td>\n      <td>kacyiru</td>\n      <td>NaN</td>\n      <td>mtn</td>\n      <td>140</td>\n      <td>kbps</td>\n    </tr>\n    <tr>\n      <th>121</th>\n      <td>121</td>\n      <td>121</td>\n      <td>Kabeza</td>\n      <td>['@airtelrw']</td>\n      <td>130kbps</td>\n      <td>['http://pbs.twimg.com/media/EUr9rqoWkAItXmf.j...</td>\n      <td>kabeza</td>\n      <td>NaN</td>\n      <td>airtel</td>\n      <td>130</td>\n      <td>kbps</td>\n    </tr>\n    <tr>\n      <th>164</th>\n      <td>164</td>\n      <td>164</td>\n      <td>Kimironko</td>\n      <td>[]</td>\n      <td>580 Kbps</td>\n      <td>['http://pbs.twimg.com/media/EUrhF3WU0AI-sYG.j...</td>\n      <td>kimironko</td>\n      <td>NaN</td>\n      <td>NaN</td>\n      <td>580</td>\n      <td>kbps</td>\n    </tr>\n    <tr>\n      <th>175</th>\n      <td>175</td>\n      <td>175</td>\n      <td>Gisozi near Kurwibutso</td>\n      <td>['MTN', '3G']</td>\n      <td>240Kbps</td>\n      <td>['http://pbs.twimg.com/media/EUraFI_U0AEP9Cq.j...</td>\n      <td>gisozi</td>\n      <td>3G</td>\n      <td>mtn</td>\n      <td>240</td>\n      <td>kbps</td>\n    </tr>\n    <tr>\n      <th>177</th>\n      <td>177</td>\n      <td>177</td>\n      <td>Kimihurura/Rugando</td>\n      <td>['MTN']</td>\n      <td>870 kbps</td>\n      <td>['http://pbs.twimg.com/media/EUrZmQlVAAA0eb8.j...</td>\n      <td>kimihurura</td>\n      <td>NaN</td>\n      <td>mtn</td>\n      <td>870</td>\n      <td>kbps</td>\n    </tr>\n    <tr>\n      <th>190</th>\n      <td>190</td>\n      <td>190</td>\n      <td>NaN</td>\n      <td>['MTN', '3G']</td>\n      <td>920kbps , ISP: MTN 3G https://t.co/Up9BLf9HxK</td>\n      <td>['http://pbs.twimg.com/media/EUrPH1RVAAE3U4c.j...</td>\n      <td>NaN</td>\n      <td>3G</td>\n      <td>mtn</td>\n      <td>920</td>\n      <td>kbps</td>\n    </tr>\n    <tr>\n      <th>215</th>\n      <td>215</td>\n      <td>215</td>\n      <td>Ruyenzi</td>\n      <td>['@airtelrw']</td>\n      <td>120 kbps⬇️ 850 kbps⬆️</td>\n      <td>['http://pbs.twimg.com/media/EUrFoS9UEAAsQsJ.j...</td>\n      <td>ruyenzi</td>\n      <td>NaN</td>\n      <td>airtel</td>\n      <td>120</td>\n      <td>kbps</td>\n    </tr>\n    <tr>\n      <th>222</th>\n      <td>222</td>\n      <td>222</td>\n      <td>Kagarama</td>\n      <td>[]</td>\n      <td>65Kbps</td>\n      <td>['http://pbs.twimg.com/media/EUrDfprU4AAKiY7.j...</td>\n      <td>kagarama</td>\n      <td>NaN</td>\n      <td>NaN</td>\n      <td>65</td>\n      <td>kbps</td>\n    </tr>\n    <tr>\n      <th>230</th>\n      <td>230</td>\n      <td>230</td>\n      <td>Gisozi | Gacinjiru</td>\n      <td>['@MTNRwanda']</td>\n      <td>170 Kbps ⬇️ 460 Kbps ⬆️</td>\n      <td>['http://pbs.twimg.com/media/EUrASm3U8AEFC1b.j...</td>\n      <td>gisozi</td>\n      <td>NaN</td>\n      <td>mtn</td>\n      <td>170</td>\n      <td>kbps</td>\n    </tr>\n    <tr>\n      <th>231</th>\n      <td>231</td>\n      <td>231</td>\n      <td>NaN</td>\n      <td>[]</td>\n      <td>330 Kbps (☹️)</td>\n      <td>['http://pbs.twimg.com/media/EUq_kqvVAAEBxCq.p...</td>\n      <td>NaN</td>\n      <td>NaN</td>\n      <td>NaN</td>\n      <td>330</td>\n      <td>kbps</td>\n    </tr>\n  </tbody>\n</table>\n</div>"
     },
     "metadata": {},
     "execution_count": 166
    }
   ],
   "source": [
    "data.loc[ np.logical_and(data.speed.str.lower().str.contains('kbps').fillna(False), ~data.speed.str.lower().str.contains('mbps').fillna(False))]"
   ]
  },
  {
   "cell_type": "code",
   "execution_count": 167,
   "metadata": {},
   "outputs": [
    {
     "output_type": "error",
     "ename": "SyntaxError",
     "evalue": "unexpected EOF while parsing (<ipython-input-167-2f841446a620>, line 1)",
     "traceback": [
      "\u001b[0;36m  File \u001b[0;32m\"<ipython-input-167-2f841446a620>\"\u001b[0;36m, line \u001b[0;32m1\u001b[0m\n\u001b[0;31m    np.logical_and(data.speed.str.lower().str.contains('kbps').fillna(False), ~data.speed.str.lower().str.contains('mbps')\u001b[0m\n\u001b[0m                                                                                                                          ^\u001b[0m\n\u001b[0;31mSyntaxError\u001b[0m\u001b[0;31m:\u001b[0m unexpected EOF while parsing\n"
     ]
    }
   ],
   "source": [
    "np.logical_and(data.speed.str.lower().str.contains('kbps').fillna(False), ~data.speed.str.lower().str.contains('mbps')"
   ]
  },
  {
   "cell_type": "code",
   "execution_count": 168,
   "metadata": {},
   "outputs": [],
   "source": [
    "def convert_kps_in_mps(row):\n",
    "    print(row.speed)\n",
    "    if 'kbps' in str(row.speed) and 'mbps' not in str(row.speed) and row.speed:\n",
    "        return float(row.speed_cleaned)/1000\n",
    "    else:\n",
    "        return row.speed_cleaned"
   ]
  },
  {
   "cell_type": "code",
   "execution_count": 169,
   "metadata": {},
   "outputs": [
    {
     "output_type": "execute_result",
     "data": {
      "text/plain": "   Unnamed: 0  Unnamed: 0.1     location                   isp     speed  \\\n0           0             0  Nyamirambo   ['Mango', 'telecom']  4.7 mbps   \n1           1             1          NaN         ['@airtelrw']       NaN   \n2           2             2    Kimironko                    []  2.5 Mbps   \n3           3             3      Kanombe                    []  7.9 Mbps   \n4           4             4          NaN           ['MTN(3G)']       NaN   \n\n                                              images location_cleaned  \\\n0  ['http://pbs.twimg.com/media/EU1QH7iX0AAi4bN.j...       nyamirambo   \n1  ['http://pbs.twimg.com/media/EU1FpbZWAAA8g6M.j...              NaN   \n2  ['http://pbs.twimg.com/media/EU1Dup5WkAAXRpk.j...        kimironko   \n3  ['http://pbs.twimg.com/media/EU0pEjWXYAQsPF_.j...          kanombe   \n4  ['http://pbs.twimg.com/media/EU0KDBDWoAAeGYV.j...              NaN   \n\n  network_type isp_cleaned speed_cleaned speed_unit  \n0          NaN       mango           4.7       mbps  \n1          NaN      airtel           NaN        NaN  \n2          NaN         NaN           2.5       mbps  \n3          NaN         NaN           7.9       mbps  \n4           3G         mtn           NaN        NaN  ",
      "text/html": "<div>\n<style scoped>\n    .dataframe tbody tr th:only-of-type {\n        vertical-align: middle;\n    }\n\n    .dataframe tbody tr th {\n        vertical-align: top;\n    }\n\n    .dataframe thead th {\n        text-align: right;\n    }\n</style>\n<table border=\"1\" class=\"dataframe\">\n  <thead>\n    <tr style=\"text-align: right;\">\n      <th></th>\n      <th>Unnamed: 0</th>\n      <th>Unnamed: 0.1</th>\n      <th>location</th>\n      <th>isp</th>\n      <th>speed</th>\n      <th>images</th>\n      <th>location_cleaned</th>\n      <th>network_type</th>\n      <th>isp_cleaned</th>\n      <th>speed_cleaned</th>\n      <th>speed_unit</th>\n    </tr>\n  </thead>\n  <tbody>\n    <tr>\n      <th>0</th>\n      <td>0</td>\n      <td>0</td>\n      <td>Nyamirambo</td>\n      <td>['Mango', 'telecom']</td>\n      <td>4.7 mbps</td>\n      <td>['http://pbs.twimg.com/media/EU1QH7iX0AAi4bN.j...</td>\n      <td>nyamirambo</td>\n      <td>NaN</td>\n      <td>mango</td>\n      <td>4.7</td>\n      <td>mbps</td>\n    </tr>\n    <tr>\n      <th>1</th>\n      <td>1</td>\n      <td>1</td>\n      <td>NaN</td>\n      <td>['@airtelrw']</td>\n      <td>NaN</td>\n      <td>['http://pbs.twimg.com/media/EU1FpbZWAAA8g6M.j...</td>\n      <td>NaN</td>\n      <td>NaN</td>\n      <td>airtel</td>\n      <td>NaN</td>\n      <td>NaN</td>\n    </tr>\n    <tr>\n      <th>2</th>\n      <td>2</td>\n      <td>2</td>\n      <td>Kimironko</td>\n      <td>[]</td>\n      <td>2.5 Mbps</td>\n      <td>['http://pbs.twimg.com/media/EU1Dup5WkAAXRpk.j...</td>\n      <td>kimironko</td>\n      <td>NaN</td>\n      <td>NaN</td>\n      <td>2.5</td>\n      <td>mbps</td>\n    </tr>\n    <tr>\n      <th>3</th>\n      <td>3</td>\n      <td>3</td>\n      <td>Kanombe</td>\n      <td>[]</td>\n      <td>7.9 Mbps</td>\n      <td>['http://pbs.twimg.com/media/EU0pEjWXYAQsPF_.j...</td>\n      <td>kanombe</td>\n      <td>NaN</td>\n      <td>NaN</td>\n      <td>7.9</td>\n      <td>mbps</td>\n    </tr>\n    <tr>\n      <th>4</th>\n      <td>4</td>\n      <td>4</td>\n      <td>NaN</td>\n      <td>['MTN(3G)']</td>\n      <td>NaN</td>\n      <td>['http://pbs.twimg.com/media/EU0KDBDWoAAeGYV.j...</td>\n      <td>NaN</td>\n      <td>3G</td>\n      <td>mtn</td>\n      <td>NaN</td>\n      <td>NaN</td>\n    </tr>\n  </tbody>\n</table>\n</div>"
     },
     "metadata": {},
     "execution_count": 169
    }
   ],
   "source": [
    "data.head()"
   ]
  },
  {
   "cell_type": "code",
   "execution_count": 170,
   "metadata": {
    "scrolled": true
   },
   "outputs": [
    {
     "output_type": "stream",
     "name": "stdout",
     "text": "4.7 mbps\nnan\n2.5 Mbps\n7.9 Mbps\nnan\nnan\nnan\n3 Mbps\nnan\n1.2 Mbps \nnan\nnan\nnan\nnan\n3.2Mbps\nnan\n41 Mbps\n9.3 Mbps\nnan\nnan\nnan\nnan\n600 Kbps\nnan\n160 Mbps\n1.1Mbps\nnan\n290 Kbps\nnan\n4.4 Mbps\nnan\nnan\n4.3Mbps\n2.8Mbps\nnan\nnan\nnan\nnan\n11Mbps\n2.9 mbps\nnan\n12, 13 Mbps https://t.co/STGNtSyAQS\n3.3Mbps\nnan\n4.9 Mbps\nnan\n3.4Mbps(3G)\n8.6Mbps\n2.5Mbps\nnan\nnan\n490kbps https://t.co/PhVvzsjPr8\nnan\n6.5 Mbps\n80 Kbps\n3.0 Mbps(metered) 384 Kbps(Actual Speed)\n8.2 MPs\nnan\nnan\n3.2Mps\nnan\n1.2 Mbps\n3.3 Mbps\nnan\n8.0  Mbps\nnan\nnan\nnan\nnan\n7.5 mbps\nnan\n3.4Mbps\nnan\nnan\nnan\nnan\nnan\n3.3 Mbps\n8.9 KPBS\n5.7Mbps\n3.0 Mbps \nnan\nnan\n1.5KBS https://t.co/9HVBjbdxEq\n3.2 Mbps \n38Kbps\n3.9mbps\n4.2Mbps https://t.co/ru1s5FYNoL\n160 Kbps\nnan\nnan\n230kbps\n2.2 Mbps\nnan\nnan\n550 kbps\n21 Mbps \n10 Mbps\nnan\nnan\nnan\nnan\nnan\nnan\nnan\nnan\n12 Mbps\n250 Mbps\n2.8Mbps\n1.3 Mbps\n14 kbps\n170kbps\n1.9 Mbps\n3.2 Mbps\nnan\n20mps\n140Kbps\nnan\n1.4 Mbps\nnan\nnan\n130kbps \n1.5 Mbps\n7.5Mbps\nnan\nnan\nnan\n3.6 Mbps\nnan\nnan\nnan\n490Kps\n360Kps\nnan\nnan\n3.2 Mbps\nnan\nnan\n2.3 Mbps \nnan\n3Mbps\n3.5Mbps\nnan\nnan\nnan\n6.8Mbps\n1.1 Mbps\nnan\nnan\n12 Mbps\nnan\nnan\nnan\nnan\n4.9 Mbps\nnan\nnan\nnan\nnan\nnan\nnan\nnan\nnan\n7.8 Mbps\n580 Kbps\nnan\nnan\n2.5 Mbps\n4.1Mbps\nnan\nnan\nnan\n13 Mbps \n2.3 Mbps\n3.1 mbps\n240Kbps\nnan\n870 kbps\n1.4Mbps\n3.23; 3.60\nnan\nnan\nnan\nnan\n1.2Mbps\nnan\n2.7 Mbps \n5.7 Mbps\nnan\n2.4 Mbps\n920kbps , ISP: MTN 3G https://t.co/Up9BLf9HxK\nnan\n1.3 mbps\nnan\nnan\n7.4 Mbps\n1.2 Mbps\nnan\nnan\n8.1 Mbps\nnan\n22 Mbps \n3.3 Mbps\nnan\nnan\nnan\n4.5 Mbps\n1.7 Mbps (yarivuye kuri 490kbps)\nnan\nnan\nnan\nnan\n3.2Mbps\n1.3 Mbps\nnan\n120 kbps⬇️ 850 kbps⬆️\n15Mbps\n1.6Mbps\nnan\n3.8 Mbps\n1.4 Mbps\n3.7 \n65Kbps\nnan\n6.6 Mbps\n17 Mbps \nnan\n2.8 Mbps\nnan\n3.9 Mbps ()\n170 Kbps ⬇️ 460 Kbps ⬆️ \n330 Kbps (☹️)\n3.9 Mbps\n3.5 Mbps\nnan\nnan\n1.1 Mbps\n9.9 Mbps\n8.5 Mbps\n7.2 Mbps\n1.2 Mbps\n34 Mbps\n4.6 Mbps\n"
    },
    {
     "output_type": "execute_result",
     "data": {
      "text/plain": "0      4.7\n1      NaN\n2      2.5\n3      7.9\n4      NaN\n      ... \n238    8.5\n239    7.2\n240    1.2\n241     34\n242    4.6\nLength: 243, dtype: object"
     },
     "metadata": {},
     "execution_count": 170
    }
   ],
   "source": [
    "data.apply(convert_kps_in_mps , axis='columns')"
   ]
  },
  {
   "cell_type": "code",
   "execution_count": null,
   "metadata": {},
   "outputs": [],
   "source": []
  },
  {
   "cell_type": "code",
   "execution_count": null,
   "metadata": {},
   "outputs": [],
   "source": []
  }
 ],
 "metadata": {
  "kernelspec": {
   "display_name": "Python 3.6.5 64-bit ('.venv')",
   "language": "python",
   "name": "python36564bitvenv9ccf5747eaff4a078a3f92ed0e0aa8db"
  },
  "language_info": {
   "codemirror_mode": {
    "name": "ipython",
    "version": 3
   },
   "file_extension": ".py",
   "mimetype": "text/x-python",
   "name": "python",
   "nbconvert_exporter": "python",
   "pygments_lexer": "ipython3",
   "version": "3.6.5-final"
  }
 },
 "nbformat": 4,
 "nbformat_minor": 4
}