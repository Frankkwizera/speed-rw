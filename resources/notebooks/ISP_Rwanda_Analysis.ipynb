{
 "cells": [
  {
   "cell_type": "markdown",
   "metadata": {},
   "source": [
    "Analyzing twitter data for network quality in Rwanda\n",
    "\n",
    "Today, When people are bored at their house with this locked down one of my friend KennessaJr tweeted that he want \n",
    "to collect statistics about network usage in Rwanda, and he was lucky to collect around 200 hundred tweets where people where twittig about their internet quality and Location,\n",
    "I found that it may be better to collect those tweets and run a data analysis on them and see how is the mobile internet network in Kigali.\n",
    "\n",
    "In this book I will do an end to end Data Analysis project where I will collect data from tweets , clean them using regulars expressions and analyse them to ask the following question.\n",
    "- Which provider has the fatest mobile internet in Kigali\n",
    "- Which area has the best internet in Kigali\n",
    "- What are mobile internet providers in Kigali?\n",
    "\n",
    "Answer to those questions may help us to find the best ISP in Rwanda as of now.\n",
    "Let start:\n"
   ]
  },
  {
   "cell_type": "markdown",
   "metadata": {},
   "source": [
    "#### I.  Collecting Data"
   ]
  },
  {
   "cell_type": "markdown",
   "metadata": {},
   "source": [
    "I will be collecting Data from a tweet posted by @KenessaJr on tweeter and start analyzing them."
   ]
  },
  {
   "cell_type": "code",
   "execution_count": 1,
   "metadata": {},
   "outputs": [],
   "source": [
    "import os\n",
    "from tweepy import OAuthHandler, API, Cursor, RateLimitError, TweepError\n",
    "from dotenv import load_dotenv\n",
    "import logging"
   ]
  },
  {
   "cell_type": "code",
   "execution_count": 2,
   "metadata": {},
   "outputs": [],
   "source": [
    "logging.basicConfig(level=logging.INFO)\n",
    "logger = logging.getLogger()"
   ]
  },
  {
   "cell_type": "markdown",
   "metadata": {},
   "source": [
    "https://twitter.com/kenessajr/status/1246014150033248257\n",
    "https://twitter.com/kenessajr/status/1246013771073626112"
   ]
  },
  {
   "cell_type": "code",
   "execution_count": null,
   "metadata": {},
   "outputs": [],
   "source": [
    "../../.env"
   ]
  },
  {
   "cell_type": "code",
   "execution_count": 7,
   "metadata": {},
   "outputs": [],
   "source": [
    "def read_credentials():\n",
    "    \"\"\"\n",
    "    Return users os.getenv from the environnement variable\n",
    "    raise a an exception if the os.getenv are empty\n",
    "\n",
    "    Raises:\n",
    "        NotImplementedError: (description]\n",
    "    \"\"\"\n",
    "    load_dotenv('../../.env')\n",
    "    consumer_key = os.getenv('TWITTER_CONSUMER_KEY')\n",
    "    consumer_secret = os.getenv('TWITTER_CONSUMER_SECRET')\n",
    "    access_token = os.getenv('TWITTER_ACCESS_TOKEN')\n",
    "    access_secret = os.getenv('TWITTER_ACCESS_SECRET')\n",
    "\n",
    "    if all([consumer_key, consumer_secret, access_token, access_secret]):\n",
    "        return {\"consumer_key\": consumer_key,\n",
    "                \"consumer_secret\": consumer_secret,\n",
    "                \"access_token\": access_token,\n",
    "                \"access_secret\": access_secret}\n",
    "    else:\n",
    "        raise ValueError('Please add a .env file and put the os.getenv on it,\\\n",
    "                         refer to the sample')"
   ]
  },
  {
   "cell_type": "code",
   "execution_count": 8,
   "metadata": {},
   "outputs": [],
   "source": [
    "def get_twitter_auth():\n",
    "    \"\"\"Setup Twitter authentication.\n",
    "\n",
    "    Return: tweepy.OAuthHandler object\n",
    "    \"\"\"\n",
    "    try:\n",
    "        credentials = read_credentials()\n",
    "        consumer_key = credentials.get('consumer_key')\n",
    "        consumer_secret = credentials.get('consumer_secret')\n",
    "        access_token = credentials.get('access_token')\n",
    "        access_secret = credentials.get('access_secret')\n",
    "    except KeyError:\n",
    "        logger.error(\"TWITTER_*  not found\\n\")\n",
    "        sys.exit(1)\n",
    "    auth = OAuthHandler(consumer_key, consumer_secret)\n",
    "    auth.set_access_token(access_token, access_secret)\n",
    "    return auth\n",
    "\n",
    "\n",
    "def get_twitter_client():\n",
    "    \"\"\"Setup Twitter API client.\n",
    "\n",
    "    Return: tweepy.API object\n",
    "    \"\"\"\n",
    "    auth = get_twitter_auth()\n",
    "    client = API(auth)\n",
    "    try:\n",
    "        client.verify_credentials()\n",
    "        logger.info(\"Authentication OK\")\n",
    "    except Exception as excp:\n",
    "        logging.error(\"Error during authentication {}\".format(excp))\n",
    "    return client\n"
   ]
  },
  {
   "cell_type": "code",
   "execution_count": 9,
   "metadata": {},
   "outputs": [
    {
     "name": "stderr",
     "output_type": "stream",
     "text": [
      "INFO:root:Authentication OK\n"
     ]
    }
   ],
   "source": [
    "api = get_twitter_client()"
   ]
  },
  {
   "cell_type": "code",
   "execution_count": 48,
   "metadata": {},
   "outputs": [],
   "source": [
    "def get_replies_to_tweets(user_name, tweet_id):\n",
    "    replies = Cursor(api.search, q='to:{}'.format(user_name),\n",
    "                     since_id=tweet_id, tweet_mode='extended').items()\n",
    "    replies_data = {'full_text': list(), 'images': list()}\n",
    "    while True:\n",
    "        try:\n",
    "            reply = replies.next()\n",
    "            if not hasattr(reply, 'in_reply_to_status_id_str'):\n",
    "                continue\n",
    "            if str(reply.in_reply_to_status_id) == tweet_id:\n",
    "                replies_data.get('full_text').append(reply.full_text)\n",
    "                if 'media'in reply.entities:\n",
    "                    replies_data.get('images').append([ image.get('media_url') for image in reply.entities.get('media')])\n",
    "                logger.info(\"reply of tweet:{}\".format(reply.full_text))\n",
    "        except RateLimitError as e:\n",
    "            logger.error(\"Twitter api rate limit reached\".format(e))\n",
    "            time.sleep(60)\n",
    "            continue\n",
    "\n",
    "        except TweepError as e:\n",
    "            logger.error(\"Tweepy error occured:{}\".format(e))\n",
    "            break\n",
    "        except StopIteration:\n",
    "            break\n",
    "        except Exception as e:\n",
    "            \n",
    "            logger.exception(\"Failed while fetching replies {}\".format(e))\n",
    "            break\n",
    "    return replies_data"
   ]
  },
  {
   "cell_type": "code",
   "execution_count": 49,
   "metadata": {},
   "outputs": [
    {
     "name": "stderr",
     "output_type": "stream",
     "text": [
      "INFO:root:reply of tweet:@kenessajr Location: Nyamirambo \n",
      "Speed: 4.7 mbps\n",
      "Isp: Mango telecom https://t.co/7UZEfiNcXt\n",
      "INFO:root:reply of tweet:@kenessajr Location : Remera\n",
      "Speed : 2.2 Mbps\n",
      "ISP: @airtelrw https://t.co/Yg1TllQ4ve\n",
      "INFO:root:reply of tweet:@kenessajr Location: Kimironko\n",
      "Speed: 2.5 Mbps\n",
      "ISP: @airtelrw\n",
      "\n",
      "#MyInternetSpeedRw https://t.co/LM0C4prcKi\n",
      "INFO:root:reply of tweet:@kenessajr Location: Kanombe\n",
      "Speed: 7.9 Mbps\n",
      "ISP: Airtel\n",
      "\n",
      "#MyInternetSpeedRw https://t.co/tzcUdOuaqO\n",
      "INFO:root:reply of tweet:@kenessajr Remera\n",
      "ISP:MTN(3G) https://t.co/vzCMVPiObR\n",
      "INFO:root:reply of tweet:@kenessajr Location: Muhanga\n",
      "ISP: Mango https://t.co/N9MMZtSjUF\n",
      "INFO:root:reply of tweet:@kenessajr Location : Gisozi\n",
      "ISP: Axiom Networks https://t.co/We8350ns8F\n",
      "INFO:root:reply of tweet:@kenessajr Location: Sonatube\n",
      "Int speed: 3 Mbps\n",
      "Provider: MTN https://t.co/5o8uM7Doj0\n",
      "INFO:root:reply of tweet:@kenessajr Nyamirambo\n",
      "Airtel / 3G https://t.co/ALEhPBTzpL\n",
      "INFO:root:reply of tweet:@kenessajr Kimironko kwa Mushimire \n",
      "Speed: 1.2 Mbps \n",
      "ISP: MTN https://t.co/alC9CLxOVQ\n",
      "INFO:root:reply of tweet:@kenessajr Location: Karuruma\n",
      "ISP: @FastnetISP_RW https://t.co/nMSFHtUMSJ\n",
      "INFO:root:reply of tweet:@kenessajr Location:kiyovu ISP: MTN https://t.co/J2uVI5muur\n",
      "INFO:root:reply of tweet:@kenessajr Location: Karuruma\n",
      "ISP: MTN (4G) https://t.co/icnNCSWOT9\n",
      "INFO:root:reply of tweet:@kenessajr Location: Rubavu.                                       ISP: tnsp                                                         Network:4g https://t.co/dSTSnQ8Tg1\n",
      "INFO:root:reply of tweet:@kenessajr Location: Kicukiro \n",
      "Speed: 3.2Mbps\n",
      "ISP : MTN 4G https://t.co/tnSJIf9FQe\n",
      "INFO:root:reply of tweet:@kenessajr does the twitter api have the functionality to fetch someone’s tweet with all its thread replies? too much data to collected and it could be parsed to provide some good analysis\n",
      "INFO:root:reply of tweet:@kenessajr Location: Kacyiru \n",
      "Speed: 41 Mbps\n",
      "Isp: Axiom networks https://t.co/EJZqej1UVG\n",
      "INFO:root:reply of tweet:@kenessajr Location: Busanza\n",
      "Speed: 9.3 Mbps\n",
      "ISP: Axiom https://t.co/8WVy0dmH8G\n",
      "INFO:root:reply of tweet:@kenessajr #MyInternetSpeedRw \n",
      "Location: Kacyiru\n",
      "ISP: Axiom Networks\n",
      "Subscription:10Mbps\n",
      "\n",
      "@irastide https://t.co/8PhGMqPJNf\n",
      "INFO:root:reply of tweet:@kenessajr Location; Kanombe \n",
      "Speed; 8.8 Mbps\n",
      "ISP; Axiom Networks https://t.co/rUDkjcb95O\n",
      "INFO:root:reply of tweet:@kenessajr Location: Ruhuha, Bugesera\n",
      "Provider: MTN 3G https://t.co/BXvCH44lXF\n",
      "INFO:root:reply of tweet:@kenessajr Location:kanombe\n",
      "ISP: Airtel https://t.co/PF6OntsanY\n",
      "INFO:root:reply of tweet:@kenessajr Location: Kibagabaga\n",
      "Speed: 600 Kbps\n",
      "ISP: Airtel (4G) https://t.co/x3Kr4bTjgt\n",
      "INFO:root:reply of tweet:@kenessajr 😥 https://t.co/U12Qm7Fkiy\n",
      "INFO:root:reply of tweet:@kenessajr Location: Remera\n",
      "Speed: 160 Mbps\n",
      "ISP: Mango  (4G) https://t.co/MIWn7qITCk\n",
      "INFO:root:reply of tweet:@kenessajr Location:Nyamirambo\n",
      "Speed:1.1Mbps\n",
      "ISP:MTN 4G https://t.co/WyBW4NAX4n\n",
      "INFO:root:reply of tweet:@kenessajr Location: Rwamagana\n",
      "ISP: KT Rwanda Networks https://t.co/KX5TibD0du\n",
      "INFO:root:reply of tweet:@kenessajr Location: Kimironko \n",
      "Speed: 290 Kbps\n",
      "Network: 4G https://t.co/s2AYWb4wHc\n",
      "INFO:root:reply of tweet:@kenessajr Kagarama, Kicukiro\n",
      "Airtel https://t.co/wbhcfk1fbu\n",
      "INFO:root:reply of tweet:@kenessajr Location: Kicukiro\n",
      "Speed: 4.4 Mbps\n",
      "ISP: Fastnet https://t.co/PUWdpILUnD\n",
      "INFO:root:reply of tweet:@kenessajr Kimironko\n",
      "MTN 4G https://t.co/knhN9KecX3\n",
      "INFO:root:reply of tweet:@kenessajr @airtelrw Niboye kukagari https://t.co/l2lmf0hFod\n",
      "INFO:root:reply of tweet:@kenessajr Location: Lower Kiyovu \n",
      "Speed:4.3Mbps\n",
      "ISP: BK Techouse https://t.co/R5VjQJeimk\n",
      "INFO:root:reply of tweet:@kenessajr Location: kicukiro \n",
      "Speed: 2.8Mbps\n",
      "ISP: @MTNRwanda https://t.co/CB8YLZi9ID\n",
      "INFO:root:reply of tweet:@kenessajr MTN unlimited 4G\n",
      "Kimironko\n",
      "17Mbps is good actually\n",
      "Keep it up @MTNRwanda https://t.co/STBMUP5YzT\n",
      "INFO:root:reply of tweet:@kenessajr Gikondo \n",
      "\n",
      "ISP : MTNRwanda 3G\n",
      "Internet Irekure/Weekly https://t.co/vLvGeyghKu\n",
      "INFO:root:reply of tweet:@kenessajr Kibagabaga\n",
      "Liquid Internet https://t.co/yxKF9PDnAA\n",
      "INFO:root:reply of tweet:@kenessajr Where: Gikondo\n",
      "Which: @airtelrw \n",
      "How fast: 7.1Mbps https://t.co/ATPhpvRTHn\n",
      "INFO:root:reply of tweet:@kenessajr Location: Musanze (tetagouche) \n",
      "Speed: 11Mbps\n",
      "ISP: @airtelrw https://t.co/2eO7bOypcs\n",
      "INFO:root:reply of tweet:@kenessajr Location: Kicukiro/ Kagarama\n",
      "Speed: 2.9 mbps\n",
      "ISP: MTN 4G https://t.co/z1oH3h1nLe\n",
      "INFO:root:reply of tweet:@kenessajr Location : Kabeza \n",
      "Speed : 1.7 Mbps\n",
      "ISP : Mango https://t.co/Dy03gcYuQv\n",
      "INFO:root:reply of tweet:@kenessajr Location: Nyarutarama ( next to BAHO Hospital )\n",
      "ISP: @airtelrw 3G\n",
      "Speed: 12, 13 Mbps https://t.co/STGNtSyAQS\n",
      "INFO:root:reply of tweet:@kenessajr Location: Remera -Nyabisindu\n",
      "Speed: 3.3Mbps\n",
      "ISP : MTN (3G)\n",
      "\n",
      "#MyInternetSpeedRw https://t.co/sGozeVdaym\n",
      "INFO:root:reply of tweet:@kenessajr Location: Kicukiro Kagarama\n",
      "Network: MTN 3G Unlimited\n",
      "Speed : 81kbps \n",
      "\n",
      "unable to do anything with this @MTNRwanda https://t.co/BSZYq87iiJ\n",
      "INFO:root:reply of tweet:@kenessajr Location: Gisozi\n",
      "Speed: 4.9 Mbps\n",
      "ISP: MTN https://t.co/5avJVqIU94\n",
      "INFO:root:reply of tweet:@kenessajr Location: Rwamagana District                                                     Speed    : 5.8 Mbps                                         ISP          : 3G @MTNRwanda https://t.co/G96JriFORT\n",
      "INFO:root:reply of tweet:@kenessajr Location:Gikondo\n",
      "ISP:@MTNRwanda \n",
      "Speed:3.4Mbps(3G)\n",
      "Package:7G 5000fr/month irekure\n",
      "\n",
      "#MyInternetSpeedRW https://t.co/nlzlUDiymJ\n",
      "INFO:root:reply of tweet:@kenessajr Location: kabeza kumucyo\n",
      "Speed: 8.6Mbps\n",
      "ISP: Airtel https://t.co/Cs8HZmmG3V\n",
      "INFO:root:reply of tweet:@kenessajr Location: Kacyiru \n",
      "Speed: 2.5Mbps\n",
      "ISP: Airtel 3G https://t.co/LofGRdmEvm\n",
      "INFO:root:reply of tweet:@kenessajr Kacyiru\n",
      "Airtel https://t.co/JUuNJ2bPPT\n",
      "INFO:root:reply of tweet:@kenessajr Kibagabaga \n",
      "Liquid https://t.co/GcWXBfuuyg\n",
      "INFO:root:reply of tweet:@kenessajr Location: Kicukiro Ngoma,  \n",
      "ISP:MTN 3G\n",
      "Speed: 490kbps https://t.co/PhVvzsjPr8\n",
      "INFO:root:reply of tweet:@kenessajr Location:Rwinkwavu\n",
      "Speed :2.8Mbps\n",
      "ISP:Mango https://t.co/sdc7ffDY7u\n",
      "INFO:root:reply of tweet:@kenessajr Location: Gikondo- Nyenyeri\n",
      "Speed: 6.5 Mbps\n",
      "ISP: MTN\n",
      "Time: 6:05AM https://t.co/921VBniMGb\n",
      "INFO:root:reply of tweet:@kenessajr Location: Gitega-Nyarugenge\n",
      "Speed: 80 Kbps\n",
      "ISP: MTN/4G\n",
      "I need more clarification about this https://t.co/BsM9QhXXGr\n",
      "INFO:root:reply of tweet:@kenessajr Is there anyone who feel like he is being Throttled or Controled by these guys @MangoRwanda/@ktpressrwanda ????\n",
      "\n",
      "Location:Biryogo\n",
      "Internet speed:3.0 Mbps(metered) 384 Kbps(Actual Speed)\n",
      "ISP:Mango/Ktrn https://t.co/Lrn6H6111f\n",
      "INFO:root:reply of tweet:@kenessajr Location: Gacuriro\n",
      "Speed: 8.2 MPs\n",
      "ISP: MTN https://t.co/YPGF64nLDu\n",
      "INFO:root:reply of tweet:@kenessajr Location: Kanombe\n",
      "Speed : 540kbps \n",
      "ISP: MTN 3G🙄.\n",
      "Abatuye I kanombe, what is y’all’s plug? I need help😫! https://t.co/HOu7pmo4IB\n",
      "INFO:root:reply of tweet:@kenessajr @kagced Kami https://t.co/gVGrTsuZqY\n",
      "INFO:root:reply of tweet:@kenessajr Location: Kibagabaga\n",
      "Speed: 3.2Mps\n",
      "ISP: Mango4G\n",
      "INFO:root:reply of tweet:@kenessajr Location: Remera\n",
      "ISP: @airtelrw \n",
      "Speed : 14 Mbps https://t.co/yX7TxX4c2Z\n",
      "INFO:root:reply of tweet:@kenessajr Location: Kagarama\n",
      "ISP: MTN (3G)\n",
      "Speed: 1.2 Mbps\n",
      "#MyInternetSpeedRw https://t.co/NS5crQNigK\n",
      "INFO:root:reply of tweet:@kenessajr Location: Kiyovu\n",
      "Speed: 3.3 Mbps\n",
      "ISP: Mango https://t.co/XERrkaEiUF\n",
      "INFO:root:reply of tweet:@kenessajr Location: Kanombe\n",
      "ISP: MTN\n",
      "Network:3G https://t.co/Saxdo0f67w\n",
      "INFO:root:reply of tweet:@kenessajr Location: Kacyiru \n",
      "Speed: 8.0  Mbps\n",
      "ISP: MTN https://t.co/7QecKR4HLe\n",
      "INFO:root:reply of tweet:@kenessajr @4Gsquare can come and correct survey about 4G Network and Locations\n",
      "INFO:root:reply of tweet:@kenessajr https://t.co/8AdxYkuP32\n",
      "INFO:root:reply of tweet:@kenessajr Nyarugunga \n",
      "Airtel \n",
      "5.4 kbps 🤭 https://t.co/h3p7WALMDi\n",
      "INFO:root:reply of tweet:@kenessajr Remera\n",
      "Liquid https://t.co/dei5jz0x0L\n",
      "INFO:root:reply of tweet:@kenessajr Location:Gisozi\n",
      "Speed: 7.5 mbps\n",
      "ISP: MTN 3G @MTNRwanda https://t.co/l67ZIwZBFz\n",
      "INFO:root:reply of tweet:@kenessajr Location : Gikondo kigali\n",
      "Isp:  Airtel\n",
      "Time:: 11:53Pm\n",
      "Router Alcatel . WiFi https://t.co/4difoA19iR\n",
      "INFO:root:reply of tweet:@kenessajr Location: Kanombe\n",
      "Speed: 3.4Mbps\n",
      "ISP: MTN https://t.co/tjuFZa5gWR\n"
     ]
    },
    {
     "name": "stderr",
     "output_type": "stream",
     "text": [
      "INFO:root:reply of tweet:@kenessajr @MangoRwanda Ndi nyamirambo kuryanyuma, nkoresha 4G ya mango, bamwiye ngo 750kbps , ark mbona igenda gake pe https://t.co/RVHx8hssSL\n",
      "INFO:root:reply of tweet:@kenessajr Location : Kagarama \n",
      "Speed : 3.9\n",
      "ISP MTN 3G\n",
      "\n",
      "Up and down so far... https://t.co/WyuyaL6ypY\n",
      "INFO:root:reply of tweet:@kenessajr Kimironko\n",
      "\n",
      "Speed : fast attempt 210Kbps / 2nd attempt 1.1Mbps\n",
      "\n",
      "ISP: MTN ( 3G ) https://t.co/YiTUWr9ihx\n",
      "INFO:root:reply of tweet:@kenessajr Kibagabaga \n",
      "MTN https://t.co/LE3lJEf8PD\n",
      "INFO:root:reply of tweet:@kenessajr Location : kimironko\n",
      "ISP : @CanalboxR https://t.co/cwwPCC32Dw\n",
      "INFO:root:reply of tweet:@kenessajr Location: Kimironko\n",
      "Speed: 3.3 Mbps\n",
      "ISP: MTN 4G https://t.co/fRT2VA7JFI\n",
      "INFO:root:reply of tweet:@kenessajr @PopconnRw So far the worst\n",
      "Speed: 8.9 KPBS\n",
      "\n",
      "Can't even open Google https://t.co/sZ4kYzdj0o\n",
      "INFO:root:reply of tweet:@kenessajr Speed: 5.7Mbps\n",
      "Location: Kicukiro Niboyi\n",
      "Product:MUP 1/day\n",
      "Company:@FastnetISP_RW https://t.co/vx2CTwYlSI\n",
      "INFO:root:reply of tweet:@kenessajr Location: Nyamirambo \n",
      "Speed: 3.0 Mbps \n",
      "ISP: Netlink https://t.co/JqxY6entDg\n",
      "INFO:root:reply of tweet:@kenessajr Location: Biryogo \n",
      "ISP: Airtel / 3G https://t.co/4fonHWkbEZ\n",
      "INFO:root:reply of tweet:@kenessajr Location: Muhima behind Ste Famille \n",
      "ISP: MTN https://t.co/kMZTCn5XmS\n",
      "INFO:root:reply of tweet:@kenessajr Location: Kimironko - mushimire\n",
      "Provider : @MangoRwanda \n",
      "Speed: 1.5KBS🙄 https://t.co/9HVBjbdxEq\n",
      "INFO:root:reply of tweet:@kenessajr Location: Kimironko\n",
      "Speed: 3.2 Mbps \n",
      "ISP: MTN 3G https://t.co/ZmLhfaVQjx\n",
      "INFO:root:reply of tweet:@kenessajr Location: Kimironko\n",
      "Speed: 38Kbps😏\n",
      "ISP:Airtel (3G) https://t.co/3cZ3QRvD4I\n",
      "INFO:root:reply of tweet:@kenessajr Location: Kimisagara\n",
      "Speed: 3.9mbps\n",
      "Isp: MTN (4G) https://t.co/6zyjcR9uRN\n",
      "INFO:root:reply of tweet:@kenessajr Location: Gisozi  ISP: MTN 3G Speed: 4.2Mbps https://t.co/ru1s5FYNoL\n",
      "INFO:root:reply of tweet:@kenessajr Location: Muhanga\n",
      "Speed: 160 Kbps\n",
      "ISP: Airtel https://t.co/DAoDRwf11e\n",
      "INFO:root:reply of tweet:@kenessajr Kimihurura https://t.co/C08Whu6Jpc\n",
      "INFO:root:reply of tweet:@kenessajr ISP: @airtelrw https://t.co/BiGRX8FsKl\n",
      "INFO:root:reply of tweet:@kenessajr Location: bugesera mayange\n",
      "Speed: 230kbps\n",
      "ISP:RTN  4G @ktRwanda https://t.co/3Pmo53EDN8\n",
      "INFO:root:reply of tweet:@kenessajr Location: Gacuriro\n",
      "Speed: 2.2 Mbps\n",
      "ISP: Mango 4G https://t.co/3pDPzIEEx0\n",
      "INFO:root:reply of tweet:@kenessajr Location: Kacyiru \n",
      "Network: @airtelrw \n",
      "\n",
      "Shitty ass internet https://t.co/1fkIpYvSXj\n",
      "INFO:root:reply of tweet:@kenessajr Location: Kimihurura \n",
      "Speed : 3,7 Mbps\n",
      "ISP : Airtel (3G) https://t.co/wutRv58O25\n",
      "INFO:root:reply of tweet:@kenessajr Location: Masaka \n",
      "Speed: 550 kbps\n",
      "ISP: MTN\n",
      "\n",
      "N.B: Shitty AF https://t.co/M0LSEuuvah\n",
      "INFO:root:reply of tweet:@kenessajr Location: Kimironko, Bibare \n",
      "ISP: @FastnetISP_RW \n",
      "Speed: 21 Mbps \n",
      "\n",
      "Pack 4G: Monthly smartphone premium pack https://t.co/cRWrQyeblv\n",
      "INFO:root:reply of tweet:@kenessajr Location: Kacyiru\n",
      "Speed: 10 Mbps\n",
      "ISP: MTN https://t.co/E1fE2lAF0h\n",
      "INFO:root:reply of tweet:@kenessajr Location:Kicukiro \n",
      "ISP:MTN https://t.co/NNhSHaMggQ\n",
      "INFO:root:reply of tweet:@kenessajr Location: Gikondo\n",
      "I’m using Liquid Telecom https://t.co/lVrrovk78h\n",
      "INFO:root:reply of tweet:@kenessajr Nyamirambo (green corner)\n",
      "\n",
      "Airtel (3G) https://t.co/ofs5m17cRI\n",
      "INFO:root:reply of tweet:@kenessajr Location: kanombe                                          ISP: Mango Telecom https://t.co/ju2jZgWSNo\n",
      "INFO:root:reply of tweet:@kenessajr Canal box https://t.co/Oq6mDzC7B6\n",
      "INFO:root:reply of tweet:@kenessajr Location: Lagos.  ISP:Airtel https://t.co/Pwk3uUmCaJ\n",
      "INFO:root:reply of tweet:@kenessajr Location: Gikondo\n",
      "Speed; 270 Kbps\n",
      "ISP: Airtel 3G\n",
      "\n",
      "#MyInternetSpeedRW https://t.co/FmW2eqX27B\n",
      "INFO:root:reply of tweet:@kenessajr Location: Kimironko \n",
      "Speed : 4.5Mbps\n",
      "ISP: Airtel https://t.co/HDZmtKiCj6\n",
      "INFO:root:reply of tweet:@kenessajr Location: Kimisagara\n",
      "Speed: 12 Mbps\n",
      "ISP: Airtel https://t.co/oycDOSFUHm\n",
      "INFO:root:reply of tweet:@kenessajr Location: Musanze City\n",
      "Speed: 250 Mbps\n",
      "ISP: Mango https://t.co/bHT8xdTjJE\n",
      "INFO:root:reply of tweet:@kenessajr Location: Kanombe - Nonko\n",
      "Speed: 2.8Mbps\n",
      "ISP: MTN - 4GLTE\n",
      "\n",
      "#MyInternetSpeedRw https://t.co/aM0CkeXv1a\n",
      "INFO:root:reply of tweet:@kenessajr Location: Kacyiru\n",
      "Speed: 1.3 Mbps\n",
      "ISP: MTN https://t.co/4k4n6dU3Ia\n",
      "INFO:root:reply of tweet:@kenessajr Location: Kicukiro Niboye\n",
      "Speed: 14 kbps\n",
      "ISP: MTN 😡 https://t.co/dJ3fgaW4aV\n",
      "INFO:root:reply of tweet:@kenessajr Location: Nyamirambo (Kuri 40)\n",
      "Speed: 170kbps\n",
      "ISP: @airtelrw  3G https://t.co/QEzEFHhGKm\n",
      "INFO:root:reply of tweet:@kenessajr Location: Gihara/Kamonyi\n",
      "Speed: 1.9 Mbps\n",
      "ISP: Airtel 3G https://t.co/t0Np1TSios\n",
      "INFO:root:reply of tweet:@kenessajr Location :Gacuriro\n",
      "ISP:BSC\n",
      "Speed:3.2 Mbps\n",
      "#myinternetspeed https://t.co/bFXhpYLpjD\n",
      "INFO:root:reply of tweet:@kenessajr Kimironko\n",
      "MTN https://t.co/YKWOX56JrY\n",
      "INFO:root:reply of tweet:@kenessajr Location: remera\n",
      "Speed:20mps\n",
      "ISP: airtel https://t.co/HA9Ti1SBXr\n",
      "INFO:root:reply of tweet:@kenessajr Location: Kacyiru\n",
      "1) ISP: MTN 3G\n",
      "     Speed: 140Kbps\n",
      "2) ISP: Popconn\n",
      "     Speed: 1.5Mbps https://t.co/fuDoEDcGJC\n",
      "INFO:root:reply of tweet:@kenessajr Location: Kacyiru\n",
      "ISP: Airtel https://t.co/7nETaCETyP\n",
      "INFO:root:reply of tweet:@kenessajr Location: Nyamirambo\n",
      "Speed: 1.4 Mbps\n",
      "Provider: @MTNRwanda https://t.co/YLhAgRaPEr\n",
      "INFO:root:reply of tweet:@kenessajr @derrickshades Kimironko MTN 4G https://t.co/FU7NgHUkRB\n",
      "INFO:root:reply of tweet:@kenessajr Muhanga City https://t.co/oOzZ8Xa1Ta\n",
      "INFO:root:reply of tweet:@kenessajr Location: Kabeza\n",
      "Speed:130kbps 😴\n",
      "ISP:@airtelrw https://t.co/KrhMlf0q9Z\n",
      "INFO:root:reply of tweet:@kenessajr Location: Kanombe\n",
      "Speed: 1.5 Mbps\n",
      "ISP: Fastnet https://t.co/gGsWZELpyJ\n",
      "INFO:root:reply of tweet:@kenessajr Locatio: Muhima\n",
      "Speed: 7.5Mbps\n",
      "ISP: MTN mofos https://t.co/wy5frc4i3w\n",
      "INFO:root:reply of tweet:@kenessajr Location: Muhima\n",
      "ISP: @MangoRwanda https://t.co/TH7ShqrFQ5\n",
      "INFO:root:reply of tweet:@kenessajr Kicukiro , MTN of course https://t.co/xOW2WCxX3X\n",
      "INFO:root:reply of tweet:@kenessajr Airtel kimironko https://t.co/esty8UqikI\n",
      "INFO:root:reply of tweet:@kenessajr #1\n",
      "Location: Kibagabaga \n",
      "Speed: 3.6 Mbps\n",
      "ISP: @liquidtelecom (Family Entertainment Package 25 Mbps)\n",
      "\n",
      "#2\n",
      "Speed: 970 Kbps\n",
      "ISP: @MTNRwanda 3G (Monthly 30GB for 10,000 RWF) https://t.co/OEj5aeqxS8\n",
      "INFO:root:reply of tweet:@kenessajr ISP: MTN\n",
      "Location: Kicukiro https://t.co/g9WcwJgV34\n",
      "INFO:root:reply of tweet:@kenessajr Location: Gisozi hejuru y'U rwibutso\n",
      "Kbps: 410:⬇️700⬆️\n",
      "ISP: MTN 4G\n",
      "\n",
      "In my 🏠. https://t.co/YvTPWXXYjL\n",
      "INFO:root:reply of tweet:@kenessajr Location: kicukiro\n",
      "ISP: trukonekt \n",
      "Speed : amase 🙄 https://t.co/pk1JJgeGC0\n",
      "INFO:root:reply of tweet:@kenessajr ISP: Airtel \n",
      "Speed: 490Kps\n",
      "Location: Kabeza AEE https://t.co/gmZIgppmCD\n",
      "INFO:root:reply of tweet:@kenessajr ISP: MTN\n",
      "Speed: 360Kps\n",
      "Location: Kabeza AEE https://t.co/WnMrkxJGBH\n",
      "INFO:root:reply of tweet:@kenessajr Location: Kabeza\n",
      "ISP: MTN https://t.co/PPY9RsSgKp\n",
      "INFO:root:reply of tweet:@kenessajr Location: Rusororo\n",
      "Provider: Mango https://t.co/aW06OvstHG\n",
      "INFO:root:reply of tweet:@kenessajr Location: Huye\n",
      "Speed: 3.2 Mbps\n",
      "ISP: Mango Telecom https://t.co/aoIB7m2nOm\n",
      "INFO:root:reply of tweet:@kenessajr Location:KARURUMA \n",
      "ISP:@MTNRwanda https://t.co/rT18W1BVKc\n",
      "INFO:root:reply of tweet:@kenessajr Location: Kacyiru library\n",
      "Network: @MangoRwanda \n",
      "Pack 4G: 30Mbps\n",
      "\n",
      "Needless to say that I’m being scammed. https://t.co/X8AzfKtEJT\n",
      "INFO:root:reply of tweet:@kenessajr Location: Musanze\n",
      "Speed:  2.3 Mbps 😑\n",
      "ISP: Axiom\n",
      "Network: 3G https://t.co/1JeXCgGqeN\n",
      "INFO:root:reply of tweet:@kenessajr Kacyiru \n",
      "1) Airtel \n",
      "2) MTN 🤦🏾‍♀️ https://t.co/OVEbrhw7nd\n",
      "INFO:root:reply of tweet:@kenessajr Loc: Kibagabaga\n",
      "Speed: 3Mbps\n",
      "ISP: MTN (4G) https://t.co/R68NoamzF2\n",
      "INFO:root:reply of tweet:@kenessajr Location: Rwamagana \n",
      "Speed:3.5Mbps\n",
      "Isp:Airtel https://t.co/CPMinNtyes\n",
      "INFO:root:reply of tweet:@kenessajr Babireba gute\n",
      "INFO:root:reply of tweet:@kenessajr My Internet speed is 310Kbps. How FAST is your Internet? https://t.co/yo5ncvnfdO\n",
      "ISP: Airtel\n",
      "INFO:root:reply of tweet:@kenessajr Location : kanombe \n",
      "Speed : 15Mbps\n",
      "ISP : MTN RWANDA https://t.co/aHkKIpQtbh\n",
      "INFO:root:reply of tweet:@kenessajr Location:Remera\n",
      "Speed:6.8Mbps\n",
      "ISP:Airtel https://t.co/aLyq7aAy9M\n",
      "INFO:root:reply of tweet:@kenessajr Location: busogo, Musanze, north\n",
      "Speed: 1.1 Mbps\n",
      "ISP: Airtel https://t.co/vDGitMwdaH\n"
     ]
    },
    {
     "name": "stderr",
     "output_type": "stream",
     "text": [
      "INFO:root:reply of tweet:@kenessajr Location:Kicukiro\n",
      "ISP: @airtelrw  3G\n",
      "Balance Now: 100626 GB https://t.co/9yVnwvkDh4\n",
      "INFO:root:reply of tweet:@kenessajr Location:busogo(Musanze)\n",
      "Network provider: @airtelrw https://t.co/FX3rywNFUC\n",
      "INFO:root:reply of tweet:@kenessajr Location: Rebero\n",
      "Speed: 12 Mbps\n",
      "ISP: MTN https://t.co/IgVMBbUGjR\n",
      "INFO:root:reply of tweet:@kenessajr Location: Kabeza \n",
      "ISP: Airtel\n",
      "\n",
      "needless to say.... I'm having a shitty day 😭🤢 https://t.co/euKK2qdu9m\n",
      "INFO:root:reply of tweet:@kenessajr Kibagabaga\n",
      "MTN https://t.co/MDezMMEWV0\n",
      "INFO:root:reply of tweet:@kenessajr ISP:Mtn 🤦🏾‍♂️\n",
      "Location: Kacyiru https://t.co/GKdePsqfdS\n",
      "INFO:root:reply of tweet:@kenessajr @MTNRwanda enough speed for only forwarded whatsapp msgs(NHS) from Aunties https://t.co/aVpkrva64k\n",
      "INFO:root:reply of tweet:@kenessajr Location: Kimironko\n",
      "Speed: 4.9 Mbps\n",
      "ISP: @airtelrw  - 3G https://t.co/dJOno8jV9L\n",
      "INFO:root:reply of tweet:@kenessajr ISP: ISPA\n",
      "Package: “2MBPS dedicated” 🙄🙄\n",
      "Location: Rubilizi https://t.co/OZ6hPaOpmc\n",
      "INFO:root:reply of tweet:@kenessajr Location : nyamirambo\n",
      "ISP :MTN https://t.co/S1CUq6E2kv\n",
      "INFO:root:reply of tweet:@kenessajr I’m on a monthly subscription of 3G. https://t.co/xVaVJxzc9p\n",
      "INFO:root:reply of tweet:@kenessajr Location: gikondo\n",
      "Speed :2.6 MBPS\n",
      "ISP : Mtn 3G https://t.co/7GGXiE5vYw\n",
      "INFO:root:reply of tweet:@kenessajr Location: Kicukiro-Niboye\n",
      "ISP: MTN (4G irekure) https://t.co/PYjuKTOMn0\n",
      "INFO:root:reply of tweet:@kenessajr ISP: MTN\n",
      "Location: nyamirambo cosmos https://t.co/hSXlW6dU8z\n",
      "INFO:root:reply of tweet:@kenessajr Location: Niboye\n",
      "ISP: MTN Rwanda 3G https://t.co/czCPGWpNBR\n",
      "INFO:root:reply of tweet:@kenessajr Location: Kacyiru\n",
      "Network: Airtel https://t.co/wkm2OIaGkg\n",
      "INFO:root:reply of tweet:@kenessajr Location: Sonatubes \n",
      "Speed: 7.8 Mbps\n",
      "ISP:Airtel (3G) https://t.co/cvPgFHLGZs\n",
      "INFO:root:reply of tweet:@kenessajr Location: Kimironko\n",
      "Speed: 580 Kbps\n",
      "ISP: MTN\n",
      "😠😠😠 https://t.co/4ePktJdzPK\n",
      "INFO:root:reply of tweet:@kenessajr Location: Kicukiro-Niboye\n",
      "ISP: MTN 3G https://t.co/iEbXvjZqJq\n",
      "INFO:root:reply of tweet:@kenessajr Location: Kicukiro-Niboye\n",
      "ISP: 3G Airtel https://t.co/zncY9YGyJ4\n",
      "INFO:root:reply of tweet:@kenessajr Location: Gisozi\n",
      "Speed: 2.5 Mbps\n",
      "ISP: Airtel\n",
      "INFO:root:reply of tweet:@kenessajr Location: Kicukiro-Niboye\n",
      "Speed: 4.1Mbps\n",
      "ISP: Airtel https://t.co/t751LsSskS\n",
      "INFO:root:reply of tweet:@kenessajr Location: Rusororo\n",
      "Speed 1.3 Mbps\n",
      "ISP: @airtelrw 3G https://t.co/aAMimZv9Rz\n",
      "INFO:root:reply of tweet:@kenessajr Kimironko\n",
      "MTN 3G unlimited https://t.co/pK2CyMX9Nn\n",
      "INFO:root:reply of tweet:@kenessajr @onshimiye Location:Kimironko\n",
      "ISP: Mango Telecom https://t.co/SMjl6lJeSR\n",
      "INFO:root:reply of tweet:@kenessajr Location : Nyarutarama\n",
      "Speed: 13 Mbps \n",
      "ISP: Liquid Telecom \n",
      "Package: 25Mbps fiber unlimited https://t.co/ta2b5eE2Sj\n",
      "INFO:root:reply of tweet:@kenessajr Location Gishushu \n",
      "Speed: 2.3 Mbps\n",
      "ISP: Mango https://t.co/mnamPK7uJU\n",
      "INFO:root:reply of tweet:@kenessajr Location: Gasabo, Rutunga\n",
      "Speed:3.1 mbps\n",
      "ISP: MTN 4G Irekure(Monthly Unlimited) https://t.co/tipe438Yet\n",
      "INFO:root:reply of tweet:@kenessajr Location: Gisozi near Kurwibutso\n",
      "Speed: 240Kbps\n",
      "ISP: MTN 3G https://t.co/aFIG6SjQQR\n",
      "INFO:root:reply of tweet:@kenessajr Location : Kabeza\n",
      "ISP : Airtel \n",
      "(ark iyi nishira nzajugunya simcard)\n",
      "Speed : 160kbps https://t.co/FljE7GsrKO\n",
      "INFO:root:reply of tweet:@kenessajr Location: Kimihurura/Rugando\n",
      "Speed: 870 kbps\n",
      "ISP: MTN https://t.co/bq8L9LqQdY\n",
      "INFO:root:reply of tweet:@kenessajr Location: Ruyenzi\n",
      "Speed: 1.4Mbps\n",
      "ISP: @MTNRwanda \n",
      "Package: 4G unlimited internet\n",
      "\n",
      "#MyInternetSpeedRW https://t.co/1kFQFBhon0\n",
      "INFO:root:reply of tweet:@kenessajr Location: Nyabihu District\n",
      "Speed:3.23; 3.60\n",
      "ISP: Mtn 3G https://t.co/c4jvlrOxjz\n",
      "INFO:root:reply of tweet:@kenessajr @Ninsiima250 Nyakabanda, MTN3G (screenshot) \n",
      "Nyakabanda, MANGO 4G platinum yo iri kuri 100Kbps https://t.co/xIHS0yDt6q\n",
      "INFO:root:reply of tweet:@kenessajr #RwOT \n",
      "Location : kimironko\n",
      "Speed : 700 kps\n",
      "ISP : Netpro 4G\n",
      "#MyInternetSpeedRw https://t.co/i6nAn9tUsF\n",
      "INFO:root:reply of tweet:@kenessajr 1.4 Mbps\n",
      "Remera\n",
      "MTN https://t.co/frka4Fgxq4\n",
      "INFO:root:reply of tweet:@kenessajr @gadha Location : Kicukiro (Gikondo)\n",
      "Internet : MTN 3G\n",
      "Bundle : 500 RWF (Weekly 800MB) https://t.co/NLzEj8i72q\n",
      "INFO:root:reply of tweet:@kenessajr Location: Remera\n",
      "Speed: 1.2Mbps\n",
      "ISP: Mango 4G https://t.co/HMeLhMyNWq\n",
      "INFO:root:reply of tweet:@kenessajr Location: Kagarama \n",
      "4G \n",
      "ISP: @mtnrwanda https://t.co/NSkDb3Lkq0\n",
      "INFO:root:reply of tweet:@kenessajr I am using two ISP’s\n",
      "\n",
      "Location: Kanombe\n",
      "\n",
      "ISP: MTN 3G\n",
      "Speed: 2.7 Mbps \n",
      "\n",
      "ISP: Airtel 3G\n",
      "Speed: 2.5 Mbps https://t.co/SGmjDdwNYf\n",
      "INFO:root:reply of tweet:@kenessajr @onshimiye Location: Kimironko\n",
      "Speed: 5.7 Mbps\n",
      "ISP: Truconnect 4G https://t.co/lGSGBY5nNx\n",
      "INFO:root:reply of tweet:@kenessajr Location: Kisimenti \n",
      "ISP: Airtel 3G https://t.co/TFrKpJJ9Jb\n",
      "INFO:root:reply of tweet:@kenessajr Location: Nyamirambo\n",
      "Speed: 2.4 Mbps\n",
      "ISP: Airtel 3G https://t.co/IAUV8V5FmW\n",
      "INFO:root:reply of tweet:@kenessajr Location : Bumbogo , speed: 920kbps , ISP: MTN 3G https://t.co/Up9BLf9HxK\n",
      "INFO:root:reply of tweet:@kenessajr Location : Nyamirambo (Baoba)\n",
      "Speed : 250 kbps 😏\n",
      "ISP : @MangoRwanda https://t.co/EgFGp60MhV\n",
      "INFO:root:reply of tweet:@kenessajr Location: Gisozi\n",
      "Speed: 1.3 mbps\n",
      "ISP: airtel 3G https://t.co/Wg7kTRUC4X\n",
      "INFO:root:reply of tweet:@kenessajr Kabeza \n",
      "Fastnet 4G\n",
      "6k bundle https://t.co/9ROvm0Ahik\n",
      "INFO:root:reply of tweet:@kenessajr Nyanza https://t.co/ccOHLD1pVq\n",
      "INFO:root:reply of tweet:@kenessajr Location: Kagarama\n",
      "Speed: 7.4 Mbps\n",
      "ISP: MTN 3G https://t.co/jE03hWhFh9\n",
      "INFO:root:reply of tweet:@kenessajr Location: Sonatubes\n",
      "Speed: 1.2 Mbps\n",
      "ISP: Airtel https://t.co/1LBAxltYsl\n",
      "INFO:root:reply of tweet:@kenessajr location: Rubilizi\n",
      "isp: aitell 3G https://t.co/nPCV671DKH\n",
      "INFO:root:reply of tweet:@kenessajr Provider: liquid\n",
      "Location: Kacyiru https://t.co/awou8X6yME\n",
      "INFO:root:reply of tweet:@kenessajr Location : Gikondo\n",
      "Speed: 8.1 Mbps\n",
      "ISP: MTN\n",
      "Network: 3G https://t.co/0tJF6NF78y\n",
      "INFO:root:reply of tweet:@kenessajr Location:Rusororo\n",
      "ISP:Axiom https://t.co/ogB6WTze9Y\n",
      "INFO:root:reply of tweet:@kenessajr Location : Gikondo\n",
      "Speed: 22 Mbps \n",
      "ISP: Liquid Telecom \n",
      "Package: 25Mbps fiber unlimited https://t.co/Pj2AYRH6FH\n",
      "INFO:root:reply of tweet:@kenessajr @VictorKagarama Location: Nyamata\n",
      "Speed:3.3 Mbps\n",
      "ISP:MTN https://t.co/Dke7kWCyeS\n",
      "INFO:root:reply of tweet:@kenessajr Location : Gishushu\n",
      "Speed : 3.3 Mbps\n",
      "ISP : Mango https://t.co/qEH4ZEhvzn\n",
      "INFO:root:reply of tweet:@kenessajr Location: Kicukiro/sonatube \n",
      "ISP: @airtelrw 3G\n",
      "Package: 30 GB 10000 RWF/month🤦🏽‍♂️ https://t.co/tKAqArvs5l\n",
      "INFO:root:reply of tweet:@kenessajr Location: Kak City aka Kacyiru\n",
      "Network: Airtel\n",
      "Speed 15Mbps https://t.co/OPclutgp4J\n",
      "INFO:root:reply of tweet:@kenessajr Location: Kicukiro\n",
      "Speed: 4.5 Mbps\n",
      "ISP: Airtel 3G https://t.co/kQDxEGoWKB\n",
      "INFO:root:reply of tweet:@kenessajr Location now: Kimisagara\n",
      "Speed: 1.7 Mbps (yarivuye kuri 490kbps)\n",
      "ISP: MTN Rwanda😩 https://t.co/4lYauvccUA\n",
      "INFO:root:reply of tweet:@kenessajr I am at Kimironko Nyagatovu.  I am using Airtel data https://t.co/beo6JPS43H\n",
      "INFO:root:reply of tweet:@kenessajr ISP: TrueConnect 4G\n",
      "Location: Kimironko https://t.co/GhENnW2bxJ\n",
      "INFO:root:reply of tweet:@kenessajr Location: Kicukiro (Rebero)\n",
      "Speed: N/A\n",
      "ISP: MTN 3G https://t.co/UB6r98VLoJ\n",
      "INFO:root:reply of tweet:@kenessajr Location: Rebero\n",
      "ISP: Liquid Home https://t.co/Xo03zelU6y\n",
      "INFO:root:reply of tweet:@kenessajr Location: Kicukiro \n",
      "Speed: 3.2Mbps\n",
      "ISP: Mtn 3G https://t.co/KDYa960iWO\n",
      "INFO:root:reply of tweet:@kenessajr Location: Kicukiro\n",
      "Speed: 1.3 Mbps\n",
      "ISP: Airtel /3G\n",
      "\n",
      "#MyInternetSpeedRw https://t.co/V4GaUIsZOe\n",
      "INFO:root:reply of tweet:@kenessajr Location: Nyamirambo/ Nyakabanda     \n",
      "ISP: Mango Telecom \n",
      "Package: Monthly Unlimited 24000 RWF https://t.co/rLmrb1LL2q\n",
      "INFO:root:reply of tweet:@kenessajr Location: Ruyenzi       \n",
      "Speed: 120 kbps⬇️ 850 kbps⬆️\n",
      "ISP: @airtelrw 3G\n",
      "Package: 30 GB 10000 RWF/month https://t.co/m2EtV4rP6F\n",
      "INFO:root:reply of tweet:@kenessajr Location: Gisozi\n",
      "Speed: 15Mbps\n",
      "ISP: Airtel https://t.co/xGecwqy1tK\n",
      "INFO:root:reply of tweet:@kenessajr Location: Kimironko\n",
      "Speed: 1.6Mbps\n",
      "ISP: Airtel 3G https://t.co/BzucRFOdzw\n",
      "INFO:root:reply of tweet:@kenessajr Nyarugenge MTN ‘4G LTE’ https://t.co/6anGmhlqnF\n",
      "INFO:root:reply of tweet:@kenessajr Location: Gikondo \n",
      "Speed: 3.8 Mbps\n",
      "ISP: MTN Rwanda (3G) https://t.co/iblu2qFzw2\n"
     ]
    },
    {
     "name": "stderr",
     "output_type": "stream",
     "text": [
      "INFO:root:reply of tweet:@kenessajr Location: Gatsata \n",
      "Speed: 1.4 Mbps\n",
      "ISP: Mango Telecom \n",
      "\n",
      "#MyInternetSpeedRw https://t.co/zbGGdiO1N1\n",
      "INFO:root:reply of tweet:@kenessajr Loc: Nyamirambo\n",
      "Speed: 3.7 \n",
      "ISP:MTN https://t.co/2youOT7OlB\n",
      "INFO:root:reply of tweet:@kenessajr Location: Kagarama\n",
      "Speed: 65Kbps\n",
      "ISP: Axiom\n",
      "Wireless broadband https://t.co/1XL617c9eM\n",
      "INFO:root:reply of tweet:@kenessajr @kagced Location: Musanze\n",
      "ISP: Airtel https://t.co/ToHorivMYe\n",
      "INFO:root:reply of tweet:@kenessajr Location: Kicukiro\n",
      "Speed:6.6 Mbps\n",
      "ISP: @airtelrw https://t.co/tGNmi1rm2R\n",
      "INFO:root:reply of tweet:@kenessajr Location: Kimironko \n",
      "Speed: 17 Mbps 😀\n",
      "ISP: MTN Rwanda https://t.co/ctsXC6AWju\n",
      "INFO:root:reply of tweet:@kenessajr Location: Kanombe- Nyarugunga https://t.co/LoQRcsdBs6\n",
      "INFO:root:reply of tweet:@kenessajr Location:Town\n",
      "Speed:2.8 Mbps\n",
      "ISP:MTN https://t.co/SbIUYQEXUN\n",
      "INFO:root:reply of tweet:@kenessajr Location: Kacyiru \n",
      "ISP: Liquid https://t.co/PWqJd6pveX\n",
      "INFO:root:reply of tweet:@kenessajr Location: Gikondo\n",
      "Speed: 3.9 Mbps (🙂)\n",
      "ISP: Tigo\n",
      "Network: 3G\n",
      "\n",
      "#MyInternetSpeedRw https://t.co/0t1iJYMVVY\n",
      "INFO:root:reply of tweet:@kenessajr Location: Gisozi | Gacinjiru       \n",
      "Speed: 170 Kbps ⬇️ 460 Kbps ⬆️ \n",
      "ISP: @MTNRwanda 4G\n",
      "Package: Monthly Unlimited 6000 RWF\n",
      "\n",
      "#MyInternetSpeedRW #RwOT https://t.co/n7zkfRkzO7\n",
      "INFO:root:reply of tweet:@kenessajr Location : Gikondo\n",
      "Speed: 330 Kbps (☹️)\n",
      "ISP: MTN\n",
      "Network: 3G\n",
      "\n",
      "#MyInternetSpeedRw https://t.co/9MGXKMWm4P\n",
      "INFO:root:reply of tweet:@kenessajr Location: Gikondo\n",
      "Speed:3.9 Mbps\n",
      "ISP: MTN https://t.co/bauroA4Y6q\n",
      "INFO:root:reply of tweet:@kenessajr Location: Rwamagana \n",
      "Speed: 3.5 Mbps\n",
      "ISP: MTN 3G https://t.co/hR5kaeSUsT\n",
      "INFO:root:reply of tweet:@kenessajr Remera\n",
      "MTN https://t.co/dowvi8r884\n",
      "INFO:root:reply of tweet:@kenessajr Should add the package they are utilizing for example Airtel 3G\n",
      "INFO:root:reply of tweet:@kenessajr location: Nyakabanda\n",
      "Speed: 1.1 Mbps\n",
      "ISP: Mtn\n",
      "\n",
      "#MyInternetSpeedRw https://t.co/HUbhQu3z6B\n",
      "INFO:root:reply of tweet:@kenessajr Location : Remera\n",
      "Speed: 9.9 Mbps\n",
      "ISP: Airtel https://t.co/iaFa9YZ32g\n",
      "INFO:root:reply of tweet:@kenessajr Location: Mumena\n",
      "Speed: 8.5 Mbps\n",
      "ISP: Mango Telecom https://t.co/EhQJQpg07S\n",
      "INFO:root:reply of tweet:@kenessajr Location: Gikondo\n",
      "Speed: 7.2 Mbps\n",
      "iSP: MTN https://t.co/dX4OusbHOq\n",
      "INFO:root:reply of tweet:@kenessajr Location: Kimisagara\n",
      "Speed: 1.2 Mbps\n",
      "ISP: Airtel https://t.co/zL4AsiDNrw\n",
      "INFO:root:reply of tweet:@kenessajr Location: Gisozi\n",
      "Speed: 34 Mbps\n",
      "ISP: CB Net https://t.co/L5XMwmjper\n",
      "INFO:root:reply of tweet:#Rwot let's do this. Share your current speed, location and your ISP on this thread.\n",
      "\n",
      "Location: Kimironko\n",
      "Speed: 4.6 Mbps\n",
      "ISP: Airtel\n",
      "\n",
      "#MyInternetSpeedRw https://t.co/x9bphOEQTh\n"
     ]
    }
   ],
   "source": [
    "replies = get_replies_to_tweets(\"kenessajr\", \"1246013771073626112\")"
   ]
  },
  {
   "cell_type": "markdown",
   "metadata": {},
   "source": [
    "So far so good we have around 169 data, let collect more from another tweets "
   ]
  },
  {
   "cell_type": "code",
   "execution_count": 26,
   "metadata": {},
   "outputs": [
    {
     "data": {
      "text/plain": [
       "{'full_text': ['@kenessajr Location: Nyamirambo \\nSpeed: 4.7 mbps\\nIsp: Mango telecom https://t.co/7UZEfiNcXt',\n",
       "  '@kenessajr Location : Remera\\nSpeed : 2.2 Mbps\\nISP: @airtelrw https://t.co/Yg1TllQ4ve',\n",
       "  '@kenessajr Location: Kimironko\\nSpeed: 2.5 Mbps\\nISP: @airtelrw\\n\\n#MyInternetSpeedRw https://t.co/LM0C4prcKi',\n",
       "  '@kenessajr Location: Kanombe\\nSpeed: 7.9 Mbps\\nISP: Airtel\\n\\n#MyInternetSpeedRw https://t.co/tzcUdOuaqO',\n",
       "  '@kenessajr Remera\\nISP:MTN(3G) https://t.co/vzCMVPiObR',\n",
       "  '@kenessajr Location: Muhanga\\nISP: Mango https://t.co/N9MMZtSjUF',\n",
       "  '@kenessajr Location : Gisozi\\nISP: Axiom Networks https://t.co/We8350ns8F',\n",
       "  '@kenessajr Location: Sonatube\\nInt speed: 3 Mbps\\nProvider: MTN https://t.co/5o8uM7Doj0',\n",
       "  '@kenessajr Nyamirambo\\nAirtel / 3G https://t.co/ALEhPBTzpL',\n",
       "  '@kenessajr Kimironko kwa Mushimire \\nSpeed: 1.2 Mbps \\nISP: MTN https://t.co/alC9CLxOVQ',\n",
       "  '@kenessajr Location: Karuruma\\nISP: @FastnetISP_RW https://t.co/nMSFHtUMSJ',\n",
       "  '@kenessajr Location:kiyovu ISP: MTN https://t.co/J2uVI5muur',\n",
       "  '@kenessajr Location: Karuruma\\nISP: MTN (4G) https://t.co/icnNCSWOT9',\n",
       "  '@kenessajr Location: Rubavu.                                       ISP: tnsp                                                         Network:4g https://t.co/dSTSnQ8Tg1',\n",
       "  '@kenessajr Location: Kicukiro \\nSpeed: 3.2Mbps\\nISP : MTN 4G https://t.co/tnSJIf9FQe',\n",
       "  '@kenessajr does the twitter api have the functionality to fetch someone’s tweet with all its thread replies? too much data to collected and it could be parsed to provide some good analysis',\n",
       "  '@kenessajr Location: Kacyiru \\nSpeed: 41 Mbps\\nIsp: Axiom networks https://t.co/EJZqej1UVG',\n",
       "  '@kenessajr Location: Busanza\\nSpeed: 9.3 Mbps\\nISP: Axiom https://t.co/8WVy0dmH8G',\n",
       "  '@kenessajr #MyInternetSpeedRw \\nLocation: Kacyiru\\nISP: Axiom Networks\\nSubscription:10Mbps\\n\\n@irastide https://t.co/8PhGMqPJNf',\n",
       "  '@kenessajr Location; Kanombe \\nSpeed; 8.8 Mbps\\nISP; Axiom Networks https://t.co/rUDkjcb95O',\n",
       "  '@kenessajr Location: Ruhuha, Bugesera\\nProvider: MTN 3G https://t.co/BXvCH44lXF',\n",
       "  '@kenessajr Location:kanombe\\nISP: Airtel https://t.co/PF6OntsanY',\n",
       "  '@kenessajr Location: Kibagabaga\\nSpeed: 600 Kbps\\nISP: Airtel (4G) https://t.co/x3Kr4bTjgt',\n",
       "  '@kenessajr 😥 https://t.co/U12Qm7Fkiy',\n",
       "  '@kenessajr Location: Remera\\nSpeed: 160 Mbps\\nISP: Mango  (4G) https://t.co/MIWn7qITCk',\n",
       "  '@kenessajr Location:Nyamirambo\\nSpeed:1.1Mbps\\nISP:MTN 4G https://t.co/WyBW4NAX4n',\n",
       "  '@kenessajr Location: Rwamagana\\nISP: KT Rwanda Networks https://t.co/KX5TibD0du',\n",
       "  '@kenessajr Location: Kimironko \\nSpeed: 290 Kbps\\nNetwork: 4G https://t.co/s2AYWb4wHc',\n",
       "  '@kenessajr Kagarama, Kicukiro\\nAirtel https://t.co/wbhcfk1fbu',\n",
       "  '@kenessajr Location: Kicukiro\\nSpeed: 4.4 Mbps\\nISP: Fastnet https://t.co/PUWdpILUnD',\n",
       "  '@kenessajr Kimironko\\nMTN 4G https://t.co/knhN9KecX3',\n",
       "  '@kenessajr @airtelrw Niboye kukagari https://t.co/l2lmf0hFod',\n",
       "  '@kenessajr Location: Lower Kiyovu \\nSpeed:4.3Mbps\\nISP: BK Techouse https://t.co/R5VjQJeimk',\n",
       "  '@kenessajr Location: kicukiro \\nSpeed: 2.8Mbps\\nISP: @MTNRwanda https://t.co/CB8YLZi9ID',\n",
       "  '@kenessajr MTN unlimited 4G\\nKimironko\\n17Mbps is good actually\\nKeep it up @MTNRwanda https://t.co/STBMUP5YzT',\n",
       "  '@kenessajr Gikondo \\n\\nISP : MTNRwanda 3G\\nInternet Irekure/Weekly https://t.co/vLvGeyghKu',\n",
       "  '@kenessajr Kibagabaga\\nLiquid Internet https://t.co/yxKF9PDnAA',\n",
       "  '@kenessajr Where: Gikondo\\nWhich: @airtelrw \\nHow fast: 7.1Mbps https://t.co/ATPhpvRTHn',\n",
       "  '@kenessajr Location: Musanze (tetagouche) \\nSpeed: 11Mbps\\nISP: @airtelrw https://t.co/2eO7bOypcs',\n",
       "  '@kenessajr Location: Kicukiro/ Kagarama\\nSpeed: 2.9 mbps\\nISP: MTN 4G https://t.co/z1oH3h1nLe',\n",
       "  '@kenessajr Location : Kabeza \\nSpeed : 1.7 Mbps\\nISP : Mango https://t.co/Dy03gcYuQv',\n",
       "  '@kenessajr Location: Nyarutarama ( next to BAHO Hospital )\\nISP: @airtelrw 3G\\nSpeed: 12, 13 Mbps https://t.co/STGNtSyAQS',\n",
       "  '@kenessajr Location: Remera -Nyabisindu\\nSpeed: 3.3Mbps\\nISP : MTN (3G)\\n\\n#MyInternetSpeedRw https://t.co/sGozeVdaym',\n",
       "  '@kenessajr Location: Kicukiro Kagarama\\nNetwork: MTN 3G Unlimited\\nSpeed : 81kbps \\n\\nunable to do anything with this @MTNRwanda https://t.co/BSZYq87iiJ',\n",
       "  '@kenessajr Location: Gisozi\\nSpeed: 4.9 Mbps\\nISP: MTN https://t.co/5avJVqIU94',\n",
       "  '@kenessajr Location: Rwamagana District                                                     Speed    : 5.8 Mbps                                         ISP          : 3G @MTNRwanda https://t.co/G96JriFORT',\n",
       "  '@kenessajr Location:Gikondo\\nISP:@MTNRwanda \\nSpeed:3.4Mbps(3G)\\nPackage:7G 5000fr/month irekure\\n\\n#MyInternetSpeedRW https://t.co/nlzlUDiymJ',\n",
       "  '@kenessajr Location: kabeza kumucyo\\nSpeed: 8.6Mbps\\nISP: Airtel https://t.co/Cs8HZmmG3V',\n",
       "  '@kenessajr Location: Kacyiru \\nSpeed: 2.5Mbps\\nISP: Airtel 3G https://t.co/LofGRdmEvm',\n",
       "  '@kenessajr Kacyiru\\nAirtel https://t.co/JUuNJ2bPPT',\n",
       "  '@kenessajr Kibagabaga \\nLiquid https://t.co/GcWXBfuuyg',\n",
       "  '@kenessajr Location: Kicukiro Ngoma,  \\nISP:MTN 3G\\nSpeed: 490kbps https://t.co/PhVvzsjPr8',\n",
       "  '@kenessajr Location:Rwinkwavu\\nSpeed :2.8Mbps\\nISP:Mango https://t.co/sdc7ffDY7u',\n",
       "  '@kenessajr Location: Gikondo- Nyenyeri\\nSpeed: 6.5 Mbps\\nISP: MTN\\nTime: 6:05AM https://t.co/921VBniMGb',\n",
       "  '@kenessajr Location: Gitega-Nyarugenge\\nSpeed: 80 Kbps\\nISP: MTN/4G\\nI need more clarification about this https://t.co/BsM9QhXXGr',\n",
       "  '@kenessajr Is there anyone who feel like he is being Throttled or Controled by these guys @MangoRwanda/@ktpressrwanda ????\\n\\nLocation:Biryogo\\nInternet speed:3.0 Mbps(metered) 384 Kbps(Actual Speed)\\nISP:Mango/Ktrn https://t.co/Lrn6H6111f',\n",
       "  '@kenessajr Location: Gacuriro\\nSpeed: 8.2 MPs\\nISP: MTN https://t.co/YPGF64nLDu',\n",
       "  '@kenessajr Location: Kanombe\\nSpeed : 540kbps \\nISP: MTN 3G🙄.\\nAbatuye I kanombe, what is y’all’s plug? I need help😫! https://t.co/HOu7pmo4IB',\n",
       "  '@kenessajr @kagced Kami https://t.co/gVGrTsuZqY',\n",
       "  '@kenessajr Location: Kibagabaga\\nSpeed: 3.2Mps\\nISP: Mango4G',\n",
       "  '@kenessajr Location: Remera\\nISP: @airtelrw \\nSpeed : 14 Mbps https://t.co/yX7TxX4c2Z',\n",
       "  '@kenessajr Location: Kagarama\\nISP: MTN (3G)\\nSpeed: 1.2 Mbps\\n#MyInternetSpeedRw https://t.co/NS5crQNigK',\n",
       "  '@kenessajr Location: Kiyovu\\nSpeed: 3.3 Mbps\\nISP: Mango https://t.co/XERrkaEiUF',\n",
       "  '@kenessajr Location: Kanombe\\nISP: MTN\\nNetwork:3G https://t.co/Saxdo0f67w',\n",
       "  '@kenessajr Location: Kacyiru \\nSpeed: 8.0  Mbps\\nISP: MTN https://t.co/7QecKR4HLe',\n",
       "  '@kenessajr @4Gsquare can come and correct survey about 4G Network and Locations',\n",
       "  '@kenessajr https://t.co/8AdxYkuP32',\n",
       "  '@kenessajr Nyarugunga \\nAirtel \\n5.4 kbps \\U0001f92d https://t.co/h3p7WALMDi',\n",
       "  '@kenessajr Remera\\nLiquid https://t.co/dei5jz0x0L',\n",
       "  '@kenessajr Location:Gisozi\\nSpeed: 7.5 mbps\\nISP: MTN 3G @MTNRwanda https://t.co/l67ZIwZBFz',\n",
       "  '@kenessajr Location : Gikondo kigali\\nIsp:  Airtel\\nTime:: 11:53Pm\\nRouter Alcatel . WiFi https://t.co/4difoA19iR',\n",
       "  '@kenessajr Location: Kanombe\\nSpeed: 3.4Mbps\\nISP: MTN https://t.co/tjuFZa5gWR',\n",
       "  '@kenessajr @MangoRwanda Ndi nyamirambo kuryanyuma, nkoresha 4G ya mango, bamwiye ngo 750kbps , ark mbona igenda gake pe https://t.co/RVHx8hssSL',\n",
       "  '@kenessajr Location : Kagarama \\nSpeed : 3.9\\nISP MTN 3G\\n\\nUp and down so far... https://t.co/WyuyaL6ypY',\n",
       "  '@kenessajr Kimironko\\n\\nSpeed : fast attempt 210Kbps / 2nd attempt 1.1Mbps\\n\\nISP: MTN ( 3G ) https://t.co/YiTUWr9ihx',\n",
       "  '@kenessajr Kibagabaga \\nMTN https://t.co/LE3lJEf8PD',\n",
       "  '@kenessajr Location : kimironko\\nISP : @CanalboxR https://t.co/cwwPCC32Dw',\n",
       "  '@kenessajr Location: Kimironko\\nSpeed: 3.3 Mbps\\nISP: MTN 4G https://t.co/fRT2VA7JFI',\n",
       "  \"@kenessajr @PopconnRw So far the worst\\nSpeed: 8.9 KPBS\\n\\nCan't even open Google https://t.co/sZ4kYzdj0o\",\n",
       "  '@kenessajr Speed: 5.7Mbps\\nLocation: Kicukiro Niboyi\\nProduct:MUP 1/day\\nCompany:@FastnetISP_RW https://t.co/vx2CTwYlSI',\n",
       "  '@kenessajr Location: Nyamirambo \\nSpeed: 3.0 Mbps \\nISP: Netlink https://t.co/JqxY6entDg',\n",
       "  '@kenessajr Location: Biryogo \\nISP: Airtel / 3G https://t.co/4fonHWkbEZ',\n",
       "  '@kenessajr Location: Muhima behind Ste Famille \\nISP: MTN https://t.co/kMZTCn5XmS',\n",
       "  '@kenessajr Location: Kimironko - mushimire\\nProvider : @MangoRwanda \\nSpeed: 1.5KBS🙄 https://t.co/9HVBjbdxEq',\n",
       "  '@kenessajr Location: Kimironko\\nSpeed: 3.2 Mbps \\nISP: MTN 3G https://t.co/ZmLhfaVQjx',\n",
       "  '@kenessajr Location: Kimironko\\nSpeed: 38Kbps😏\\nISP:Airtel (3G) https://t.co/3cZ3QRvD4I',\n",
       "  '@kenessajr Location: Kimisagara\\nSpeed: 3.9mbps\\nIsp: MTN (4G) https://t.co/6zyjcR9uRN',\n",
       "  '@kenessajr Location: Gisozi  ISP: MTN 3G Speed: 4.2Mbps https://t.co/ru1s5FYNoL',\n",
       "  '@kenessajr Location: Muhanga\\nSpeed: 160 Kbps\\nISP: Airtel https://t.co/DAoDRwf11e',\n",
       "  '@kenessajr Kimihurura https://t.co/C08Whu6Jpc',\n",
       "  '@kenessajr ISP: @airtelrw https://t.co/BiGRX8FsKl',\n",
       "  '@kenessajr Location: bugesera mayange\\nSpeed: 230kbps\\nISP:RTN  4G @ktRwanda https://t.co/3Pmo53EDN8',\n",
       "  '@kenessajr Location: Gacuriro\\nSpeed: 2.2 Mbps\\nISP: Mango 4G https://t.co/3pDPzIEEx0',\n",
       "  '@kenessajr Location: Kacyiru \\nNetwork: @airtelrw \\n\\nShitty ass internet https://t.co/1fkIpYvSXj',\n",
       "  '@kenessajr Location: Kimihurura \\nSpeed : 3,7 Mbps\\nISP : Airtel (3G) https://t.co/wutRv58O25',\n",
       "  '@kenessajr Location: Masaka \\nSpeed: 550 kbps\\nISP: MTN\\n\\nN.B: Shitty AF https://t.co/M0LSEuuvah',\n",
       "  '@kenessajr Location: Kimironko, Bibare \\nISP: @FastnetISP_RW \\nSpeed: 21 Mbps \\n\\nPack 4G: Monthly smartphone premium pack https://t.co/cRWrQyeblv',\n",
       "  '@kenessajr Location: Kacyiru\\nSpeed: 10 Mbps\\nISP: MTN https://t.co/E1fE2lAF0h',\n",
       "  '@kenessajr Location:Kicukiro \\nISP:MTN https://t.co/NNhSHaMggQ',\n",
       "  '@kenessajr Location: Gikondo\\nI’m using Liquid Telecom https://t.co/lVrrovk78h',\n",
       "  '@kenessajr Nyamirambo (green corner)\\n\\nAirtel (3G) https://t.co/ofs5m17cRI',\n",
       "  '@kenessajr Location: kanombe                                          ISP: Mango Telecom https://t.co/ju2jZgWSNo',\n",
       "  '@kenessajr Canal box https://t.co/Oq6mDzC7B6',\n",
       "  '@kenessajr Location: Lagos.  ISP:Airtel https://t.co/Pwk3uUmCaJ',\n",
       "  '@kenessajr Location: Gikondo\\nSpeed; 270 Kbps\\nISP: Airtel 3G\\n\\n#MyInternetSpeedRW https://t.co/FmW2eqX27B',\n",
       "  '@kenessajr Location: Kimironko \\nSpeed : 4.5Mbps\\nISP: Airtel https://t.co/HDZmtKiCj6',\n",
       "  '@kenessajr Location: Kimisagara\\nSpeed: 12 Mbps\\nISP: Airtel https://t.co/oycDOSFUHm',\n",
       "  '@kenessajr Location: Musanze City\\nSpeed: 250 Mbps\\nISP: Mango https://t.co/bHT8xdTjJE',\n",
       "  '@kenessajr Location: Kanombe - Nonko\\nSpeed: 2.8Mbps\\nISP: MTN - 4GLTE\\n\\n#MyInternetSpeedRw https://t.co/aM0CkeXv1a',\n",
       "  '@kenessajr Location: Kacyiru\\nSpeed: 1.3 Mbps\\nISP: MTN https://t.co/4k4n6dU3Ia',\n",
       "  '@kenessajr Location: Kicukiro Niboye\\nSpeed: 14 kbps\\nISP: MTN 😡 https://t.co/dJ3fgaW4aV',\n",
       "  '@kenessajr Location: Nyamirambo (Kuri 40)\\nSpeed: 170kbps\\nISP: @airtelrw  3G https://t.co/QEzEFHhGKm',\n",
       "  '@kenessajr Location: Gihara/Kamonyi\\nSpeed: 1.9 Mbps\\nISP: Airtel 3G https://t.co/t0Np1TSios',\n",
       "  '@kenessajr Location :Gacuriro\\nISP:BSC\\nSpeed:3.2 Mbps\\n#myinternetspeed https://t.co/bFXhpYLpjD',\n",
       "  '@kenessajr Kimironko\\nMTN https://t.co/YKWOX56JrY',\n",
       "  '@kenessajr Location: remera\\nSpeed:20mps\\nISP: airtel https://t.co/HA9Ti1SBXr',\n",
       "  '@kenessajr Location: Kacyiru\\n1) ISP: MTN 3G\\n     Speed: 140Kbps\\n2) ISP: Popconn\\n     Speed: 1.5Mbps https://t.co/fuDoEDcGJC',\n",
       "  '@kenessajr Location: Kacyiru\\nISP: Airtel https://t.co/7nETaCETyP',\n",
       "  '@kenessajr Location: Nyamirambo\\nSpeed: 1.4 Mbps\\nProvider: @MTNRwanda https://t.co/YLhAgRaPEr',\n",
       "  '@kenessajr @derrickshades Kimironko MTN 4G https://t.co/FU7NgHUkRB',\n",
       "  '@kenessajr Muhanga City https://t.co/oOzZ8Xa1Ta',\n",
       "  '@kenessajr Location: Kabeza\\nSpeed:130kbps 😴\\nISP:@airtelrw https://t.co/KrhMlf0q9Z',\n",
       "  '@kenessajr Location: Kanombe\\nSpeed: 1.5 Mbps\\nISP: Fastnet https://t.co/gGsWZELpyJ',\n",
       "  '@kenessajr Locatio: Muhima\\nSpeed: 7.5Mbps\\nISP: MTN mofos https://t.co/wy5frc4i3w',\n",
       "  '@kenessajr Location: Muhima\\nISP: @MangoRwanda https://t.co/TH7ShqrFQ5',\n",
       "  '@kenessajr Kicukiro , MTN of course https://t.co/xOW2WCxX3X',\n",
       "  '@kenessajr Airtel kimironko https://t.co/esty8UqikI',\n",
       "  '@kenessajr #1\\nLocation: Kibagabaga \\nSpeed: 3.6 Mbps\\nISP: @liquidtelecom (Family Entertainment Package 25 Mbps)\\n\\n#2\\nSpeed: 970 Kbps\\nISP: @MTNRwanda 3G (Monthly 30GB for 10,000 RWF) https://t.co/OEj5aeqxS8',\n",
       "  '@kenessajr ISP: MTN\\nLocation: Kicukiro https://t.co/g9WcwJgV34',\n",
       "  \"@kenessajr Location: Gisozi hejuru y'U rwibutso\\nKbps: 410:⬇️700⬆️\\nISP: MTN 4G\\n\\nIn my 🏠. https://t.co/YvTPWXXYjL\",\n",
       "  '@kenessajr Location: kicukiro\\nISP: trukonekt \\nSpeed : amase 🙄 https://t.co/pk1JJgeGC0',\n",
       "  '@kenessajr ISP: Airtel \\nSpeed: 490Kps\\nLocation: Kabeza AEE https://t.co/gmZIgppmCD',\n",
       "  '@kenessajr ISP: MTN\\nSpeed: 360Kps\\nLocation: Kabeza AEE https://t.co/WnMrkxJGBH',\n",
       "  '@kenessajr Location: Kabeza\\nISP: MTN https://t.co/PPY9RsSgKp',\n",
       "  '@kenessajr Location: Rusororo\\nProvider: Mango https://t.co/aW06OvstHG',\n",
       "  '@kenessajr Location: Huye\\nSpeed: 3.2 Mbps\\nISP: Mango Telecom https://t.co/aoIB7m2nOm',\n",
       "  '@kenessajr Location:KARURUMA \\nISP:@MTNRwanda https://t.co/rT18W1BVKc',\n",
       "  '@kenessajr Location: Kacyiru library\\nNetwork: @MangoRwanda \\nPack 4G: 30Mbps\\n\\nNeedless to say that I’m being scammed. https://t.co/X8AzfKtEJT',\n",
       "  '@kenessajr Location: Musanze\\nSpeed:  2.3 Mbps 😑\\nISP: Axiom\\nNetwork: 3G https://t.co/1JeXCgGqeN',\n",
       "  '@kenessajr Kacyiru \\n1) Airtel \\n2) MTN 🤦🏾\\u200d♀️ https://t.co/OVEbrhw7nd',\n",
       "  '@kenessajr Loc: Kibagabaga\\nSpeed: 3Mbps\\nISP: MTN (4G) https://t.co/R68NoamzF2',\n",
       "  '@kenessajr Location: Rwamagana \\nSpeed:3.5Mbps\\nIsp:Airtel https://t.co/CPMinNtyes',\n",
       "  '@kenessajr Babireba gute',\n",
       "  '@kenessajr My Internet speed is 310Kbps. How FAST is your Internet? https://t.co/yo5ncvnfdO\\nISP: Airtel',\n",
       "  '@kenessajr Location : kanombe \\nSpeed : 15Mbps\\nISP : MTN RWANDA https://t.co/aHkKIpQtbh',\n",
       "  '@kenessajr Location:Remera\\nSpeed:6.8Mbps\\nISP:Airtel https://t.co/aLyq7aAy9M',\n",
       "  '@kenessajr Location: busogo, Musanze, north\\nSpeed: 1.1 Mbps\\nISP: Airtel https://t.co/vDGitMwdaH',\n",
       "  '@kenessajr Location:Kicukiro\\nISP: @airtelrw  3G\\nBalance Now: 100626 GB https://t.co/9yVnwvkDh4',\n",
       "  '@kenessajr Location:busogo(Musanze)\\nNetwork provider: @airtelrw https://t.co/FX3rywNFUC',\n",
       "  '@kenessajr Location: Rebero\\nSpeed: 12 Mbps\\nISP: MTN https://t.co/IgVMBbUGjR',\n",
       "  \"@kenessajr Location: Kabeza \\nISP: Airtel\\n\\nneedless to say.... I'm having a shitty day 😭🤢 https://t.co/euKK2qdu9m\",\n",
       "  '@kenessajr Kibagabaga\\nMTN https://t.co/MDezMMEWV0',\n",
       "  '@kenessajr ISP:Mtn 🤦🏾\\u200d♂️\\nLocation: Kacyiru https://t.co/GKdePsqfdS',\n",
       "  '@kenessajr @MTNRwanda enough speed for only forwarded whatsapp msgs(NHS) from Aunties https://t.co/aVpkrva64k',\n",
       "  '@kenessajr Location: Kimironko\\nSpeed: 4.9 Mbps\\nISP: @airtelrw  - 3G https://t.co/dJOno8jV9L',\n",
       "  '@kenessajr ISP: ISPA\\nPackage: “2MBPS dedicated” 🙄🙄\\nLocation: Rubilizi https://t.co/OZ6hPaOpmc',\n",
       "  '@kenessajr Location : nyamirambo\\nISP :MTN https://t.co/S1CUq6E2kv',\n",
       "  '@kenessajr I’m on a monthly subscription of 3G. https://t.co/xVaVJxzc9p',\n",
       "  '@kenessajr Location: gikondo\\nSpeed :2.6 MBPS\\nISP : Mtn 3G https://t.co/7GGXiE5vYw',\n",
       "  '@kenessajr Location: Kicukiro-Niboye\\nISP: MTN (4G irekure) https://t.co/PYjuKTOMn0',\n",
       "  '@kenessajr ISP: MTN\\nLocation: nyamirambo cosmos https://t.co/hSXlW6dU8z',\n",
       "  '@kenessajr Location: Niboye\\nISP: MTN Rwanda 3G https://t.co/czCPGWpNBR',\n",
       "  '@kenessajr Location: Kacyiru\\nNetwork: Airtel https://t.co/wkm2OIaGkg',\n",
       "  '@kenessajr Location: Sonatubes \\nSpeed: 7.8 Mbps\\nISP:Airtel (3G) https://t.co/cvPgFHLGZs',\n",
       "  '@kenessajr Location: Kimironko\\nSpeed: 580 Kbps\\nISP: MTN\\n😠😠😠 https://t.co/4ePktJdzPK',\n",
       "  '@kenessajr Location: Kicukiro-Niboye\\nISP: MTN 3G https://t.co/iEbXvjZqJq',\n",
       "  '@kenessajr Location: Kicukiro-Niboye\\nISP: 3G Airtel https://t.co/zncY9YGyJ4',\n",
       "  '@kenessajr Location: Gisozi\\nSpeed: 2.5 Mbps\\nISP: Airtel',\n",
       "  '@kenessajr Location: Kicukiro-Niboye\\nSpeed: 4.1Mbps\\nISP: Airtel https://t.co/t751LsSskS',\n",
       "  '@kenessajr Location: Rusororo\\nSpeed 1.3 Mbps\\nISP: @airtelrw 3G https://t.co/aAMimZv9Rz',\n",
       "  '@kenessajr Kimironko\\nMTN 3G unlimited https://t.co/pK2CyMX9Nn',\n",
       "  '@kenessajr @onshimiye Location:Kimironko\\nISP: Mango Telecom https://t.co/SMjl6lJeSR',\n",
       "  '@kenessajr Location : Nyarutarama\\nSpeed: 13 Mbps \\nISP: Liquid Telecom \\nPackage: 25Mbps fiber unlimited https://t.co/ta2b5eE2Sj',\n",
       "  '@kenessajr Location Gishushu \\nSpeed: 2.3 Mbps\\nISP: Mango https://t.co/mnamPK7uJU',\n",
       "  '@kenessajr Location: Gasabo, Rutunga\\nSpeed:3.1 mbps\\nISP: MTN 4G Irekure(Monthly Unlimited) https://t.co/tipe438Yet',\n",
       "  '@kenessajr Location: Gisozi near Kurwibutso\\nSpeed: 240Kbps\\nISP: MTN 3G https://t.co/aFIG6SjQQR',\n",
       "  '@kenessajr Location : Kabeza\\nISP : Airtel \\n(ark iyi nishira nzajugunya simcard)\\nSpeed : 160kbps https://t.co/FljE7GsrKO',\n",
       "  '@kenessajr Location: Kimihurura/Rugando\\nSpeed: 870 kbps\\nISP: MTN https://t.co/bq8L9LqQdY',\n",
       "  '@kenessajr Location: Ruyenzi\\nSpeed: 1.4Mbps\\nISP: @MTNRwanda \\nPackage: 4G unlimited internet\\n\\n#MyInternetSpeedRW https://t.co/1kFQFBhon0',\n",
       "  '@kenessajr Location: Nyabihu District\\nSpeed:3.23; 3.60\\nISP: Mtn 3G https://t.co/c4jvlrOxjz',\n",
       "  '@kenessajr @Ninsiima250 Nyakabanda, MTN3G (screenshot) \\nNyakabanda, MANGO 4G platinum yo iri kuri 100Kbps https://t.co/xIHS0yDt6q',\n",
       "  '@kenessajr #RwOT \\nLocation : kimironko\\nSpeed : 700 kps\\nISP : Netpro 4G\\n#MyInternetSpeedRw https://t.co/i6nAn9tUsF',\n",
       "  '@kenessajr 1.4 Mbps\\nRemera\\nMTN https://t.co/frka4Fgxq4',\n",
       "  '@kenessajr @gadha Location : Kicukiro (Gikondo)\\nInternet : MTN 3G\\nBundle : 500 RWF (Weekly 800MB) https://t.co/NLzEj8i72q',\n",
       "  '@kenessajr Location: Remera\\nSpeed: 1.2Mbps\\nISP: Mango 4G https://t.co/HMeLhMyNWq',\n",
       "  '@kenessajr Location: Kagarama \\n4G \\nISP: @mtnrwanda https://t.co/NSkDb3Lkq0',\n",
       "  '@kenessajr I am using two ISP’s\\n\\nLocation: Kanombe\\n\\nISP: MTN 3G\\nSpeed: 2.7 Mbps \\n\\nISP: Airtel 3G\\nSpeed: 2.5 Mbps https://t.co/SGmjDdwNYf',\n",
       "  '@kenessajr @onshimiye Location: Kimironko\\nSpeed: 5.7 Mbps\\nISP: Truconnect 4G https://t.co/lGSGBY5nNx',\n",
       "  '@kenessajr Location: Kisimenti \\nISP: Airtel 3G https://t.co/TFrKpJJ9Jb',\n",
       "  '@kenessajr Location: Nyamirambo\\nSpeed: 2.4 Mbps\\nISP: Airtel 3G https://t.co/IAUV8V5FmW',\n",
       "  '@kenessajr Location : Bumbogo , speed: 920kbps , ISP: MTN 3G https://t.co/Up9BLf9HxK',\n",
       "  '@kenessajr Location : Nyamirambo (Baoba)\\nSpeed : 250 kbps 😏\\nISP : @MangoRwanda https://t.co/EgFGp60MhV',\n",
       "  '@kenessajr Location: Gisozi\\nSpeed: 1.3 mbps\\nISP: airtel 3G https://t.co/Wg7kTRUC4X',\n",
       "  '@kenessajr Kabeza \\nFastnet 4G\\n6k bundle https://t.co/9ROvm0Ahik',\n",
       "  '@kenessajr Nyanza https://t.co/ccOHLD1pVq',\n",
       "  '@kenessajr Location: Kagarama\\nSpeed: 7.4 Mbps\\nISP: MTN 3G https://t.co/jE03hWhFh9',\n",
       "  '@kenessajr Location: Sonatubes\\nSpeed: 1.2 Mbps\\nISP: Airtel https://t.co/1LBAxltYsl',\n",
       "  '@kenessajr location: Rubilizi\\nisp: aitell 3G https://t.co/nPCV671DKH',\n",
       "  '@kenessajr Provider: liquid\\nLocation: Kacyiru https://t.co/awou8X6yME',\n",
       "  '@kenessajr Location : Gikondo\\nSpeed: 8.1 Mbps\\nISP: MTN\\nNetwork: 3G https://t.co/0tJF6NF78y',\n",
       "  '@kenessajr Location:Rusororo\\nISP:Axiom https://t.co/ogB6WTze9Y',\n",
       "  '@kenessajr Location : Gikondo\\nSpeed: 22 Mbps \\nISP: Liquid Telecom \\nPackage: 25Mbps fiber unlimited https://t.co/Pj2AYRH6FH',\n",
       "  '@kenessajr @VictorKagarama Location: Nyamata\\nSpeed:3.3 Mbps\\nISP:MTN https://t.co/Dke7kWCyeS',\n",
       "  '@kenessajr Location : Gishushu\\nSpeed : 3.3 Mbps\\nISP : Mango https://t.co/qEH4ZEhvzn',\n",
       "  '@kenessajr Location: Kicukiro/sonatube \\nISP: @airtelrw 3G\\nPackage: 30 GB 10000 RWF/month🤦🏽\\u200d♂️ https://t.co/tKAqArvs5l',\n",
       "  '@kenessajr Location: Kak City aka Kacyiru\\nNetwork: Airtel\\nSpeed 15Mbps https://t.co/OPclutgp4J',\n",
       "  '@kenessajr Location: Kicukiro\\nSpeed: 4.5 Mbps\\nISP: Airtel 3G https://t.co/kQDxEGoWKB',\n",
       "  '@kenessajr Location now: Kimisagara\\nSpeed: 1.7 Mbps (yarivuye kuri 490kbps)\\nISP: MTN Rwanda😩 https://t.co/4lYauvccUA',\n",
       "  '@kenessajr I am at Kimironko Nyagatovu.  I am using Airtel data https://t.co/beo6JPS43H',\n",
       "  '@kenessajr ISP: TrueConnect 4G\\nLocation: Kimironko https://t.co/GhENnW2bxJ',\n",
       "  '@kenessajr Location: Kicukiro (Rebero)\\nSpeed: N/A\\nISP: MTN 3G https://t.co/UB6r98VLoJ',\n",
       "  '@kenessajr Location: Rebero\\nISP: Liquid Home https://t.co/Xo03zelU6y',\n",
       "  '@kenessajr Location: Kicukiro \\nSpeed: 3.2Mbps\\nISP: Mtn 3G https://t.co/KDYa960iWO',\n",
       "  '@kenessajr Location: Kicukiro\\nSpeed: 1.3 Mbps\\nISP: Airtel /3G\\n\\n#MyInternetSpeedRw https://t.co/V4GaUIsZOe',\n",
       "  '@kenessajr Location: Nyamirambo/ Nyakabanda     \\nISP: Mango Telecom \\nPackage: Monthly Unlimited 24000 RWF https://t.co/rLmrb1LL2q',\n",
       "  '@kenessajr Location: Ruyenzi       \\nSpeed: 120 kbps⬇️ 850 kbps⬆️\\nISP: @airtelrw 3G\\nPackage: 30 GB 10000 RWF/month https://t.co/m2EtV4rP6F',\n",
       "  '@kenessajr Location: Gisozi\\nSpeed: 15Mbps\\nISP: Airtel https://t.co/xGecwqy1tK',\n",
       "  '@kenessajr Location: Kimironko\\nSpeed: 1.6Mbps\\nISP: Airtel 3G https://t.co/BzucRFOdzw',\n",
       "  '@kenessajr Nyarugenge MTN ‘4G LTE’ https://t.co/6anGmhlqnF',\n",
       "  '@kenessajr Location: Gikondo \\nSpeed: 3.8 Mbps\\nISP: MTN Rwanda (3G) https://t.co/iblu2qFzw2',\n",
       "  '@kenessajr Location: Gatsata \\nSpeed: 1.4 Mbps\\nISP: Mango Telecom \\n\\n#MyInternetSpeedRw https://t.co/zbGGdiO1N1',\n",
       "  '@kenessajr Loc: Nyamirambo\\nSpeed: 3.7 \\nISP:MTN https://t.co/2youOT7OlB',\n",
       "  '@kenessajr Location: Kagarama\\nSpeed: 65Kbps\\nISP: Axiom\\nWireless broadband https://t.co/1XL617c9eM',\n",
       "  '@kenessajr @kagced Location: Musanze\\nISP: Airtel https://t.co/ToHorivMYe',\n",
       "  '@kenessajr Location: Kicukiro\\nSpeed:6.6 Mbps\\nISP: @airtelrw https://t.co/tGNmi1rm2R',\n",
       "  '@kenessajr Location: Kimironko \\nSpeed: 17 Mbps 😀\\nISP: MTN Rwanda https://t.co/ctsXC6AWju',\n",
       "  '@kenessajr Location: Kanombe- Nyarugunga https://t.co/LoQRcsdBs6',\n",
       "  '@kenessajr Location:Town\\nSpeed:2.8 Mbps\\nISP:MTN https://t.co/SbIUYQEXUN',\n",
       "  '@kenessajr Location: Kacyiru \\nISP: Liquid https://t.co/PWqJd6pveX',\n",
       "  '@kenessajr Location: Gikondo\\nSpeed: 3.9 Mbps (🙂)\\nISP: Tigo\\nNetwork: 3G\\n\\n#MyInternetSpeedRw https://t.co/0t1iJYMVVY',\n",
       "  '@kenessajr Location: Gisozi | Gacinjiru       \\nSpeed: 170 Kbps ⬇️ 460 Kbps ⬆️ \\nISP: @MTNRwanda 4G\\nPackage: Monthly Unlimited 6000 RWF\\n\\n#MyInternetSpeedRW #RwOT https://t.co/n7zkfRkzO7',\n",
       "  '@kenessajr Location : Gikondo\\nSpeed: 330 Kbps (☹️)\\nISP: MTN\\nNetwork: 3G\\n\\n#MyInternetSpeedRw https://t.co/9MGXKMWm4P',\n",
       "  '@kenessajr Location: Gikondo\\nSpeed:3.9 Mbps\\nISP: MTN https://t.co/bauroA4Y6q',\n",
       "  '@kenessajr Location: Rwamagana \\nSpeed: 3.5 Mbps\\nISP: MTN 3G https://t.co/hR5kaeSUsT',\n",
       "  '@kenessajr Remera\\nMTN https://t.co/dowvi8r884',\n",
       "  '@kenessajr Should add the package they are utilizing for example Airtel 3G',\n",
       "  '@kenessajr location: Nyakabanda\\nSpeed: 1.1 Mbps\\nISP: Mtn\\n\\n#MyInternetSpeedRw https://t.co/HUbhQu3z6B',\n",
       "  '@kenessajr Location : Remera\\nSpeed: 9.9 Mbps\\nISP: Airtel https://t.co/iaFa9YZ32g',\n",
       "  '@kenessajr Location: Mumena\\nSpeed: 8.5 Mbps\\nISP: Mango Telecom https://t.co/EhQJQpg07S',\n",
       "  '@kenessajr Location: Gikondo\\nSpeed: 7.2 Mbps\\niSP: MTN https://t.co/dX4OusbHOq',\n",
       "  '@kenessajr Location: Kimisagara\\nSpeed: 1.2 Mbps\\nISP: Airtel https://t.co/zL4AsiDNrw',\n",
       "  '@kenessajr Location: Gisozi\\nSpeed: 34 Mbps\\nISP: CB Net https://t.co/L5XMwmjper',\n",
       "  \"#Rwot let's do this. Share your current speed, location and your ISP on this thread.\\n\\nLocation: Kimironko\\nSpeed: 4.6 Mbps\\nISP: Airtel\\n\\n#MyInternetSpeedRw https://t.co/x9bphOEQTh\"],\n",
       " 'images': []}"
      ]
     },
     "execution_count": 26,
     "metadata": {},
     "output_type": "execute_result"
    }
   ],
   "source": [
    "replies"
   ]
  },
  {
   "cell_type": "markdown",
   "metadata": {},
   "source": [
    "Now we have 188 data points I think we can now start our analysis , In the next part we will be using pandas dataframe to store our data and make some analyisis on it ."
   ]
  },
  {
   "cell_type": "code",
   "execution_count": 17,
   "metadata": {},
   "outputs": [
    {
     "name": "stderr",
     "output_type": "stream",
     "text": [
      "/Users/es.py/.pyenv/versions/3.6.5/lib/python3.6/site-packages/pandas/compat/__init__.py:117: UserWarning: Could not import the lzma module. Your installed Python is incomplete. Attempting to use lzma compression will result in a RuntimeError.\n",
      "  warnings.warn(msg)\n"
     ]
    }
   ],
   "source": [
    "import pandas as pd\n",
    "import re\n",
    "import string"
   ]
  },
  {
   "cell_type": "code",
   "execution_count": 53,
   "metadata": {},
   "outputs": [],
   "source": [
    "data = pd.DataFrame.from_dict(replies,orient='index').transpose()"
   ]
  },
  {
   "cell_type": "code",
   "execution_count": 54,
   "metadata": {},
   "outputs": [
    {
     "data": {
      "text/html": [
       "<div>\n",
       "<style scoped>\n",
       "    .dataframe tbody tr th:only-of-type {\n",
       "        vertical-align: middle;\n",
       "    }\n",
       "\n",
       "    .dataframe tbody tr th {\n",
       "        vertical-align: top;\n",
       "    }\n",
       "\n",
       "    .dataframe thead th {\n",
       "        text-align: right;\n",
       "    }\n",
       "</style>\n",
       "<table border=\"1\" class=\"dataframe\">\n",
       "  <thead>\n",
       "    <tr style=\"text-align: right;\">\n",
       "      <th></th>\n",
       "      <th>full_text</th>\n",
       "      <th>images</th>\n",
       "    </tr>\n",
       "  </thead>\n",
       "  <tbody>\n",
       "    <tr>\n",
       "      <th>0</th>\n",
       "      <td>@kenessajr Location: Nyamirambo \\nSpeed: 4.7 m...</td>\n",
       "      <td>[http://pbs.twimg.com/media/EU1QH7iX0AAi4bN.jpg]</td>\n",
       "    </tr>\n",
       "    <tr>\n",
       "      <th>1</th>\n",
       "      <td>@kenessajr Location : Remera\\nSpeed : 2.2 Mbps...</td>\n",
       "      <td>[http://pbs.twimg.com/media/EU1FpbZWAAA8g6M.jpg]</td>\n",
       "    </tr>\n",
       "    <tr>\n",
       "      <th>2</th>\n",
       "      <td>@kenessajr Location: Kimironko\\nSpeed: 2.5 Mbp...</td>\n",
       "      <td>[http://pbs.twimg.com/media/EU1Dup5WkAAXRpk.jpg]</td>\n",
       "    </tr>\n",
       "    <tr>\n",
       "      <th>3</th>\n",
       "      <td>@kenessajr Location: Kanombe\\nSpeed: 7.9 Mbps\\...</td>\n",
       "      <td>[http://pbs.twimg.com/media/EU0pEjWXYAQsPF_.jpg]</td>\n",
       "    </tr>\n",
       "    <tr>\n",
       "      <th>4</th>\n",
       "      <td>@kenessajr Remera\\nISP:MTN(3G) https://t.co/vz...</td>\n",
       "      <td>[http://pbs.twimg.com/media/EU0KDBDWoAAeGYV.jpg]</td>\n",
       "    </tr>\n",
       "  </tbody>\n",
       "</table>\n",
       "</div>"
      ],
      "text/plain": [
       "                                           full_text  \\\n",
       "0  @kenessajr Location: Nyamirambo \\nSpeed: 4.7 m...   \n",
       "1  @kenessajr Location : Remera\\nSpeed : 2.2 Mbps...   \n",
       "2  @kenessajr Location: Kimironko\\nSpeed: 2.5 Mbp...   \n",
       "3  @kenessajr Location: Kanombe\\nSpeed: 7.9 Mbps\\...   \n",
       "4  @kenessajr Remera\\nISP:MTN(3G) https://t.co/vz...   \n",
       "\n",
       "                                             images  \n",
       "0  [http://pbs.twimg.com/media/EU1QH7iX0AAi4bN.jpg]  \n",
       "1  [http://pbs.twimg.com/media/EU1FpbZWAAA8g6M.jpg]  \n",
       "2  [http://pbs.twimg.com/media/EU1Dup5WkAAXRpk.jpg]  \n",
       "3  [http://pbs.twimg.com/media/EU0pEjWXYAQsPF_.jpg]  \n",
       "4  [http://pbs.twimg.com/media/EU0KDBDWoAAeGYV.jpg]  "
      ]
     },
     "execution_count": 54,
     "metadata": {},
     "output_type": "execute_result"
    }
   ],
   "source": [
    "data.head()"
   ]
  },
  {
   "cell_type": "code",
   "execution_count": 56,
   "metadata": {},
   "outputs": [
    {
     "name": "stdout",
     "output_type": "stream",
     "text": [
      "@kenessajr Location: Kicukiro \n",
      "Speed: 3.2Mbps\n",
      "ISP : MTN 4G https://t.co/tnSJIf9FQe\n"
     ]
    }
   ],
   "source": [
    "print(data.loc[14, :].full_text)"
   ]
  },
  {
   "cell_type": "markdown",
   "metadata": {},
   "source": [
    "We can see that most of our data have **Location**: , **Speed**: and the link to the tweets as well as **ISP**"
   ]
  },
  {
   "cell_type": "markdown",
   "metadata": {},
   "source": [
    "So let clean the tweet and return the information we need , this is where regex come into part"
   ]
  },
  {
   "cell_type": "markdown",
   "metadata": {},
   "source": [
    "Or we can use something else, but let strech our minds with regex."
   ]
  },
  {
   "cell_type": "code",
   "execution_count": 153,
   "metadata": {},
   "outputs": [],
   "source": [
    "def get_data(row):\n",
    "    \"\"\"\n",
    "    clean the data using regex and return specific fields\n",
    "    \"\"\"\n",
    "    text = row.full_text\n",
    "    location = re.search(r'\\blocation:\\s*(.*)', text, re.I)\n",
    "    location = location.groups()[0] if location else None\n",
    "    isp = re.search(r'\\bISP:\\s*(.*)', text, re.I)\n",
    "    isp = isp.groups()[0].split(' ')[:-1] if isp else None\n",
    "    speed = re.search(r'\\bspeed:\\s*(.*)', text, re.I)\n",
    "    speed = speed.groups()[0] if speed else None\n",
    "    return {\"location\" : location,\n",
    "            \"isp\" : isp,\n",
    "            \"speed\": speed,\n",
    "            \"images\": row.images,\n",
    "            \"text\": row.full_text}"
   ]
  },
  {
   "cell_type": "code",
   "execution_count": 61,
   "metadata": {
    "scrolled": true
   },
   "outputs": [],
   "source": [
    "data = data.apply(get_data, axis='columns', result_type='expand')"
   ]
  },
  {
   "cell_type": "markdown",
   "metadata": {},
   "source": [
    "Let check null values "
   ]
  },
  {
   "cell_type": "code",
   "execution_count": 62,
   "metadata": {},
   "outputs": [
    {
     "data": {
      "text/plain": [
       "False    170\n",
       "True      73\n",
       "Name: location, dtype: int64"
      ]
     },
     "execution_count": 62,
     "metadata": {},
     "output_type": "execute_result"
    }
   ],
   "source": [
    "data.location.isna().value_counts()"
   ]
  },
  {
   "cell_type": "code",
   "execution_count": 63,
   "metadata": {},
   "outputs": [
    {
     "data": {
      "text/plain": [
       "False    169\n",
       "True      74\n",
       "Name: isp, dtype: int64"
      ]
     },
     "execution_count": 63,
     "metadata": {},
     "output_type": "execute_result"
    }
   ],
   "source": [
    "data.isp.isna().value_counts()"
   ]
  },
  {
   "cell_type": "code",
   "execution_count": 64,
   "metadata": {},
   "outputs": [
    {
     "data": {
      "text/plain": [
       "False    123\n",
       "True     120\n",
       "Name: speed, dtype: int64"
      ]
     },
     "execution_count": 64,
     "metadata": {},
     "output_type": "execute_result"
    }
   ],
   "source": [
    "data.speed.isna().value_counts()"
   ]
  },
  {
   "cell_type": "markdown",
   "metadata": {},
   "source": [
    "we can see that we have a lot of missing data , like 50 for location, 50 for isp, 87 for speed, Let me continue without them"
   ]
  },
  {
   "cell_type": "markdown",
   "metadata": {},
   "source": [
    "Let me handle normal cases I will come back to the will come back to expections later."
   ]
  },
  {
   "cell_type": "markdown",
   "metadata": {},
   "source": [
    "Or will come back to cleaning later tomorow, we can call it a day"
   ]
  },
  {
   "cell_type": "code",
   "execution_count": 71,
   "metadata": {},
   "outputs": [
    {
     "data": {
      "text/html": [
       "<div>\n",
       "<style scoped>\n",
       "    .dataframe tbody tr th:only-of-type {\n",
       "        vertical-align: middle;\n",
       "    }\n",
       "\n",
       "    .dataframe tbody tr th {\n",
       "        vertical-align: top;\n",
       "    }\n",
       "\n",
       "    .dataframe thead th {\n",
       "        text-align: right;\n",
       "    }\n",
       "</style>\n",
       "<table border=\"1\" class=\"dataframe\">\n",
       "  <thead>\n",
       "    <tr style=\"text-align: right;\">\n",
       "      <th></th>\n",
       "      <th>location</th>\n",
       "      <th>isp</th>\n",
       "      <th>speed</th>\n",
       "      <th>images</th>\n",
       "    </tr>\n",
       "  </thead>\n",
       "  <tbody>\n",
       "    <tr>\n",
       "      <th>0</th>\n",
       "      <td>Nyamirambo</td>\n",
       "      <td>[Mango, telecom]</td>\n",
       "      <td>4.7 mbps</td>\n",
       "      <td>[http://pbs.twimg.com/media/EU1QH7iX0AAi4bN.jpg]</td>\n",
       "    </tr>\n",
       "    <tr>\n",
       "      <th>1</th>\n",
       "      <td>None</td>\n",
       "      <td>[@airtelrw]</td>\n",
       "      <td>None</td>\n",
       "      <td>[http://pbs.twimg.com/media/EU1FpbZWAAA8g6M.jpg]</td>\n",
       "    </tr>\n",
       "    <tr>\n",
       "      <th>2</th>\n",
       "      <td>Kimironko</td>\n",
       "      <td>[]</td>\n",
       "      <td>2.5 Mbps</td>\n",
       "      <td>[http://pbs.twimg.com/media/EU1Dup5WkAAXRpk.jpg]</td>\n",
       "    </tr>\n",
       "    <tr>\n",
       "      <th>3</th>\n",
       "      <td>Kanombe</td>\n",
       "      <td>[]</td>\n",
       "      <td>7.9 Mbps</td>\n",
       "      <td>[http://pbs.twimg.com/media/EU0pEjWXYAQsPF_.jpg]</td>\n",
       "    </tr>\n",
       "    <tr>\n",
       "      <th>4</th>\n",
       "      <td>None</td>\n",
       "      <td>[MTN(3G)]</td>\n",
       "      <td>None</td>\n",
       "      <td>[http://pbs.twimg.com/media/EU0KDBDWoAAeGYV.jpg]</td>\n",
       "    </tr>\n",
       "  </tbody>\n",
       "</table>\n",
       "</div>"
      ],
      "text/plain": [
       "      location               isp     speed  \\\n",
       "0  Nyamirambo   [Mango, telecom]  4.7 mbps   \n",
       "1         None       [@airtelrw]      None   \n",
       "2    Kimironko                []  2.5 Mbps   \n",
       "3      Kanombe                []  7.9 Mbps   \n",
       "4         None         [MTN(3G)]      None   \n",
       "\n",
       "                                             images  \n",
       "0  [http://pbs.twimg.com/media/EU1QH7iX0AAi4bN.jpg]  \n",
       "1  [http://pbs.twimg.com/media/EU1FpbZWAAA8g6M.jpg]  \n",
       "2  [http://pbs.twimg.com/media/EU1Dup5WkAAXRpk.jpg]  \n",
       "3  [http://pbs.twimg.com/media/EU0pEjWXYAQsPF_.jpg]  \n",
       "4  [http://pbs.twimg.com/media/EU0KDBDWoAAeGYV.jpg]  "
      ]
     },
     "execution_count": 71,
     "metadata": {},
     "output_type": "execute_result"
    }
   ],
   "source": [
    "data.head()"
   ]
  },
  {
   "cell_type": "code",
   "execution_count": 66,
   "metadata": {},
   "outputs": [],
   "source": [
    "data.to_csv('../data/speed_rwanda.csv',)"
   ]
  },
  {
   "cell_type": "markdown",
   "metadata": {},
   "source": [
    "#### Data Cleaning "
   ]
  },
  {
   "cell_type": "code",
   "execution_count": 68,
   "metadata": {},
   "outputs": [
    {
     "data": {
      "text/plain": [
       "False    236\n",
       "True       7\n",
       "Name: images, dtype: int64"
      ]
     },
     "execution_count": 68,
     "metadata": {},
     "output_type": "execute_result"
    }
   ],
   "source": [
    "Let go with colums by columns "
   ]
  },
  {
   "cell_type": "markdown",
   "metadata": {},
   "source": [
    "#### Location"
   ]
  },
  {
   "cell_type": "code",
   "execution_count": 74,
   "metadata": {},
   "outputs": [
    {
     "data": {
      "text/plain": [
       "False    170\n",
       "True      73\n",
       "Name: location, dtype: int64"
      ]
     },
     "execution_count": 74,
     "metadata": {},
     "output_type": "execute_result"
    }
   ],
   "source": [
    "data.location.isna().value_counts()"
   ]
  },
  {
   "cell_type": "markdown",
   "metadata": {},
   "source": [
    "As of now the location data has 73 missing values , let us not care about the missing values and treat the uniques values in the columsn"
   ]
  },
  {
   "cell_type": "code",
   "execution_count": 77,
   "metadata": {},
   "outputs": [
    {
     "data": {
      "text/plain": [
       "107"
      ]
     },
     "execution_count": 77,
     "metadata": {},
     "output_type": "execute_result"
    }
   ],
   "source": [
    "len(data.location.unique())"
   ]
  },
  {
   "cell_type": "code",
   "execution_count": 81,
   "metadata": {},
   "outputs": [
    {
     "data": {
      "text/plain": [
       "array(['Nyamirambo ', None, 'Kimironko', 'Kanombe', 'Muhanga', 'Sonatube',\n",
       "       'Karuruma', 'kiyovu ISP: MTN https://t.co/J2uVI5muur',\n",
       "       'Rubavu.                                       ISP: tnsp                                                         Network:4g https://t.co/dSTSnQ8Tg1',\n",
       "       'Kicukiro ', 'Kacyiru ', 'Busanza', 'Kacyiru', 'Ruhuha, Bugesera',\n",
       "       'kanombe', 'Kibagabaga', 'Remera', 'Nyamirambo', 'Rwamagana',\n",
       "       'Kimironko ', 'Kicukiro', 'Lower Kiyovu ', 'kicukiro ',\n",
       "       'Musanze (tetagouche) ', 'Kicukiro/ Kagarama',\n",
       "       'Nyarutarama ( next to BAHO Hospital )', 'Remera -Nyabisindu',\n",
       "       'Kicukiro Kagarama', 'Gisozi',\n",
       "       'Rwamagana District                                                     Speed    : 5.8 Mbps                                         ISP          : 3G @MTNRwanda https://t.co/G96JriFORT',\n",
       "       'Gikondo', 'kabeza kumucyo', 'Kicukiro Ngoma,  ', 'Rwinkwavu',\n",
       "       'Gikondo- Nyenyeri', 'Gitega-Nyarugenge', 'Biryogo', 'Gacuriro',\n",
       "       'Kagarama', 'Kiyovu', 'Kicukiro Niboyi', 'Biryogo ',\n",
       "       'Muhima behind Ste Famille ', 'Kimironko - mushimire',\n",
       "       'Kimisagara',\n",
       "       'Gisozi  ISP: MTN 3G Speed: 4.2Mbps https://t.co/ru1s5FYNoL',\n",
       "       'bugesera mayange', 'Kimihurura ', 'Masaka ', 'Kimironko, Bibare ',\n",
       "       'kanombe                                          ISP: Mango Telecom https://t.co/ju2jZgWSNo',\n",
       "       'Lagos.  ISP:Airtel https://t.co/Pwk3uUmCaJ', 'Musanze City',\n",
       "       'Kanombe - Nonko', 'Kicukiro Niboye', 'Nyamirambo (Kuri 40)',\n",
       "       'Gihara/Kamonyi', 'remera', 'Kabeza', 'Muhima', 'Kibagabaga ',\n",
       "       'Kicukiro https://t.co/g9WcwJgV34', \"Gisozi hejuru y'U rwibutso\",\n",
       "       'kicukiro', 'Kabeza AEE https://t.co/gmZIgppmCD',\n",
       "       'Kabeza AEE https://t.co/WnMrkxJGBH', 'Rusororo', 'Huye',\n",
       "       'KARURUMA ', 'Kacyiru library', 'Musanze', 'Rwamagana ',\n",
       "       'busogo, Musanze, north', 'busogo(Musanze)', 'Rebero', 'Kabeza ',\n",
       "       'Kacyiru https://t.co/GKdePsqfdS',\n",
       "       'Rubilizi https://t.co/OZ6hPaOpmc', 'gikondo', 'Kicukiro-Niboye',\n",
       "       'nyamirambo cosmos https://t.co/hSXlW6dU8z', 'Niboye',\n",
       "       'Sonatubes ', 'Gasabo, Rutunga', 'Gisozi near Kurwibutso',\n",
       "       'Kimihurura/Rugando', 'Ruyenzi', 'Nyabihu District', 'Kagarama ',\n",
       "       'Kisimenti ', 'Sonatubes', 'Rubilizi',\n",
       "       'Kacyiru https://t.co/awou8X6yME', 'Nyamata', 'Kicukiro/sonatube ',\n",
       "       'Kak City aka Kacyiru', 'Kimironko https://t.co/GhENnW2bxJ',\n",
       "       'Kicukiro (Rebero)', 'Nyamirambo/ Nyakabanda     ',\n",
       "       'Ruyenzi       ', 'Gikondo ', 'Gatsata ',\n",
       "       'Kanombe- Nyarugunga https://t.co/LoQRcsdBs6', 'Town',\n",
       "       'Gisozi | Gacinjiru       ', 'Nyakabanda', 'Mumena'], dtype=object)"
      ]
     },
     "execution_count": 81,
     "metadata": {},
     "output_type": "execute_result"
    }
   ],
   "source": [
    "data.location.unique()"
   ]
  },
  {
   "cell_type": "markdown",
   "metadata": {},
   "source": [
    "from what we can see in the above cell people was typing their place their living in and add more additional data about the location.\n",
    "\n",
    "We can just grap the first word they write and the do continue with it."
   ]
  },
  {
   "cell_type": "code",
   "execution_count": 82,
   "metadata": {},
   "outputs": [],
   "source": [
    "import string"
   ]
  },
  {
   "cell_type": "code",
   "execution_count": 118,
   "metadata": {},
   "outputs": [],
   "source": [
    "cleaned_location = data.location.str.replace('/', ' ').str.replace('-', ' ').str.replace('|', ' ').replace(',', ' ').str.split(' ', expand=True).loc[:, 0]"
   ]
  },
  {
   "cell_type": "code",
   "execution_count": 119,
   "metadata": {
    "scrolled": true
   },
   "outputs": [
    {
     "data": {
      "text/plain": [
       "61"
      ]
     },
     "execution_count": 119,
     "metadata": {},
     "output_type": "execute_result"
    }
   ],
   "source": [
    "len(cleaned_location.unique())"
   ]
  },
  {
   "cell_type": "markdown",
   "metadata": {},
   "source": [
    "At least we are progressing we can see that data comes from 61 uniques locations"
   ]
  },
  {
   "cell_type": "code",
   "execution_count": 120,
   "metadata": {},
   "outputs": [],
   "source": [
    "cleaned_location = cleaned_location.str.lower()"
   ]
  },
  {
   "cell_type": "markdown",
   "metadata": {},
   "source": [
    "Once we lower the text we can see the spread has reduced."
   ]
  },
  {
   "cell_type": "code",
   "execution_count": 121,
   "metadata": {},
   "outputs": [
    {
     "data": {
      "text/plain": [
       "53"
      ]
     },
     "execution_count": 121,
     "metadata": {},
     "output_type": "execute_result"
    }
   ],
   "source": [
    "len(cleaned_location.unique())"
   ]
  },
  {
   "cell_type": "markdown",
   "metadata": {},
   "source": [
    "We are at 53 differents location in Kigali"
   ]
  },
  {
   "cell_type": "code",
   "execution_count": 116,
   "metadata": {},
   "outputs": [
    {
     "data": {
      "text/plain": [
       "False    0.699588\n",
       "True     0.300412\n",
       "Name: 0, dtype: float64"
      ]
     },
     "execution_count": 116,
     "metadata": {},
     "output_type": "execute_result"
    }
   ],
   "source": [
    "cleaned_location.isna().value_counts(normalize=True)"
   ]
  },
  {
   "cell_type": "markdown",
   "metadata": {},
   "source": [
    "We can found that almost 30 % of data are missing but we will handle that later."
   ]
  },
  {
   "cell_type": "code",
   "execution_count": 123,
   "metadata": {},
   "outputs": [],
   "source": [
    "cleaned_location = cleaned_location.str.replace(',', '')"
   ]
  },
  {
   "cell_type": "code",
   "execution_count": 124,
   "metadata": {},
   "outputs": [
    {
     "data": {
      "text/plain": [
       "52"
      ]
     },
     "execution_count": 124,
     "metadata": {},
     "output_type": "execute_result"
    }
   ],
   "source": [
    "len(cleaned_location.unique())"
   ]
  },
  {
   "cell_type": "code",
   "execution_count": 126,
   "metadata": {},
   "outputs": [
    {
     "data": {
      "text/plain": [
       "kicukiro           22\n",
       "kimironko          16\n",
       "kacyiru            14\n",
       "kanombe            10\n",
       "gisozi             10\n",
       "gikondo             9\n",
       "nyamirambo          8\n",
       "remera              6\n",
       "kabeza              6\n",
       "rwamagana           4\n",
       "kagarama            4\n",
       "musanze             4\n",
       "karuruma            3\n",
       "kibagabaga          3\n",
       "kimisagara          3\n",
       "rusororo            3\n",
       "rebero              2\n",
       "ruyenzi             2\n",
       "gacuriro            2\n",
       "rubilizi            2\n",
       "kimihurura          2\n",
       "muhanga             2\n",
       "biryogo             2\n",
       "muhima              2\n",
       "kiyovu              2\n",
       "sonatubes           2\n",
       "ruhuha              1\n",
       "bugesera            1\n",
       "kisimenti           1\n",
       "kak                 1\n",
       "nyarutarama         1\n",
       "gatsata             1\n",
       "nyabihu             1\n",
       "gihara              1\n",
       "lagos.              1\n",
       "gitega              1\n",
       "busogo              1\n",
       "gasabo              1\n",
       "town                1\n",
       "niboye              1\n",
       "nyakabanda          1\n",
       "huye                1\n",
       "busogo(musanze)     1\n",
       "rubavu.             1\n",
       "mumena              1\n",
       "busanza             1\n",
       "rwinkwavu           1\n",
       "lower               1\n",
       "sonatube            1\n",
       "nyamata             1\n",
       "masaka              1\n",
       "Name: 0, dtype: int64"
      ]
     },
     "execution_count": 126,
     "metadata": {},
     "output_type": "execute_result"
    }
   ],
   "source": [
    "cleaned_location.value_counts()"
   ]
  },
  {
   "cell_type": "markdown",
   "metadata": {},
   "source": [
    "Finaaly we can view those data in an histogram to see the spread of our location."
   ]
  },
  {
   "cell_type": "code",
   "execution_count": 129,
   "metadata": {},
   "outputs": [],
   "source": [
    "import numpy as np\n",
    "import seaborn as sns\n",
    "import matplotlib.pyplot as plt\n",
    "sns.set(style=\"white\", context=\"talk\")\n",
    "rs = np.random.RandomState(8)"
   ]
  },
  {
   "cell_type": "code",
   "execution_count": 217,
   "metadata": {},
   "outputs": [
    {
     "data": {
      "image/png": "[encoded data removed]",
      "text/plain": [
       "<Figure size 1440x720 with 1 Axes>"
      ]
     },
     "metadata": {},
     "output_type": "display_data"
    }
   ],
   "source": [
    "fig, ax  = plt.subplots(1, 1, figsize=(20, 10), sharex=False)\n",
    "plt.xticks(rotation=90)\n",
    "sns.barplot(x=cleaned_location.value_counts().index, y=cleaned_location.value_counts().values, palette=\"deep\", ax=ax)\n",
    "ax.axhline(0, color=\"k\", clip_on=False)\n",
    "ax.set_ylabel(\"Count Of Population\")\n",
    "ax.set_xlabel(\"Location\")\n",
    "ax.set_title('Population Location Count')\n",
    "fig.savefig('../images/population_location.png')  "
   ]
  },
  {
   "cell_type": "markdown",
   "metadata": {},
   "source": [
    "We can conclude the analysis of the location columns here , we can come back to it later for missing values"
   ]
  },
  {
   "cell_type": "code",
   "execution_count": 140,
   "metadata": {},
   "outputs": [],
   "source": [
    "data = data.assign(location_cleaned = cleaned_location)"
   ]
  },
  {
   "cell_type": "markdown",
   "metadata": {},
   "source": [
    "#### TODO:\n",
    "But more can be done on the locations, someone who is familiar with Rwanda Location can groups locations into sector"
   ]
  },
  {
   "cell_type": "markdown",
   "metadata": {},
   "source": [
    "Let us go to the go with ISP colums"
   ]
  },
  {
   "cell_type": "markdown",
   "metadata": {},
   "source": [
    "#### 2. ISP"
   ]
  },
  {
   "cell_type": "code",
   "execution_count": 145,
   "metadata": {},
   "outputs": [
    {
     "data": {
      "text/plain": [
       "False    0.695473\n",
       "True     0.304527\n",
       "Name: isp, dtype: float64"
      ]
     },
     "execution_count": 145,
     "metadata": {},
     "output_type": "execute_result"
    }
   ],
   "source": [
    "data.isp.isna().value_counts(normalize=True)"
   ]
  },
  {
   "cell_type": "markdown",
   "metadata": {},
   "source": [
    "Again 30% of the data are missing."
   ]
  },
  {
   "cell_type": "code",
   "execution_count": 150,
   "metadata": {},
   "outputs": [
    {
     "data": {
      "text/plain": [
       "0     [Mango, telecom]\n",
       "1          [@airtelrw]\n",
       "2                   []\n",
       "3                   []\n",
       "4            [MTN(3G)]\n",
       "5              [Mango]\n",
       "6    [Axiom, Networks]\n",
       "7                 None\n",
       "8                 None\n",
       "9                [MTN]\n",
       "Name: isp, dtype: object"
      ]
     },
     "execution_count": 150,
     "metadata": {},
     "output_type": "execute_result"
    }
   ],
   "source": [
    "data.isp[:10]"
   ]
  },
  {
   "cell_type": "code",
   "execution_count": null,
   "metadata": {},
   "outputs": [],
   "source": [
    "We can se that  the data where splited."
   ]
  },
  {
   "cell_type": "code",
   "execution_count": 154,
   "metadata": {},
   "outputs": [],
   "source": [
    "isp = data.isp.apply(lambda x : \" \".join(x) if x else None)"
   ]
  },
  {
   "cell_type": "code",
   "execution_count": 155,
   "metadata": {},
   "outputs": [
    {
     "data": {
      "text/plain": [
       "array(['Mango telecom', '@airtelrw', None, 'MTN(3G)', 'Mango',\n",
       "       'Axiom Networks', 'MTN', '@FastnetISP_RW', 'MTN (4G)',\n",
       "       'tnsp                                                         Network:4g',\n",
       "       'Axiom networks', 'Axiom', 'Airtel', 'Airtel (4G)', 'Mango  (4G)',\n",
       "       'MTN 4G', 'KT Rwanda Networks', 'Fastnet', 'BK Techouse',\n",
       "       '@MTNRwanda', 'Airtel 3G', 'Mango/Ktrn', 'MTN 3G @MTNRwanda',\n",
       "       'MTN ( 3G )', 'Netlink', 'Airtel / 3G', 'MTN 3G', 'Airtel (3G)',\n",
       "       'MTN 3G Speed: 4.2Mbps', 'RTN  4G @ktRwanda', 'Mango 4G',\n",
       "       'Mango Telecom', 'MTN -', 'MTN 😡', '@airtelrw  3G', 'airtel',\n",
       "       'MTN mofos', '@MangoRwanda',\n",
       "       '@liquidtelecom (Family Entertainment Package 25', 'trukonekt',\n",
       "       '@airtelrw ', 'Mtn', '@airtelrw  - 3G', 'MTN (4G irekure)',\n",
       "       'MTN Rwanda 3G', '3G Airtel', '@airtelrw 3G', 'Liquid Telecom',\n",
       "       'MTN 4G Irekure(Monthly Unlimited)', 'Mtn 3G', '@mtnrwanda',\n",
       "       'Truconnect 4G', 'airtel 3G', 'aitell 3G', 'MTN Rwanda😩',\n",
       "       'TrueConnect', 'Liquid Home', 'MTN Rwanda (3G)', 'MTN Rwanda',\n",
       "       'Liquid', 'CB Net'], dtype=object)"
      ]
     },
     "execution_count": 155,
     "metadata": {},
     "output_type": "execute_result"
    }
   ],
   "source": [
    "isp.unique()"
   ]
  },
  {
   "cell_type": "markdown",
   "metadata": {},
   "source": [
    "From what we can see, we can:\n",
    "- remove all the @ before the provider,\n",
    "- remove 3G and 4G mention and save them\n",
    "- Some providers put others names afters and we keep only the first words like Mango, Airtle, MTN, fatsnet"
   ]
  },
  {
   "cell_type": "code",
   "execution_count": 158,
   "metadata": {},
   "outputs": [],
   "source": [
    "network_provider_regex = re.compile(r'\\b3G\\b | \\b4G\\b ', flags=re.I | re.X)"
   ]
  },
  {
   "cell_type": "code",
   "execution_count": null,
   "metadata": {},
   "outputs": [],
   "source": [
    "Removing the @ before provider."
   ]
  },
  {
   "cell_type": "code",
   "execution_count": 157,
   "metadata": {},
   "outputs": [],
   "source": [
    "isp = isp.str.replace(\"@\", '')"
   ]
  },
  {
   "cell_type": "code",
   "execution_count": 163,
   "metadata": {},
   "outputs": [],
   "source": [
    "network_type = isp.str.findall(network_provider_regex)"
   ]
  },
  {
   "cell_type": "code",
   "execution_count": 167,
   "metadata": {},
   "outputs": [],
   "source": [
    "network_type = network_type.apply(lambda x : x[0] if x else None)"
   ]
  },
  {
   "cell_type": "code",
   "execution_count": 168,
   "metadata": {},
   "outputs": [
    {
     "data": {
      "text/plain": [
       "True     0.814815\n",
       "False    0.185185\n",
       "Name: isp, dtype: float64"
      ]
     },
     "execution_count": 168,
     "metadata": {},
     "output_type": "execute_result"
    }
   ],
   "source": [
    "network_type.isna().value_counts(normalize=True)"
   ]
  },
  {
   "cell_type": "markdown",
   "metadata": {},
   "source": [
    "Only 20% of people gave their isp but we can keep them like that."
   ]
  },
  {
   "cell_type": "code",
   "execution_count": 170,
   "metadata": {},
   "outputs": [],
   "source": [
    "data = data.assign(network_type=network_type)"
   ]
  },
  {
   "cell_type": "code",
   "execution_count": 172,
   "metadata": {},
   "outputs": [
    {
     "data": {
      "text/html": [
       "<div>\n",
       "<style scoped>\n",
       "    .dataframe tbody tr th:only-of-type {\n",
       "        vertical-align: middle;\n",
       "    }\n",
       "\n",
       "    .dataframe tbody tr th {\n",
       "        vertical-align: top;\n",
       "    }\n",
       "\n",
       "    .dataframe thead th {\n",
       "        text-align: right;\n",
       "    }\n",
       "</style>\n",
       "<table border=\"1\" class=\"dataframe\">\n",
       "  <thead>\n",
       "    <tr style=\"text-align: right;\">\n",
       "      <th></th>\n",
       "      <th>location</th>\n",
       "      <th>isp</th>\n",
       "      <th>speed</th>\n",
       "      <th>images</th>\n",
       "      <th>location_cleaned</th>\n",
       "      <th>network_type</th>\n",
       "    </tr>\n",
       "  </thead>\n",
       "  <tbody>\n",
       "    <tr>\n",
       "      <th>238</th>\n",
       "      <td>Mumena</td>\n",
       "      <td>[Mango, Telecom]</td>\n",
       "      <td>8.5 Mbps</td>\n",
       "      <td>None</td>\n",
       "      <td>mumena</td>\n",
       "      <td>None</td>\n",
       "    </tr>\n",
       "    <tr>\n",
       "      <th>239</th>\n",
       "      <td>Gikondo</td>\n",
       "      <td>[MTN]</td>\n",
       "      <td>7.2 Mbps</td>\n",
       "      <td>None</td>\n",
       "      <td>gikondo</td>\n",
       "      <td>None</td>\n",
       "    </tr>\n",
       "    <tr>\n",
       "      <th>240</th>\n",
       "      <td>Kimisagara</td>\n",
       "      <td>[Airtel]</td>\n",
       "      <td>1.2 Mbps</td>\n",
       "      <td>None</td>\n",
       "      <td>kimisagara</td>\n",
       "      <td>None</td>\n",
       "    </tr>\n",
       "    <tr>\n",
       "      <th>241</th>\n",
       "      <td>Gisozi</td>\n",
       "      <td>[CB, Net]</td>\n",
       "      <td>34 Mbps</td>\n",
       "      <td>None</td>\n",
       "      <td>gisozi</td>\n",
       "      <td>None</td>\n",
       "    </tr>\n",
       "    <tr>\n",
       "      <th>242</th>\n",
       "      <td>Kimironko</td>\n",
       "      <td>[]</td>\n",
       "      <td>4.6 Mbps</td>\n",
       "      <td>None</td>\n",
       "      <td>kimironko</td>\n",
       "      <td>None</td>\n",
       "    </tr>\n",
       "  </tbody>\n",
       "</table>\n",
       "</div>"
      ],
      "text/plain": [
       "       location               isp     speed images location_cleaned  \\\n",
       "238      Mumena  [Mango, Telecom]  8.5 Mbps   None           mumena   \n",
       "239     Gikondo             [MTN]  7.2 Mbps   None          gikondo   \n",
       "240  Kimisagara          [Airtel]  1.2 Mbps   None       kimisagara   \n",
       "241      Gisozi         [CB, Net]   34 Mbps   None           gisozi   \n",
       "242   Kimironko                []  4.6 Mbps   None        kimironko   \n",
       "\n",
       "    network_type  \n",
       "238         None  \n",
       "239         None  \n",
       "240         None  \n",
       "241         None  \n",
       "242         None  "
      ]
     },
     "execution_count": 172,
     "metadata": {},
     "output_type": "execute_result"
    }
   ],
   "source": [
    "data.tail()"
   ]
  },
  {
   "cell_type": "markdown",
   "metadata": {},
   "source": [
    "let remove those mentions from the data"
   ]
  },
  {
   "cell_type": "code",
   "execution_count": 179,
   "metadata": {},
   "outputs": [],
   "source": [
    "isp = isp.str.replace(network_provider_regex, '').str.replace('/', '').str.replace('(', '').str.replace(')', '').str.replace('-', '')"
   ]
  },
  {
   "cell_type": "code",
   "execution_count": 180,
   "metadata": {},
   "outputs": [
    {
     "data": {
      "text/plain": [
       "array(['Mango telecom', 'airtelrw', None, 'MTN', 'Mango',\n",
       "       'Axiom Networks', 'FastnetISP_RW', 'MTN ',\n",
       "       'tnsp                                                         Network:',\n",
       "       'Axiom networks', 'Axiom', 'Airtel', 'Airtel ', 'Mango  ',\n",
       "       'KT Rwanda Networks', 'Fastnet', 'BK Techouse', 'MTNRwanda',\n",
       "       'MangoKtrn', 'MTN  MTNRwanda', 'MTN   ', 'Netlink', 'Airtel  ',\n",
       "       'MTN  Speed: 4.2Mbps', 'RTN   ktRwanda', 'Mango ', 'Mango Telecom',\n",
       "       'MTN 😡', 'airtelrw  ', 'airtel', 'MTN mofos', 'MangoRwanda',\n",
       "       'liquidtelecom Family Entertainment Package 25', 'trukonekt',\n",
       "       'airtelrw ', 'Mtn', 'airtelrw   ', 'MTN  irekure', 'MTN Rwanda ',\n",
       "       ' Airtel', 'Liquid Telecom', 'MTN  IrekureMonthly Unlimited',\n",
       "       'Mtn ', 'mtnrwanda', 'Truconnect ', 'airtel ', 'aitell ',\n",
       "       'MTN Rwanda😩', 'TrueConnect', 'Liquid Home', 'MTN Rwanda',\n",
       "       'Liquid', 'CB Net'], dtype=object)"
      ]
     },
     "execution_count": 180,
     "metadata": {},
     "output_type": "execute_result"
    }
   ],
   "source": [
    "isp.unique()"
   ]
  },
  {
   "cell_type": "code",
   "execution_count": 187,
   "metadata": {},
   "outputs": [],
   "source": [
    "isp = isp.str.lower().str.strip().str.split(' ', expand=True)[0]"
   ]
  },
  {
   "cell_type": "markdown",
   "metadata": {},
   "source": [
    "let remove 'rw or rwanda' suffix to the data and see whtat  we can have"
   ]
  },
  {
   "cell_type": "code",
   "execution_count": 196,
   "metadata": {
    "scrolled": true
   },
   "outputs": [],
   "source": [
    "isp = isp.str.replace('rwanda', '').str.replace('rw', '').str.replace('telecom', '').str.replace('isp_', '')"
   ]
  },
  {
   "cell_type": "code",
   "execution_count": 197,
   "metadata": {},
   "outputs": [
    {
     "data": {
      "text/plain": [
       "mtn            59\n",
       "airtel         45\n",
       "mango          16\n",
       "axiom           5\n",
       "liquid          5\n",
       "fastnet         4\n",
       "bk              1\n",
       "tnsp            1\n",
       "rtn             1\n",
       "aitell          1\n",
       "mangoktrn       1\n",
       "cb              1\n",
       "trueconnect     1\n",
       "truconnect      1\n",
       "netlink         1\n",
       "trukonekt       1\n",
       "kt              1\n",
       "Name: 0, dtype: int64"
      ]
     },
     "execution_count": 197,
     "metadata": {},
     "output_type": "execute_result"
    }
   ],
   "source": [
    "isp.value_counts()"
   ]
  },
  {
   "cell_type": "markdown",
   "metadata": {},
   "source": [
    "We can see that most of the provideers are now presents , we can now remove word that was not well typed."
   ]
  },
  {
   "cell_type": "code",
   "execution_count": 213,
   "metadata": {},
   "outputs": [],
   "source": [
    "isp = isp.replace(to_replace={'truconnect':'trueconnect', 'trueconnect':'trueconnect', 'trukonekt':'trueconnect'})\\\n",
    "    .replace(to_replace='aitell', value='airtel')\\\n",
    "    .replace(to_replace='mangoktrn', value='mango')\\\n",
    "    .replace(to_replace='cb', value='CbNet')"
   ]
  },
  {
   "cell_type": "code",
   "execution_count": 214,
   "metadata": {},
   "outputs": [
    {
     "data": {
      "text/plain": [
       "mtn            59\n",
       "airtel         46\n",
       "mango          17\n",
       "axiom           5\n",
       "liquid          5\n",
       "fastnet         4\n",
       "trueconnect     3\n",
       "netlink         1\n",
       "CbNet           1\n",
       "rtn             1\n",
       "tnsp            1\n",
       "bk              1\n",
       "kt              1\n",
       "Name: 0, dtype: int64"
      ]
     },
     "execution_count": 214,
     "metadata": {},
     "output_type": "execute_result"
    }
   ],
   "source": [
    "isp.value_counts()"
   ]
  },
  {
   "cell_type": "code",
   "execution_count": 215,
   "metadata": {},
   "outputs": [],
   "source": [
    "data = data.assign(isp_cleaned = isp)"
   ]
  },
  {
   "cell_type": "code",
   "execution_count": null,
   "metadata": {},
   "outputs": [],
   "source": [
    "fig, ax  = plt.subplots(1, 1, figsize=(20, 10), sharex=False)\n",
    "sns.barplot(x=isp.value_counts().index, y=isp.value_counts().values, palette=\"deep\", ax=ax)\n",
    "ax.axhline(0, color=\"k\", clip_on=False)\n",
    "ax.set_ylabel(\"Count Of Population\")\n",
    "ax.set_xlabel(\"Provider\")\n",
    "ax.set_title('Population per Provider')\n",
    "fig.savefig('../images/population_provider.png') "
   ]
  },
  {
   "cell_type": "markdown",
   "metadata": {},
   "source": [
    "As well as for the place , we can have missing value here, we can clean them after."
   ]
  },
  {
   "cell_type": "code",
   "execution_count": 218,
   "metadata": {},
   "outputs": [],
   "source": [
    "data.to_csv('../data/speed_rwanda.csv',)"
   ]
  },
  {
   "cell_type": "markdown",
   "metadata": {},
   "source": [
    "III. Speed"
   ]
  },
  {
   "cell_type": "markdown",
   "metadata": {},
   "source": [
    "Let see what we can do with speed data the way it comes"
   ]
  },
  {
   "cell_type": "code",
   "execution_count": 391,
   "metadata": {},
   "outputs": [],
   "source": [
    "data = pd.read_csv('../data/speed_rwanda.csv')"
   ]
  },
  {
   "cell_type": "code",
   "execution_count": 392,
   "metadata": {},
   "outputs": [
    {
     "data": {
      "text/plain": [
       "(243, 8)"
      ]
     },
     "execution_count": 392,
     "metadata": {},
     "output_type": "execute_result"
    }
   ],
   "source": [
    "data.shape"
   ]
  },
  {
   "cell_type": "markdown",
   "metadata": {},
   "source": [
    "It's obvious that speed comes to number and speed , in the format 56 Mbps or 6 kbps"
   ]
  },
  {
   "cell_type": "code",
   "execution_count": 393,
   "metadata": {},
   "outputs": [
    {
     "data": {
      "text/plain": [
       "False    0.502058\n",
       "True     0.497942\n",
       "Name: speed, dtype: float64"
      ]
     },
     "execution_count": 393,
     "metadata": {},
     "output_type": "execute_result"
    }
   ],
   "source": [
    "data.speed.isna().value_counts(normalize=True)"
   ]
  },
  {
   "cell_type": "markdown",
   "metadata": {},
   "source": [
    "Almost 50% of data have missing values. We need to find a way to get more a=infos about missing data.\n",
    "Something from the images."
   ]
  },
  {
   "cell_type": "code",
   "execution_count": 394,
   "metadata": {},
   "outputs": [
    {
     "data": {
      "text/plain": [
       "0      4.7 mbps\n",
       "1           NaN\n",
       "2      2.5 mbps\n",
       "3      7.9 mbps\n",
       "4           NaN\n",
       "         ...   \n",
       "238    8.5 mbps\n",
       "239    7.2 mbps\n",
       "240    1.2 mbps\n",
       "241     34 mbps\n",
       "242    4.6 mbps\n",
       "Name: speed, Length: 243, dtype: object"
      ]
     },
     "execution_count": 394,
     "metadata": {},
     "output_type": "execute_result"
    }
   ],
   "source": [
    "data.speed.str.lower().str.strip().str.replace('⬇', '')"
   ]
  },
  {
   "cell_type": "code",
   "execution_count": 395,
   "metadata": {},
   "outputs": [],
   "source": [
    "speed_regex = re.compile(r'\\s*kbps\\b|\\s*mbps\\b', flags=re.I | re.X)"
   ]
  },
  {
   "cell_type": "code",
   "execution_count": 396,
   "metadata": {},
   "outputs": [],
   "source": [
    "emoji_pattern = re.compile(\"[\"\n",
    "        u\"\\U0001F600-\\U0001F64F\"  # emoticons\n",
    "        u\"\\U0001F300-\\U0001F5FF\"  # symbols & pictographs\n",
    "        u\"\\U0001F680-\\U0001F6FF\"  # transport & map symbols\n",
    "        u\"\\U0001F1E0-\\U0001F1FF\"  # flags (iOS)\n",
    "                           \"]+\", flags=re.UNICODE)"
   ]
  },
  {
   "cell_type": "code",
   "execution_count": 397,
   "metadata": {},
   "outputs": [],
   "source": [
    "data.speed = data.speed.replace(emoji_pattern, '')"
   ]
  },
  {
   "cell_type": "code",
   "execution_count": 398,
   "metadata": {},
   "outputs": [
    {
     "data": {
      "text/plain": [
       "0       mbps\n",
       "1        NaN\n",
       "2       mbps\n",
       "3       mbps\n",
       "4        NaN\n",
       "       ...  \n",
       "238     mbps\n",
       "239     mbps\n",
       "240     mbps\n",
       "241     mbps\n",
       "242     mbps\n",
       "Name: speed, Length: 243, dtype: object"
      ]
     },
     "execution_count": 398,
     "metadata": {},
     "output_type": "execute_result"
    }
   ],
   "source": [
    "speed_unit = data.speed.str.lower().str.findall(speed_regex).apply(lambda x : x[0] if (isinstance(x, list) and x) else x)\n",
    "speed_unit"
   ]
  },
  {
   "cell_type": "code",
   "execution_count": 399,
   "metadata": {},
   "outputs": [
    {
     "data": {
      "text/plain": [
       "False    0.502058\n",
       "True     0.497942\n",
       "Name: speed, dtype: float64"
      ]
     },
     "execution_count": 399,
     "metadata": {},
     "output_type": "execute_result"
    }
   ],
   "source": [
    "speed_unit.isna().value_counts(normalize=True)"
   ]
  },
  {
   "cell_type": "code",
   "execution_count": null,
   "metadata": {},
   "outputs": [],
   "source": []
  },
  {
   "cell_type": "code",
   "execution_count": 400,
   "metadata": {},
   "outputs": [
    {
     "data": {
      "text/plain": [
       "(243, 8)"
      ]
     },
     "execution_count": 400,
     "metadata": {},
     "output_type": "execute_result"
    }
   ],
   "source": [
    "data.shape"
   ]
  },
  {
   "cell_type": "code",
   "execution_count": 401,
   "metadata": {},
   "outputs": [],
   "source": [
    "speed = data.speed.replace(speed_regex, '')"
   ]
  },
  {
   "cell_type": "code",
   "execution_count": 402,
   "metadata": {},
   "outputs": [
    {
     "data": {
      "text/plain": [
       "(243, 8)"
      ]
     },
     "execution_count": 402,
     "metadata": {},
     "output_type": "execute_result"
    }
   ],
   "source": [
    "data.shape"
   ]
  },
  {
   "cell_type": "markdown",
   "metadata": {},
   "source": [
    "let also get only the first float number in the digit field"
   ]
  },
  {
   "cell_type": "code",
   "execution_count": 403,
   "metadata": {},
   "outputs": [],
   "source": [
    "speed = speed.str.findall(r'[0-9]*\\.?[0-9]*.').apply(lambda x : x[0] if (isinstance(x, list) and x) else x)"
   ]
  },
  {
   "cell_type": "code",
   "execution_count": 404,
   "metadata": {},
   "outputs": [
    {
     "data": {
      "text/plain": [
       "'120'"
      ]
     },
     "execution_count": 404,
     "metadata": {},
     "output_type": "execute_result"
    }
   ],
   "source": [
    "speed[215].replace('⬇', '')"
   ]
  },
  {
   "cell_type": "markdown",
   "metadata": {},
   "source": [
    "actually we can see that that almost what what we have is cleaned ."
   ]
  },
  {
   "cell_type": "code",
   "execution_count": null,
   "metadata": {},
   "outputs": [],
   "source": []
  },
  {
   "cell_type": "code",
   "execution_count": 405,
   "metadata": {},
   "outputs": [],
   "source": [
    "data = data.assign(speed_cleaned = speed, speed_unit=speed_unit)"
   ]
  },
  {
   "cell_type": "code",
   "execution_count": 406,
   "metadata": {},
   "outputs": [
    {
     "data": {
      "text/plain": [
       "(243, 10)"
      ]
     },
     "execution_count": 406,
     "metadata": {},
     "output_type": "execute_result"
    }
   ],
   "source": [
    "data.shape"
   ]
  },
  {
   "cell_type": "code",
   "execution_count": 407,
   "metadata": {},
   "outputs": [],
   "source": [
    "data = data.assign(speed_normalize=speed_normalize)"
   ]
  },
  {
   "cell_type": "code",
   "execution_count": 408,
   "metadata": {},
   "outputs": [
    {
     "data": {
      "text/plain": [
       "0      False\n",
       "1      False\n",
       "2      False\n",
       "3      False\n",
       "4      False\n",
       "       ...  \n",
       "238    False\n",
       "239    False\n",
       "240    False\n",
       "241    False\n",
       "242    False\n",
       "Name: speed, Length: 243, dtype: bool"
      ]
     },
     "execution_count": 408,
     "metadata": {},
     "output_type": "execute_result"
    }
   ],
   "source": [
    "data.speed.str.contains('kbps').fillna(False)"
   ]
  },
  {
   "cell_type": "code",
   "execution_count": 411,
   "metadata": {},
   "outputs": [],
   "source": [
    "data.loc[215, 'speed_cleaned'] = speed[215].replace('⬇', '')"
   ]
  },
  {
   "cell_type": "code",
   "execution_count": 412,
   "metadata": {},
   "outputs": [
    {
     "data": {
      "text/html": [
       "<div>\n",
       "<style scoped>\n",
       "    .dataframe tbody tr th:only-of-type {\n",
       "        vertical-align: middle;\n",
       "    }\n",
       "\n",
       "    .dataframe tbody tr th {\n",
       "        vertical-align: top;\n",
       "    }\n",
       "\n",
       "    .dataframe thead th {\n",
       "        text-align: right;\n",
       "    }\n",
       "</style>\n",
       "<table border=\"1\" class=\"dataframe\">\n",
       "  <thead>\n",
       "    <tr style=\"text-align: right;\">\n",
       "      <th></th>\n",
       "      <th>Unnamed: 0</th>\n",
       "      <th>location</th>\n",
       "      <th>isp</th>\n",
       "      <th>speed</th>\n",
       "      <th>images</th>\n",
       "      <th>location_cleaned</th>\n",
       "      <th>network_type</th>\n",
       "      <th>isp_cleaned</th>\n",
       "      <th>speed_cleaned</th>\n",
       "      <th>speed_unit</th>\n",
       "      <th>speed_normalize</th>\n",
       "    </tr>\n",
       "  </thead>\n",
       "  <tbody>\n",
       "    <tr>\n",
       "      <th>22</th>\n",
       "      <td>22</td>\n",
       "      <td>Kibagabaga</td>\n",
       "      <td>['Airtel', '(4G)']</td>\n",
       "      <td>600 Kbps</td>\n",
       "      <td>['http://pbs.twimg.com/media/EUwvTF4WkAIdsA9.j...</td>\n",
       "      <td>kibagabaga</td>\n",
       "      <td>4G</td>\n",
       "      <td>airtel</td>\n",
       "      <td>600</td>\n",
       "      <td>kbps</td>\n",
       "      <td>600</td>\n",
       "    </tr>\n",
       "    <tr>\n",
       "      <th>27</th>\n",
       "      <td>27</td>\n",
       "      <td>Kimironko</td>\n",
       "      <td>NaN</td>\n",
       "      <td>290 Kbps</td>\n",
       "      <td>['http://pbs.twimg.com/media/EUwh8WSX0AEQBOe.j...</td>\n",
       "      <td>kimironko</td>\n",
       "      <td>NaN</td>\n",
       "      <td>NaN</td>\n",
       "      <td>290</td>\n",
       "      <td>kbps</td>\n",
       "      <td>290</td>\n",
       "    </tr>\n",
       "    <tr>\n",
       "      <th>51</th>\n",
       "      <td>51</td>\n",
       "      <td>Kicukiro Ngoma,</td>\n",
       "      <td>['MTN']</td>\n",
       "      <td>490kbps https://t.co/PhVvzsjPr8</td>\n",
       "      <td>['http://pbs.twimg.com/media/EUu5JyFWsAIJuvz.j...</td>\n",
       "      <td>kicukiro</td>\n",
       "      <td>NaN</td>\n",
       "      <td>mtn</td>\n",
       "      <td>490</td>\n",
       "      <td>kbps</td>\n",
       "      <td>490</td>\n",
       "    </tr>\n",
       "    <tr>\n",
       "      <th>54</th>\n",
       "      <td>54</td>\n",
       "      <td>Gitega-Nyarugenge</td>\n",
       "      <td>[]</td>\n",
       "      <td>80 Kbps</td>\n",
       "      <td>['http://pbs.twimg.com/media/EUulnG-WkAYiH0v.j...</td>\n",
       "      <td>gitega</td>\n",
       "      <td>NaN</td>\n",
       "      <td>NaN</td>\n",
       "      <td>80</td>\n",
       "      <td>kbps</td>\n",
       "      <td>80</td>\n",
       "    </tr>\n",
       "    <tr>\n",
       "      <th>85</th>\n",
       "      <td>85</td>\n",
       "      <td>Kimironko</td>\n",
       "      <td>['Airtel', '(3G)']</td>\n",
       "      <td>38Kbps</td>\n",
       "      <td>['http://pbs.twimg.com/media/EUslhD_WAAA27yp.j...</td>\n",
       "      <td>kimironko</td>\n",
       "      <td>3G</td>\n",
       "      <td>airtel</td>\n",
       "      <td>38</td>\n",
       "      <td>kbps</td>\n",
       "      <td>38😏</td>\n",
       "    </tr>\n",
       "    <tr>\n",
       "      <th>88</th>\n",
       "      <td>88</td>\n",
       "      <td>Muhanga</td>\n",
       "      <td>['Airtel']</td>\n",
       "      <td>160 Kbps</td>\n",
       "      <td>['http://pbs.twimg.com/media/EUsfXe_XQAMiwm1.j...</td>\n",
       "      <td>muhanga</td>\n",
       "      <td>NaN</td>\n",
       "      <td>airtel</td>\n",
       "      <td>160</td>\n",
       "      <td>kbps</td>\n",
       "      <td>160</td>\n",
       "    </tr>\n",
       "    <tr>\n",
       "      <th>91</th>\n",
       "      <td>91</td>\n",
       "      <td>bugesera mayange</td>\n",
       "      <td>['RTN', '', '4G', '@ktRwanda']</td>\n",
       "      <td>230kbps</td>\n",
       "      <td>['http://pbs.twimg.com/media/EUsbJGNWsAIinwi.j...</td>\n",
       "      <td>bugesera</td>\n",
       "      <td>4G</td>\n",
       "      <td>rtn</td>\n",
       "      <td>230</td>\n",
       "      <td>kbps</td>\n",
       "      <td>230</td>\n",
       "    </tr>\n",
       "    <tr>\n",
       "      <th>95</th>\n",
       "      <td>95</td>\n",
       "      <td>Masaka</td>\n",
       "      <td>[]</td>\n",
       "      <td>550 kbps</td>\n",
       "      <td>['http://pbs.twimg.com/media/EUsXTd2XQAArvHC.j...</td>\n",
       "      <td>masaka</td>\n",
       "      <td>NaN</td>\n",
       "      <td>NaN</td>\n",
       "      <td>550</td>\n",
       "      <td>kbps</td>\n",
       "      <td>550</td>\n",
       "    </tr>\n",
       "    <tr>\n",
       "      <th>110</th>\n",
       "      <td>110</td>\n",
       "      <td>Kicukiro Niboye</td>\n",
       "      <td>['MTN', '😡']</td>\n",
       "      <td>14 kbps</td>\n",
       "      <td>['http://pbs.twimg.com/media/EUsE4NZWoAAtcd_.j...</td>\n",
       "      <td>kicukiro</td>\n",
       "      <td>NaN</td>\n",
       "      <td>mtn</td>\n",
       "      <td>14</td>\n",
       "      <td>kbps</td>\n",
       "      <td>14</td>\n",
       "    </tr>\n",
       "    <tr>\n",
       "      <th>111</th>\n",
       "      <td>111</td>\n",
       "      <td>Nyamirambo (Kuri 40)</td>\n",
       "      <td>['@airtelrw', '', '3G']</td>\n",
       "      <td>170kbps</td>\n",
       "      <td>['http://pbs.twimg.com/media/EUsD8KPWAAEEgc_.j...</td>\n",
       "      <td>nyamirambo</td>\n",
       "      <td>3G</td>\n",
       "      <td>airtel</td>\n",
       "      <td>170</td>\n",
       "      <td>kbps</td>\n",
       "      <td>170</td>\n",
       "    </tr>\n",
       "    <tr>\n",
       "      <th>116</th>\n",
       "      <td>116</td>\n",
       "      <td>Kacyiru</td>\n",
       "      <td>['MTN']</td>\n",
       "      <td>140Kbps</td>\n",
       "      <td>['http://pbs.twimg.com/media/EUsA3FHWsAMRpyw.j...</td>\n",
       "      <td>kacyiru</td>\n",
       "      <td>NaN</td>\n",
       "      <td>mtn</td>\n",
       "      <td>140</td>\n",
       "      <td>kbps</td>\n",
       "      <td>140</td>\n",
       "    </tr>\n",
       "    <tr>\n",
       "      <th>121</th>\n",
       "      <td>121</td>\n",
       "      <td>Kabeza</td>\n",
       "      <td>['@airtelrw']</td>\n",
       "      <td>130kbps</td>\n",
       "      <td>['http://pbs.twimg.com/media/EUr9rqoWkAItXmf.j...</td>\n",
       "      <td>kabeza</td>\n",
       "      <td>NaN</td>\n",
       "      <td>airtel</td>\n",
       "      <td>130</td>\n",
       "      <td>kbps</td>\n",
       "      <td>130</td>\n",
       "    </tr>\n",
       "    <tr>\n",
       "      <th>164</th>\n",
       "      <td>164</td>\n",
       "      <td>Kimironko</td>\n",
       "      <td>[]</td>\n",
       "      <td>580 Kbps</td>\n",
       "      <td>['http://pbs.twimg.com/media/EUrhF3WU0AI-sYG.j...</td>\n",
       "      <td>kimironko</td>\n",
       "      <td>NaN</td>\n",
       "      <td>NaN</td>\n",
       "      <td>580</td>\n",
       "      <td>kbps</td>\n",
       "      <td>580</td>\n",
       "    </tr>\n",
       "    <tr>\n",
       "      <th>175</th>\n",
       "      <td>175</td>\n",
       "      <td>Gisozi near Kurwibutso</td>\n",
       "      <td>['MTN', '3G']</td>\n",
       "      <td>240Kbps</td>\n",
       "      <td>['http://pbs.twimg.com/media/EUraFI_U0AEP9Cq.j...</td>\n",
       "      <td>gisozi</td>\n",
       "      <td>3G</td>\n",
       "      <td>mtn</td>\n",
       "      <td>240</td>\n",
       "      <td>kbps</td>\n",
       "      <td>240</td>\n",
       "    </tr>\n",
       "    <tr>\n",
       "      <th>177</th>\n",
       "      <td>177</td>\n",
       "      <td>Kimihurura/Rugando</td>\n",
       "      <td>['MTN']</td>\n",
       "      <td>870 kbps</td>\n",
       "      <td>['http://pbs.twimg.com/media/EUrZmQlVAAA0eb8.j...</td>\n",
       "      <td>kimihurura</td>\n",
       "      <td>NaN</td>\n",
       "      <td>mtn</td>\n",
       "      <td>870</td>\n",
       "      <td>kbps</td>\n",
       "      <td>870</td>\n",
       "    </tr>\n",
       "    <tr>\n",
       "      <th>190</th>\n",
       "      <td>190</td>\n",
       "      <td>NaN</td>\n",
       "      <td>['MTN', '3G']</td>\n",
       "      <td>920kbps , ISP: MTN 3G https://t.co/Up9BLf9HxK</td>\n",
       "      <td>['http://pbs.twimg.com/media/EUrPH1RVAAE3U4c.j...</td>\n",
       "      <td>NaN</td>\n",
       "      <td>3G</td>\n",
       "      <td>mtn</td>\n",
       "      <td>920</td>\n",
       "      <td>kbps</td>\n",
       "      <td>920</td>\n",
       "    </tr>\n",
       "    <tr>\n",
       "      <th>215</th>\n",
       "      <td>215</td>\n",
       "      <td>Ruyenzi</td>\n",
       "      <td>['@airtelrw']</td>\n",
       "      <td>120 kbps⬇️ 850 kbps⬆️</td>\n",
       "      <td>['http://pbs.twimg.com/media/EUrFoS9UEAAsQsJ.j...</td>\n",
       "      <td>ruyenzi</td>\n",
       "      <td>NaN</td>\n",
       "      <td>airtel</td>\n",
       "      <td>120</td>\n",
       "      <td>kbps</td>\n",
       "      <td>120⬇</td>\n",
       "    </tr>\n",
       "    <tr>\n",
       "      <th>222</th>\n",
       "      <td>222</td>\n",
       "      <td>Kagarama</td>\n",
       "      <td>[]</td>\n",
       "      <td>65Kbps</td>\n",
       "      <td>['http://pbs.twimg.com/media/EUrDfprU4AAKiY7.j...</td>\n",
       "      <td>kagarama</td>\n",
       "      <td>NaN</td>\n",
       "      <td>NaN</td>\n",
       "      <td>65</td>\n",
       "      <td>kbps</td>\n",
       "      <td>65</td>\n",
       "    </tr>\n",
       "    <tr>\n",
       "      <th>230</th>\n",
       "      <td>230</td>\n",
       "      <td>Gisozi | Gacinjiru</td>\n",
       "      <td>['@MTNRwanda']</td>\n",
       "      <td>170 Kbps ⬇️ 460 Kbps ⬆️</td>\n",
       "      <td>['http://pbs.twimg.com/media/EUrASm3U8AEFC1b.j...</td>\n",
       "      <td>gisozi</td>\n",
       "      <td>NaN</td>\n",
       "      <td>mtn</td>\n",
       "      <td>170</td>\n",
       "      <td>kbps</td>\n",
       "      <td>170</td>\n",
       "    </tr>\n",
       "    <tr>\n",
       "      <th>231</th>\n",
       "      <td>231</td>\n",
       "      <td>NaN</td>\n",
       "      <td>[]</td>\n",
       "      <td>330 Kbps (☹️)</td>\n",
       "      <td>['http://pbs.twimg.com/media/EUq_kqvVAAEBxCq.p...</td>\n",
       "      <td>NaN</td>\n",
       "      <td>NaN</td>\n",
       "      <td>NaN</td>\n",
       "      <td>330</td>\n",
       "      <td>kbps</td>\n",
       "      <td>330</td>\n",
       "    </tr>\n",
       "  </tbody>\n",
       "</table>\n",
       "</div>"
      ],
      "text/plain": [
       "     Unnamed: 0                   location                             isp  \\\n",
       "22           22                 Kibagabaga              ['Airtel', '(4G)']   \n",
       "27           27                 Kimironko                              NaN   \n",
       "51           51          Kicukiro Ngoma,                           ['MTN']   \n",
       "54           54          Gitega-Nyarugenge                              []   \n",
       "85           85                  Kimironko              ['Airtel', '(3G)']   \n",
       "88           88                    Muhanga                      ['Airtel']   \n",
       "91           91           bugesera mayange  ['RTN', '', '4G', '@ktRwanda']   \n",
       "95           95                    Masaka                               []   \n",
       "110         110            Kicukiro Niboye                    ['MTN', '😡']   \n",
       "111         111       Nyamirambo (Kuri 40)         ['@airtelrw', '', '3G']   \n",
       "116         116                    Kacyiru                         ['MTN']   \n",
       "121         121                     Kabeza                   ['@airtelrw']   \n",
       "164         164                  Kimironko                              []   \n",
       "175         175     Gisozi near Kurwibutso                   ['MTN', '3G']   \n",
       "177         177         Kimihurura/Rugando                         ['MTN']   \n",
       "190         190                        NaN                   ['MTN', '3G']   \n",
       "215         215             Ruyenzi                          ['@airtelrw']   \n",
       "222         222                   Kagarama                              []   \n",
       "230         230  Gisozi | Gacinjiru                         ['@MTNRwanda']   \n",
       "231         231                        NaN                              []   \n",
       "\n",
       "                                             speed  \\\n",
       "22                                        600 Kbps   \n",
       "27                                        290 Kbps   \n",
       "51                 490kbps https://t.co/PhVvzsjPr8   \n",
       "54                                         80 Kbps   \n",
       "85                                          38Kbps   \n",
       "88                                        160 Kbps   \n",
       "91                                         230kbps   \n",
       "95                                        550 kbps   \n",
       "110                                        14 kbps   \n",
       "111                                        170kbps   \n",
       "116                                        140Kbps   \n",
       "121                                       130kbps    \n",
       "164                                       580 Kbps   \n",
       "175                                        240Kbps   \n",
       "177                                       870 kbps   \n",
       "190  920kbps , ISP: MTN 3G https://t.co/Up9BLf9HxK   \n",
       "215                          120 kbps⬇️ 850 kbps⬆️   \n",
       "222                                         65Kbps   \n",
       "230                       170 Kbps ⬇️ 460 Kbps ⬆️    \n",
       "231                                  330 Kbps (☹️)   \n",
       "\n",
       "                                                images location_cleaned  \\\n",
       "22   ['http://pbs.twimg.com/media/EUwvTF4WkAIdsA9.j...       kibagabaga   \n",
       "27   ['http://pbs.twimg.com/media/EUwh8WSX0AEQBOe.j...        kimironko   \n",
       "51   ['http://pbs.twimg.com/media/EUu5JyFWsAIJuvz.j...         kicukiro   \n",
       "54   ['http://pbs.twimg.com/media/EUulnG-WkAYiH0v.j...           gitega   \n",
       "85   ['http://pbs.twimg.com/media/EUslhD_WAAA27yp.j...        kimironko   \n",
       "88   ['http://pbs.twimg.com/media/EUsfXe_XQAMiwm1.j...          muhanga   \n",
       "91   ['http://pbs.twimg.com/media/EUsbJGNWsAIinwi.j...         bugesera   \n",
       "95   ['http://pbs.twimg.com/media/EUsXTd2XQAArvHC.j...           masaka   \n",
       "110  ['http://pbs.twimg.com/media/EUsE4NZWoAAtcd_.j...         kicukiro   \n",
       "111  ['http://pbs.twimg.com/media/EUsD8KPWAAEEgc_.j...       nyamirambo   \n",
       "116  ['http://pbs.twimg.com/media/EUsA3FHWsAMRpyw.j...          kacyiru   \n",
       "121  ['http://pbs.twimg.com/media/EUr9rqoWkAItXmf.j...           kabeza   \n",
       "164  ['http://pbs.twimg.com/media/EUrhF3WU0AI-sYG.j...        kimironko   \n",
       "175  ['http://pbs.twimg.com/media/EUraFI_U0AEP9Cq.j...           gisozi   \n",
       "177  ['http://pbs.twimg.com/media/EUrZmQlVAAA0eb8.j...       kimihurura   \n",
       "190  ['http://pbs.twimg.com/media/EUrPH1RVAAE3U4c.j...              NaN   \n",
       "215  ['http://pbs.twimg.com/media/EUrFoS9UEAAsQsJ.j...          ruyenzi   \n",
       "222  ['http://pbs.twimg.com/media/EUrDfprU4AAKiY7.j...         kagarama   \n",
       "230  ['http://pbs.twimg.com/media/EUrASm3U8AEFC1b.j...           gisozi   \n",
       "231  ['http://pbs.twimg.com/media/EUq_kqvVAAEBxCq.p...              NaN   \n",
       "\n",
       "    network_type isp_cleaned speed_cleaned speed_unit speed_normalize  \n",
       "22            4G      airtel           600       kbps             600  \n",
       "27           NaN         NaN           290       kbps             290  \n",
       "51           NaN         mtn          490        kbps            490   \n",
       "54           NaN         NaN            80       kbps              80  \n",
       "85            3G      airtel            38       kbps             38😏  \n",
       "88           NaN      airtel           160       kbps             160  \n",
       "91            4G         rtn           230       kbps             230  \n",
       "95           NaN         NaN           550       kbps             550  \n",
       "110          NaN         mtn            14       kbps              14  \n",
       "111           3G      airtel           170       kbps             170  \n",
       "116          NaN         mtn           140       kbps             140  \n",
       "121          NaN      airtel          130        kbps            130   \n",
       "164          NaN         NaN           580       kbps             580  \n",
       "175           3G         mtn           240       kbps             240  \n",
       "177          NaN         mtn           870       kbps             870  \n",
       "190           3G         mtn          920        kbps            920   \n",
       "215          NaN      airtel           120       kbps            120⬇  \n",
       "222          NaN         NaN            65       kbps              65  \n",
       "230          NaN         mtn          170        kbps            170   \n",
       "231          NaN         NaN          330        kbps            330   "
      ]
     },
     "execution_count": 412,
     "metadata": {},
     "output_type": "execute_result"
    }
   ],
   "source": [
    "data.loc[ np.logical_and(data.speed.str.lower().str.contains('kbps').fillna(False), ~data.speed.str.lower().str.contains('mbps').fillna(False))]"
   ]
  },
  {
   "cell_type": "code",
   "execution_count": 381,
   "metadata": {
    "scrolled": false
   },
   "outputs": [],
   "source": [
    "kps_index = data.loc[ np.logical_and(data.speed.str.lower().str.contains('kbps').fillna(False), ~data.speed.str.lower().str.contains('mbps').fillna(False))].index"
   ]
  },
  {
   "cell_type": "code",
   "execution_count": 438,
   "metadata": {},
   "outputs": [
    {
     "data": {
      "text/html": [
       "<div>\n",
       "<style scoped>\n",
       "    .dataframe tbody tr th:only-of-type {\n",
       "        vertical-align: middle;\n",
       "    }\n",
       "\n",
       "    .dataframe tbody tr th {\n",
       "        vertical-align: top;\n",
       "    }\n",
       "\n",
       "    .dataframe thead th {\n",
       "        text-align: right;\n",
       "    }\n",
       "</style>\n",
       "<table border=\"1\" class=\"dataframe\">\n",
       "  <thead>\n",
       "    <tr style=\"text-align: right;\">\n",
       "      <th></th>\n",
       "      <th>Unnamed: 0</th>\n",
       "      <th>location</th>\n",
       "      <th>isp</th>\n",
       "      <th>speed</th>\n",
       "      <th>images</th>\n",
       "      <th>location_cleaned</th>\n",
       "      <th>network_type</th>\n",
       "      <th>isp_cleaned</th>\n",
       "      <th>speed_cleaned</th>\n",
       "      <th>speed_unit</th>\n",
       "      <th>speed_normalize</th>\n",
       "    </tr>\n",
       "  </thead>\n",
       "  <tbody>\n",
       "    <tr>\n",
       "      <th>22</th>\n",
       "      <td>22</td>\n",
       "      <td>Kibagabaga</td>\n",
       "      <td>['Airtel', '(4G)']</td>\n",
       "      <td>600 Kbps</td>\n",
       "      <td>['http://pbs.twimg.com/media/EUwvTF4WkAIdsA9.j...</td>\n",
       "      <td>kibagabaga</td>\n",
       "      <td>4G</td>\n",
       "      <td>airtel</td>\n",
       "      <td>600</td>\n",
       "      <td>kbps</td>\n",
       "      <td>600</td>\n",
       "    </tr>\n",
       "    <tr>\n",
       "      <th>27</th>\n",
       "      <td>27</td>\n",
       "      <td>Kimironko</td>\n",
       "      <td>NaN</td>\n",
       "      <td>290 Kbps</td>\n",
       "      <td>['http://pbs.twimg.com/media/EUwh8WSX0AEQBOe.j...</td>\n",
       "      <td>kimironko</td>\n",
       "      <td>NaN</td>\n",
       "      <td>NaN</td>\n",
       "      <td>290</td>\n",
       "      <td>kbps</td>\n",
       "      <td>290</td>\n",
       "    </tr>\n",
       "    <tr>\n",
       "      <th>51</th>\n",
       "      <td>51</td>\n",
       "      <td>Kicukiro Ngoma,</td>\n",
       "      <td>['MTN']</td>\n",
       "      <td>490kbps https://t.co/PhVvzsjPr8</td>\n",
       "      <td>['http://pbs.twimg.com/media/EUu5JyFWsAIJuvz.j...</td>\n",
       "      <td>kicukiro</td>\n",
       "      <td>NaN</td>\n",
       "      <td>mtn</td>\n",
       "      <td>490</td>\n",
       "      <td>kbps</td>\n",
       "      <td>490</td>\n",
       "    </tr>\n",
       "    <tr>\n",
       "      <th>54</th>\n",
       "      <td>54</td>\n",
       "      <td>Gitega-Nyarugenge</td>\n",
       "      <td>[]</td>\n",
       "      <td>80 Kbps</td>\n",
       "      <td>['http://pbs.twimg.com/media/EUulnG-WkAYiH0v.j...</td>\n",
       "      <td>gitega</td>\n",
       "      <td>NaN</td>\n",
       "      <td>NaN</td>\n",
       "      <td>80</td>\n",
       "      <td>kbps</td>\n",
       "      <td>80</td>\n",
       "    </tr>\n",
       "    <tr>\n",
       "      <th>85</th>\n",
       "      <td>85</td>\n",
       "      <td>Kimironko</td>\n",
       "      <td>['Airtel', '(3G)']</td>\n",
       "      <td>38Kbps</td>\n",
       "      <td>['http://pbs.twimg.com/media/EUslhD_WAAA27yp.j...</td>\n",
       "      <td>kimironko</td>\n",
       "      <td>3G</td>\n",
       "      <td>airtel</td>\n",
       "      <td>38</td>\n",
       "      <td>kbps</td>\n",
       "      <td>38😏</td>\n",
       "    </tr>\n",
       "    <tr>\n",
       "      <th>88</th>\n",
       "      <td>88</td>\n",
       "      <td>Muhanga</td>\n",
       "      <td>['Airtel']</td>\n",
       "      <td>160 Kbps</td>\n",
       "      <td>['http://pbs.twimg.com/media/EUsfXe_XQAMiwm1.j...</td>\n",
       "      <td>muhanga</td>\n",
       "      <td>NaN</td>\n",
       "      <td>airtel</td>\n",
       "      <td>160</td>\n",
       "      <td>kbps</td>\n",
       "      <td>160</td>\n",
       "    </tr>\n",
       "    <tr>\n",
       "      <th>91</th>\n",
       "      <td>91</td>\n",
       "      <td>bugesera mayange</td>\n",
       "      <td>['RTN', '', '4G', '@ktRwanda']</td>\n",
       "      <td>230kbps</td>\n",
       "      <td>['http://pbs.twimg.com/media/EUsbJGNWsAIinwi.j...</td>\n",
       "      <td>bugesera</td>\n",
       "      <td>4G</td>\n",
       "      <td>rtn</td>\n",
       "      <td>230</td>\n",
       "      <td>kbps</td>\n",
       "      <td>230</td>\n",
       "    </tr>\n",
       "    <tr>\n",
       "      <th>95</th>\n",
       "      <td>95</td>\n",
       "      <td>Masaka</td>\n",
       "      <td>[]</td>\n",
       "      <td>550 kbps</td>\n",
       "      <td>['http://pbs.twimg.com/media/EUsXTd2XQAArvHC.j...</td>\n",
       "      <td>masaka</td>\n",
       "      <td>NaN</td>\n",
       "      <td>NaN</td>\n",
       "      <td>550</td>\n",
       "      <td>kbps</td>\n",
       "      <td>550</td>\n",
       "    </tr>\n",
       "    <tr>\n",
       "      <th>110</th>\n",
       "      <td>110</td>\n",
       "      <td>Kicukiro Niboye</td>\n",
       "      <td>['MTN', '😡']</td>\n",
       "      <td>14 kbps</td>\n",
       "      <td>['http://pbs.twimg.com/media/EUsE4NZWoAAtcd_.j...</td>\n",
       "      <td>kicukiro</td>\n",
       "      <td>NaN</td>\n",
       "      <td>mtn</td>\n",
       "      <td>14</td>\n",
       "      <td>kbps</td>\n",
       "      <td>14</td>\n",
       "    </tr>\n",
       "    <tr>\n",
       "      <th>111</th>\n",
       "      <td>111</td>\n",
       "      <td>Nyamirambo (Kuri 40)</td>\n",
       "      <td>['@airtelrw', '', '3G']</td>\n",
       "      <td>170kbps</td>\n",
       "      <td>['http://pbs.twimg.com/media/EUsD8KPWAAEEgc_.j...</td>\n",
       "      <td>nyamirambo</td>\n",
       "      <td>3G</td>\n",
       "      <td>airtel</td>\n",
       "      <td>170</td>\n",
       "      <td>kbps</td>\n",
       "      <td>170</td>\n",
       "    </tr>\n",
       "    <tr>\n",
       "      <th>116</th>\n",
       "      <td>116</td>\n",
       "      <td>Kacyiru</td>\n",
       "      <td>['MTN']</td>\n",
       "      <td>140Kbps</td>\n",
       "      <td>['http://pbs.twimg.com/media/EUsA3FHWsAMRpyw.j...</td>\n",
       "      <td>kacyiru</td>\n",
       "      <td>NaN</td>\n",
       "      <td>mtn</td>\n",
       "      <td>140</td>\n",
       "      <td>kbps</td>\n",
       "      <td>140</td>\n",
       "    </tr>\n",
       "    <tr>\n",
       "      <th>121</th>\n",
       "      <td>121</td>\n",
       "      <td>Kabeza</td>\n",
       "      <td>['@airtelrw']</td>\n",
       "      <td>130kbps</td>\n",
       "      <td>['http://pbs.twimg.com/media/EUr9rqoWkAItXmf.j...</td>\n",
       "      <td>kabeza</td>\n",
       "      <td>NaN</td>\n",
       "      <td>airtel</td>\n",
       "      <td>130</td>\n",
       "      <td>kbps</td>\n",
       "      <td>130</td>\n",
       "    </tr>\n",
       "    <tr>\n",
       "      <th>164</th>\n",
       "      <td>164</td>\n",
       "      <td>Kimironko</td>\n",
       "      <td>[]</td>\n",
       "      <td>580 Kbps</td>\n",
       "      <td>['http://pbs.twimg.com/media/EUrhF3WU0AI-sYG.j...</td>\n",
       "      <td>kimironko</td>\n",
       "      <td>NaN</td>\n",
       "      <td>NaN</td>\n",
       "      <td>580</td>\n",
       "      <td>kbps</td>\n",
       "      <td>580</td>\n",
       "    </tr>\n",
       "    <tr>\n",
       "      <th>175</th>\n",
       "      <td>175</td>\n",
       "      <td>Gisozi near Kurwibutso</td>\n",
       "      <td>['MTN', '3G']</td>\n",
       "      <td>240Kbps</td>\n",
       "      <td>['http://pbs.twimg.com/media/EUraFI_U0AEP9Cq.j...</td>\n",
       "      <td>gisozi</td>\n",
       "      <td>3G</td>\n",
       "      <td>mtn</td>\n",
       "      <td>240</td>\n",
       "      <td>kbps</td>\n",
       "      <td>240</td>\n",
       "    </tr>\n",
       "    <tr>\n",
       "      <th>177</th>\n",
       "      <td>177</td>\n",
       "      <td>Kimihurura/Rugando</td>\n",
       "      <td>['MTN']</td>\n",
       "      <td>870 kbps</td>\n",
       "      <td>['http://pbs.twimg.com/media/EUrZmQlVAAA0eb8.j...</td>\n",
       "      <td>kimihurura</td>\n",
       "      <td>NaN</td>\n",
       "      <td>mtn</td>\n",
       "      <td>870</td>\n",
       "      <td>kbps</td>\n",
       "      <td>870</td>\n",
       "    </tr>\n",
       "    <tr>\n",
       "      <th>190</th>\n",
       "      <td>190</td>\n",
       "      <td>NaN</td>\n",
       "      <td>['MTN', '3G']</td>\n",
       "      <td>920kbps , ISP: MTN 3G https://t.co/Up9BLf9HxK</td>\n",
       "      <td>['http://pbs.twimg.com/media/EUrPH1RVAAE3U4c.j...</td>\n",
       "      <td>NaN</td>\n",
       "      <td>3G</td>\n",
       "      <td>mtn</td>\n",
       "      <td>920</td>\n",
       "      <td>kbps</td>\n",
       "      <td>920</td>\n",
       "    </tr>\n",
       "    <tr>\n",
       "      <th>215</th>\n",
       "      <td>215</td>\n",
       "      <td>Ruyenzi</td>\n",
       "      <td>['@airtelrw']</td>\n",
       "      <td>120 kbps⬇️ 850 kbps⬆️</td>\n",
       "      <td>['http://pbs.twimg.com/media/EUrFoS9UEAAsQsJ.j...</td>\n",
       "      <td>ruyenzi</td>\n",
       "      <td>NaN</td>\n",
       "      <td>airtel</td>\n",
       "      <td>120</td>\n",
       "      <td>kbps</td>\n",
       "      <td>120⬇</td>\n",
       "    </tr>\n",
       "    <tr>\n",
       "      <th>222</th>\n",
       "      <td>222</td>\n",
       "      <td>Kagarama</td>\n",
       "      <td>[]</td>\n",
       "      <td>65Kbps</td>\n",
       "      <td>['http://pbs.twimg.com/media/EUrDfprU4AAKiY7.j...</td>\n",
       "      <td>kagarama</td>\n",
       "      <td>NaN</td>\n",
       "      <td>NaN</td>\n",
       "      <td>65</td>\n",
       "      <td>kbps</td>\n",
       "      <td>65</td>\n",
       "    </tr>\n",
       "    <tr>\n",
       "      <th>230</th>\n",
       "      <td>230</td>\n",
       "      <td>Gisozi | Gacinjiru</td>\n",
       "      <td>['@MTNRwanda']</td>\n",
       "      <td>170 Kbps ⬇️ 460 Kbps ⬆️</td>\n",
       "      <td>['http://pbs.twimg.com/media/EUrASm3U8AEFC1b.j...</td>\n",
       "      <td>gisozi</td>\n",
       "      <td>NaN</td>\n",
       "      <td>mtn</td>\n",
       "      <td>170</td>\n",
       "      <td>kbps</td>\n",
       "      <td>170</td>\n",
       "    </tr>\n",
       "    <tr>\n",
       "      <th>231</th>\n",
       "      <td>231</td>\n",
       "      <td>NaN</td>\n",
       "      <td>[]</td>\n",
       "      <td>330 Kbps (☹️)</td>\n",
       "      <td>['http://pbs.twimg.com/media/EUq_kqvVAAEBxCq.p...</td>\n",
       "      <td>NaN</td>\n",
       "      <td>NaN</td>\n",
       "      <td>NaN</td>\n",
       "      <td>330</td>\n",
       "      <td>kbps</td>\n",
       "      <td>330</td>\n",
       "    </tr>\n",
       "  </tbody>\n",
       "</table>\n",
       "</div>"
      ],
      "text/plain": [
       "     Unnamed: 0                   location                             isp  \\\n",
       "22           22                 Kibagabaga              ['Airtel', '(4G)']   \n",
       "27           27                 Kimironko                              NaN   \n",
       "51           51          Kicukiro Ngoma,                           ['MTN']   \n",
       "54           54          Gitega-Nyarugenge                              []   \n",
       "85           85                  Kimironko              ['Airtel', '(3G)']   \n",
       "88           88                    Muhanga                      ['Airtel']   \n",
       "91           91           bugesera mayange  ['RTN', '', '4G', '@ktRwanda']   \n",
       "95           95                    Masaka                               []   \n",
       "110         110            Kicukiro Niboye                    ['MTN', '😡']   \n",
       "111         111       Nyamirambo (Kuri 40)         ['@airtelrw', '', '3G']   \n",
       "116         116                    Kacyiru                         ['MTN']   \n",
       "121         121                     Kabeza                   ['@airtelrw']   \n",
       "164         164                  Kimironko                              []   \n",
       "175         175     Gisozi near Kurwibutso                   ['MTN', '3G']   \n",
       "177         177         Kimihurura/Rugando                         ['MTN']   \n",
       "190         190                        NaN                   ['MTN', '3G']   \n",
       "215         215             Ruyenzi                          ['@airtelrw']   \n",
       "222         222                   Kagarama                              []   \n",
       "230         230  Gisozi | Gacinjiru                         ['@MTNRwanda']   \n",
       "231         231                        NaN                              []   \n",
       "\n",
       "                                             speed  \\\n",
       "22                                        600 Kbps   \n",
       "27                                        290 Kbps   \n",
       "51                 490kbps https://t.co/PhVvzsjPr8   \n",
       "54                                         80 Kbps   \n",
       "85                                          38Kbps   \n",
       "88                                        160 Kbps   \n",
       "91                                         230kbps   \n",
       "95                                        550 kbps   \n",
       "110                                        14 kbps   \n",
       "111                                        170kbps   \n",
       "116                                        140Kbps   \n",
       "121                                       130kbps    \n",
       "164                                       580 Kbps   \n",
       "175                                        240Kbps   \n",
       "177                                       870 kbps   \n",
       "190  920kbps , ISP: MTN 3G https://t.co/Up9BLf9HxK   \n",
       "215                          120 kbps⬇️ 850 kbps⬆️   \n",
       "222                                         65Kbps   \n",
       "230                       170 Kbps ⬇️ 460 Kbps ⬆️    \n",
       "231                                  330 Kbps (☹️)   \n",
       "\n",
       "                                                images location_cleaned  \\\n",
       "22   ['http://pbs.twimg.com/media/EUwvTF4WkAIdsA9.j...       kibagabaga   \n",
       "27   ['http://pbs.twimg.com/media/EUwh8WSX0AEQBOe.j...        kimironko   \n",
       "51   ['http://pbs.twimg.com/media/EUu5JyFWsAIJuvz.j...         kicukiro   \n",
       "54   ['http://pbs.twimg.com/media/EUulnG-WkAYiH0v.j...           gitega   \n",
       "85   ['http://pbs.twimg.com/media/EUslhD_WAAA27yp.j...        kimironko   \n",
       "88   ['http://pbs.twimg.com/media/EUsfXe_XQAMiwm1.j...          muhanga   \n",
       "91   ['http://pbs.twimg.com/media/EUsbJGNWsAIinwi.j...         bugesera   \n",
       "95   ['http://pbs.twimg.com/media/EUsXTd2XQAArvHC.j...           masaka   \n",
       "110  ['http://pbs.twimg.com/media/EUsE4NZWoAAtcd_.j...         kicukiro   \n",
       "111  ['http://pbs.twimg.com/media/EUsD8KPWAAEEgc_.j...       nyamirambo   \n",
       "116  ['http://pbs.twimg.com/media/EUsA3FHWsAMRpyw.j...          kacyiru   \n",
       "121  ['http://pbs.twimg.com/media/EUr9rqoWkAItXmf.j...           kabeza   \n",
       "164  ['http://pbs.twimg.com/media/EUrhF3WU0AI-sYG.j...        kimironko   \n",
       "175  ['http://pbs.twimg.com/media/EUraFI_U0AEP9Cq.j...           gisozi   \n",
       "177  ['http://pbs.twimg.com/media/EUrZmQlVAAA0eb8.j...       kimihurura   \n",
       "190  ['http://pbs.twimg.com/media/EUrPH1RVAAE3U4c.j...              NaN   \n",
       "215  ['http://pbs.twimg.com/media/EUrFoS9UEAAsQsJ.j...          ruyenzi   \n",
       "222  ['http://pbs.twimg.com/media/EUrDfprU4AAKiY7.j...         kagarama   \n",
       "230  ['http://pbs.twimg.com/media/EUrASm3U8AEFC1b.j...           gisozi   \n",
       "231  ['http://pbs.twimg.com/media/EUq_kqvVAAEBxCq.p...              NaN   \n",
       "\n",
       "    network_type isp_cleaned speed_cleaned speed_unit speed_normalize  \n",
       "22            4G      airtel           600       kbps             600  \n",
       "27           NaN         NaN           290       kbps             290  \n",
       "51           NaN         mtn          490        kbps            490   \n",
       "54           NaN         NaN            80       kbps              80  \n",
       "85            3G      airtel            38       kbps             38😏  \n",
       "88           NaN      airtel           160       kbps             160  \n",
       "91            4G         rtn           230       kbps             230  \n",
       "95           NaN         NaN           550       kbps             550  \n",
       "110          NaN         mtn            14       kbps              14  \n",
       "111           3G      airtel           170       kbps             170  \n",
       "116          NaN         mtn           140       kbps             140  \n",
       "121          NaN      airtel          130        kbps            130   \n",
       "164          NaN         NaN           580       kbps             580  \n",
       "175           3G         mtn           240       kbps             240  \n",
       "177          NaN         mtn           870       kbps             870  \n",
       "190           3G         mtn          920        kbps            920   \n",
       "215          NaN      airtel           120       kbps            120⬇  \n",
       "222          NaN         NaN            65       kbps              65  \n",
       "230          NaN         mtn          170        kbps            170   \n",
       "231          NaN         NaN          330        kbps            330   "
      ]
     },
     "execution_count": 438,
     "metadata": {},
     "output_type": "execute_result"
    }
   ],
   "source": [
    "data.loc[ np.logical_and(data.speed.str.lower().str.contains('kbps').fillna(False), ~data.speed.str.lower().str.contains('mbps').fillna(False))]"
   ]
  },
  {
   "cell_type": "code",
   "execution_count": null,
   "metadata": {},
   "outputs": [],
   "source": [
    "np.logical_and(data.speed.str.lower().str.contains('kbps').fillna(False), ~data.speed.str.lower().str.contains('mbps')"
   ]
  },
  {
   "cell_type": "code",
   "execution_count": 435,
   "metadata": {},
   "outputs": [],
   "source": [
    "def convert_kps_in_mps(row):\n",
    "    print(row.speed)\n",
    "    if 'kbps' in str(row.speed) and 'mbps' not in str(row.speed) and row.speed:\n",
    "        return float(row.speed_cleaned)/1000\n",
    "    else:\n",
    "        return row.speed_cleaned"
   ]
  },
  {
   "cell_type": "code",
   "execution_count": 437,
   "metadata": {},
   "outputs": [
    {
     "data": {
      "text/html": [
       "<div>\n",
       "<style scoped>\n",
       "    .dataframe tbody tr th:only-of-type {\n",
       "        vertical-align: middle;\n",
       "    }\n",
       "\n",
       "    .dataframe tbody tr th {\n",
       "        vertical-align: top;\n",
       "    }\n",
       "\n",
       "    .dataframe thead th {\n",
       "        text-align: right;\n",
       "    }\n",
       "</style>\n",
       "<table border=\"1\" class=\"dataframe\">\n",
       "  <thead>\n",
       "    <tr style=\"text-align: right;\">\n",
       "      <th></th>\n",
       "      <th>Unnamed: 0</th>\n",
       "      <th>location</th>\n",
       "      <th>isp</th>\n",
       "      <th>speed</th>\n",
       "      <th>images</th>\n",
       "      <th>location_cleaned</th>\n",
       "      <th>network_type</th>\n",
       "      <th>isp_cleaned</th>\n",
       "      <th>speed_cleaned</th>\n",
       "      <th>speed_unit</th>\n",
       "      <th>speed_normalize</th>\n",
       "    </tr>\n",
       "  </thead>\n",
       "  <tbody>\n",
       "    <tr>\n",
       "      <th>0</th>\n",
       "      <td>0</td>\n",
       "      <td>Nyamirambo</td>\n",
       "      <td>['Mango', 'telecom']</td>\n",
       "      <td>4.7 mbps</td>\n",
       "      <td>['http://pbs.twimg.com/media/EU1QH7iX0AAi4bN.j...</td>\n",
       "      <td>nyamirambo</td>\n",
       "      <td>NaN</td>\n",
       "      <td>mango</td>\n",
       "      <td>4.7</td>\n",
       "      <td>mbps</td>\n",
       "      <td>4.7</td>\n",
       "    </tr>\n",
       "    <tr>\n",
       "      <th>1</th>\n",
       "      <td>1</td>\n",
       "      <td>NaN</td>\n",
       "      <td>['@airtelrw']</td>\n",
       "      <td>NaN</td>\n",
       "      <td>['http://pbs.twimg.com/media/EU1FpbZWAAA8g6M.j...</td>\n",
       "      <td>NaN</td>\n",
       "      <td>NaN</td>\n",
       "      <td>airtel</td>\n",
       "      <td>NaN</td>\n",
       "      <td>NaN</td>\n",
       "      <td>NaN</td>\n",
       "    </tr>\n",
       "    <tr>\n",
       "      <th>2</th>\n",
       "      <td>2</td>\n",
       "      <td>Kimironko</td>\n",
       "      <td>[]</td>\n",
       "      <td>2.5 Mbps</td>\n",
       "      <td>['http://pbs.twimg.com/media/EU1Dup5WkAAXRpk.j...</td>\n",
       "      <td>kimironko</td>\n",
       "      <td>NaN</td>\n",
       "      <td>NaN</td>\n",
       "      <td>2.5</td>\n",
       "      <td>mbps</td>\n",
       "      <td>2.5</td>\n",
       "    </tr>\n",
       "    <tr>\n",
       "      <th>3</th>\n",
       "      <td>3</td>\n",
       "      <td>Kanombe</td>\n",
       "      <td>[]</td>\n",
       "      <td>7.9 Mbps</td>\n",
       "      <td>['http://pbs.twimg.com/media/EU0pEjWXYAQsPF_.j...</td>\n",
       "      <td>kanombe</td>\n",
       "      <td>NaN</td>\n",
       "      <td>NaN</td>\n",
       "      <td>7.9</td>\n",
       "      <td>mbps</td>\n",
       "      <td>7.9</td>\n",
       "    </tr>\n",
       "    <tr>\n",
       "      <th>4</th>\n",
       "      <td>4</td>\n",
       "      <td>NaN</td>\n",
       "      <td>['MTN(3G)']</td>\n",
       "      <td>NaN</td>\n",
       "      <td>['http://pbs.twimg.com/media/EU0KDBDWoAAeGYV.j...</td>\n",
       "      <td>NaN</td>\n",
       "      <td>3G</td>\n",
       "      <td>mtn</td>\n",
       "      <td>NaN</td>\n",
       "      <td>NaN</td>\n",
       "      <td>NaN</td>\n",
       "    </tr>\n",
       "  </tbody>\n",
       "</table>\n",
       "</div>"
      ],
      "text/plain": [
       "   Unnamed: 0     location                   isp     speed  \\\n",
       "0           0  Nyamirambo   ['Mango', 'telecom']  4.7 mbps   \n",
       "1           1          NaN         ['@airtelrw']       NaN   \n",
       "2           2    Kimironko                    []  2.5 Mbps   \n",
       "3           3      Kanombe                    []  7.9 Mbps   \n",
       "4           4          NaN           ['MTN(3G)']       NaN   \n",
       "\n",
       "                                              images location_cleaned  \\\n",
       "0  ['http://pbs.twimg.com/media/EU1QH7iX0AAi4bN.j...       nyamirambo   \n",
       "1  ['http://pbs.twimg.com/media/EU1FpbZWAAA8g6M.j...              NaN   \n",
       "2  ['http://pbs.twimg.com/media/EU1Dup5WkAAXRpk.j...        kimironko   \n",
       "3  ['http://pbs.twimg.com/media/EU0pEjWXYAQsPF_.j...          kanombe   \n",
       "4  ['http://pbs.twimg.com/media/EU0KDBDWoAAeGYV.j...              NaN   \n",
       "\n",
       "  network_type isp_cleaned speed_cleaned speed_unit speed_normalize  \n",
       "0          NaN       mango           4.7       mbps             4.7  \n",
       "1          NaN      airtel           NaN        NaN             NaN  \n",
       "2          NaN         NaN           2.5       mbps             2.5  \n",
       "3          NaN         NaN           7.9       mbps             7.9  \n",
       "4           3G         mtn           NaN        NaN             NaN  "
      ]
     },
     "execution_count": 437,
     "metadata": {},
     "output_type": "execute_result"
    }
   ],
   "source": [
    "data.head()"
   ]
  },
  {
   "cell_type": "code",
   "execution_count": 436,
   "metadata": {
    "scrolled": true
   },
   "outputs": [
    {
     "name": "stdout",
     "output_type": "stream",
     "text": [
      "4.7 mbps\n",
      "nan\n",
      "2.5 Mbps\n",
      "7.9 Mbps\n",
      "nan\n",
      "nan\n",
      "nan\n",
      "3 Mbps\n",
      "nan\n",
      "1.2 Mbps \n",
      "nan\n",
      "nan\n",
      "nan\n",
      "nan\n",
      "3.2Mbps\n",
      "nan\n",
      "41 Mbps\n",
      "9.3 Mbps\n",
      "nan\n",
      "nan\n",
      "nan\n",
      "nan\n",
      "600 Kbps\n",
      "nan\n",
      "160 Mbps\n",
      "1.1Mbps\n",
      "nan\n",
      "290 Kbps\n",
      "nan\n",
      "4.4 Mbps\n",
      "nan\n",
      "nan\n",
      "4.3Mbps\n",
      "2.8Mbps\n",
      "nan\n",
      "nan\n",
      "nan\n",
      "nan\n",
      "11Mbps\n",
      "2.9 mbps\n",
      "nan\n",
      "12, 13 Mbps https://t.co/STGNtSyAQS\n",
      "3.3Mbps\n",
      "nan\n",
      "4.9 Mbps\n",
      "nan\n",
      "3.4Mbps(3G)\n",
      "8.6Mbps\n",
      "2.5Mbps\n",
      "nan\n",
      "nan\n",
      "490kbps https://t.co/PhVvzsjPr8\n",
      "nan\n",
      "6.5 Mbps\n",
      "80 Kbps\n",
      "3.0 Mbps(metered) 384 Kbps(Actual Speed)\n",
      "8.2 MPs\n",
      "nan\n",
      "nan\n",
      "3.2Mps\n",
      "nan\n",
      "1.2 Mbps\n",
      "3.3 Mbps\n",
      "nan\n",
      "8.0  Mbps\n",
      "nan\n",
      "nan\n",
      "nan\n",
      "nan\n",
      "7.5 mbps\n",
      "nan\n",
      "3.4Mbps\n",
      "nan\n",
      "nan\n",
      "nan\n",
      "nan\n",
      "nan\n",
      "3.3 Mbps\n",
      "8.9 KPBS\n",
      "5.7Mbps\n",
      "3.0 Mbps \n",
      "nan\n",
      "nan\n",
      "1.5KBS https://t.co/9HVBjbdxEq\n",
      "3.2 Mbps \n",
      "38Kbps\n",
      "3.9mbps\n",
      "4.2Mbps https://t.co/ru1s5FYNoL\n",
      "160 Kbps\n",
      "nan\n",
      "nan\n",
      "230kbps\n",
      "2.2 Mbps\n",
      "nan\n",
      "nan\n",
      "550 kbps\n",
      "21 Mbps \n",
      "10 Mbps\n",
      "nan\n",
      "nan\n",
      "nan\n",
      "nan\n",
      "nan\n",
      "nan\n",
      "nan\n",
      "nan\n",
      "12 Mbps\n",
      "250 Mbps\n",
      "2.8Mbps\n",
      "1.3 Mbps\n",
      "14 kbps\n",
      "170kbps\n",
      "1.9 Mbps\n",
      "3.2 Mbps\n",
      "nan\n",
      "20mps\n",
      "140Kbps\n",
      "nan\n",
      "1.4 Mbps\n",
      "nan\n",
      "nan\n",
      "130kbps \n",
      "1.5 Mbps\n",
      "7.5Mbps\n",
      "nan\n",
      "nan\n",
      "nan\n",
      "3.6 Mbps\n",
      "nan\n",
      "nan\n",
      "nan\n",
      "490Kps\n",
      "360Kps\n",
      "nan\n",
      "nan\n",
      "3.2 Mbps\n",
      "nan\n",
      "nan\n",
      "2.3 Mbps \n",
      "nan\n",
      "3Mbps\n",
      "3.5Mbps\n",
      "nan\n",
      "nan\n",
      "nan\n",
      "6.8Mbps\n",
      "1.1 Mbps\n",
      "nan\n",
      "nan\n",
      "12 Mbps\n",
      "nan\n",
      "nan\n",
      "nan\n",
      "nan\n",
      "4.9 Mbps\n",
      "nan\n",
      "nan\n",
      "nan\n",
      "nan\n",
      "nan\n",
      "nan\n",
      "nan\n",
      "nan\n",
      "7.8 Mbps\n",
      "580 Kbps\n",
      "nan\n",
      "nan\n",
      "2.5 Mbps\n",
      "4.1Mbps\n",
      "nan\n",
      "nan\n",
      "nan\n",
      "13 Mbps \n",
      "2.3 Mbps\n",
      "3.1 mbps\n",
      "240Kbps\n",
      "nan\n",
      "870 kbps\n",
      "1.4Mbps\n",
      "3.23; 3.60\n",
      "nan\n",
      "nan\n",
      "nan\n",
      "nan\n",
      "1.2Mbps\n",
      "nan\n",
      "2.7 Mbps \n",
      "5.7 Mbps\n",
      "nan\n",
      "2.4 Mbps\n",
      "920kbps , ISP: MTN 3G https://t.co/Up9BLf9HxK\n",
      "nan\n",
      "1.3 mbps\n",
      "nan\n",
      "nan\n",
      "7.4 Mbps\n",
      "1.2 Mbps\n",
      "nan\n",
      "nan\n",
      "8.1 Mbps\n",
      "nan\n",
      "22 Mbps \n",
      "3.3 Mbps\n",
      "nan\n",
      "nan\n",
      "nan\n",
      "4.5 Mbps\n",
      "1.7 Mbps (yarivuye kuri 490kbps)\n",
      "nan\n",
      "nan\n",
      "nan\n",
      "nan\n",
      "3.2Mbps\n",
      "1.3 Mbps\n",
      "nan\n",
      "120 kbps⬇️ 850 kbps⬆️\n",
      "15Mbps\n",
      "1.6Mbps\n",
      "nan\n",
      "3.8 Mbps\n",
      "1.4 Mbps\n",
      "3.7 \n",
      "65Kbps\n",
      "nan\n",
      "6.6 Mbps\n",
      "17 Mbps \n",
      "nan\n",
      "2.8 Mbps\n",
      "nan\n",
      "3.9 Mbps ()\n",
      "170 Kbps ⬇️ 460 Kbps ⬆️ \n",
      "330 Kbps (☹️)\n",
      "3.9 Mbps\n",
      "3.5 Mbps\n",
      "nan\n",
      "nan\n",
      "1.1 Mbps\n",
      "9.9 Mbps\n",
      "8.5 Mbps\n",
      "7.2 Mbps\n",
      "1.2 Mbps\n",
      "34 Mbps\n",
      "4.6 Mbps\n"
     ]
    },
    {
     "data": {
      "text/plain": [
       "0      4.7\n",
       "1      NaN\n",
       "2      2.5\n",
       "3      7.9\n",
       "4      NaN\n",
       "      ... \n",
       "238    8.5\n",
       "239    7.2\n",
       "240    1.2\n",
       "241     34\n",
       "242    4.6\n",
       "Length: 243, dtype: object"
      ]
     },
     "execution_count": 436,
     "metadata": {},
     "output_type": "execute_result"
    }
   ],
   "source": [
    "data.apply(convert_kps_in_mps , axis='columns')"
   ]
  },
  {
   "cell_type": "code",
   "execution_count": null,
   "metadata": {},
   "outputs": [],
   "source": []
  },
  {
   "cell_type": "code",
   "execution_count": null,
   "metadata": {},
   "outputs": [],
   "source": []
  }
 ],
 "metadata": {
  "kernelspec": {
   "display_name": "Python 3",
   "language": "python",
   "name": "python3"
  },
  "language_info": {
   "codemirror_mode": {
    "name": "ipython",
    "version": 3
   },
   "file_extension": ".py",
   "mimetype": "text/x-python",
   "name": "python",
   "nbconvert_exporter": "python",
   "pygments_lexer": "ipython3",
   "version": "3.6.5"
  }
 },
 "nbformat": 4,
 "nbformat_minor": 4
}
